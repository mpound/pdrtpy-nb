{
 "cells": [
  {
   "cell_type": "markdown",
   "metadata": {},
   "source": [
    "## *PhotoDissociation Region Toolbox Notebooks*\n",
    "---------------------------------------------------------------\n",
    "\n",
    "# Example 2: Introduction to ModelSets\n",
    "\n",
    "PDRT supports a variety of PDR models to be used to fit your data.  \n",
    "\n",
    "The Wolfire/Kaufman 2020 (WK2020) ModelSet contains constant density models for metallicity $z=1$. There are also a WK2006 z=3 and z=0.1 sets, with limited spectral lines. Models are stored as ratios of intensities as a function of radiation field $I_{FUV}$ and hydrogen nucleus volume density $n$. In some cases, the individual intensity models are also available (but fitting with `LineRatioFit` only uses the ratios). We will continue to expand 2020 model set to include a wider range of lines and metallicities.  \n",
    "\n",
    "We also have available [KOSMA-tau](https://astro.uni-koeln.de/stutzki/research/kosma-tau)  ModelSets from Markus Rollig. These are both 'clumpy' and non-clumpy' models with varying mass and $R_v$ value and $z=1$. In a non-clumpy model the mass is of the spherical clump. The density (profile) and the mass determine the clump radius and the total $A_V$ to the clump center. In the clumpy model the mass is the total (ensemble) mass of all clumps which are distributed according to a power law with the mass range $[M_{low}, M_{up}]$. \n",
    "\n",
    "Any PDR models\n",
    "can be used if they are stored in the [correct FITS format](https://docs.google.com/document/d/1hPSUip5RK6nPmqrL8iw3qkX69DVLBv0sAuqac18pLT8/edit?usp=sharing). \n",
    " "
   ]
  },
  {
   "cell_type": "code",
   "execution_count": 1,
   "metadata": {},
   "outputs": [],
   "source": [
    "from pdrtpy.modelset import ModelSet\n",
    "from pdrtpy import pdrutils as utils"
   ]
  },
  {
   "cell_type": "markdown",
   "metadata": {},
   "source": [
    "### all_sets() describes all the ModelSets available. "
   ]
  },
  {
   "cell_type": "code",
   "execution_count": 2,
   "metadata": {
    "scrolled": true
   },
   "outputs": [
    {
     "data": {
      "text/html": [
       "<i>Table length=45</i>\n",
       "<table id=\"table140344234386912-927322\" class=\"table-striped table-bordered table-condensed\">\n",
       "<thead><tr><th>idx</th><th>PDR code</th><th>name</th><th>version</th><th>medium</th><th>z</th><th>mass</th><th>description</th></tr></thead>\n",
       "<thead><tr><th></th><th></th><th></th><th></th><th></th><th></th><th>solMass</th><th></th></tr></thead>\n",
       "<tr><td>0</td><td>Wolfire/Kaufman</td><td>wk2006</td><td>2006</td><td>constant density</td><td>1.0</td><td>--</td><td>Wolfire/Kaufman 2006 constant density models</td></tr>\n",
       "<tr><td>1</td><td>Wolfire/Kaufman</td><td>wk2006</td><td>2006</td><td>constant density</td><td>3.0</td><td>--</td><td>Wolfire/Kaufman 2006 constant density models</td></tr>\n",
       "<tr><td>2</td><td>Wolfire/Kaufman</td><td>wk2020</td><td>2020</td><td>constant density</td><td>1.0</td><td>--</td><td>Wolfire/Kaufman 2020 constant density models, $A_V$=7, no freeze-out</td></tr>\n",
       "<tr><td>3</td><td>Wolfire/Kaufman</td><td>smc</td><td>2006</td><td>constant density</td><td>0.1</td><td>--</td><td>Wolfire/Kaufman 2006 limited set of constant density models for Small Magellanic Cloud</td></tr>\n",
       "<tr><td>4</td><td>Wolfire/Kaufman</td><td>lmc</td><td>2020</td><td>constant density</td><td>0.5</td><td>--</td><td>Wolfire/Kaufman 2020 limited set of constant density models for Large Magellanic Cloud, surface chemistry turned off</td></tr>\n",
       "<tr><td>5</td><td>KOSMA-tau</td><td>kt2013wd01-7</td><td>WD01-7</td><td>clumpy</td><td>1.0</td><td>100.0</td><td>KOSMA-tau 2013 models, Weingarter &amp; Draine 2001 $R_V$=3.1, clumpy, maximum clump mass = 100 M$_\\odot$</td></tr>\n",
       "<tr><td>6</td><td>KOSMA-tau</td><td>kt2013wd01-7</td><td>WD01-7</td><td>non-clumpy</td><td>1.0</td><td>100.0</td><td>KOSMA-tau 2013 models, Weingarter &amp; Draine 2001 $R_V$=3.1, non-clumpy, single clump 100 M$_\\odot$</td></tr>\n",
       "<tr><td>7</td><td>KOSMA-tau</td><td>kt2013wd01-21</td><td>WD01-21</td><td>clumpy</td><td>1.0</td><td>100.0</td><td>KOSMA-tau 2013 models, Weingarter &amp; Draine 2001 $R_V$=4.0, clumpy, maximum clump mass = 100 M$_\\odot$</td></tr>\n",
       "<tr><td>8</td><td>KOSMA-tau</td><td>kt2013wd01-21</td><td>WD01-21</td><td>non-clumpy</td><td>1.0</td><td>100.0</td><td>KOSMA-tau 2013 models, Weingarter &amp; Draine 2001 $R_V$=4.0, non-clumpy, single clump 100 M$_\\odot$</td></tr>\n",
       "<tr><td>9</td><td>KOSMA-tau</td><td>kt2013wd01-25</td><td>WD01-25</td><td>clumpy</td><td>1.0</td><td>100.0</td><td>KOSMA-tau 2013 models, Weingarter &amp; Draine 2001 $R_V$=5.5, clumpy, maximum clump mass = 100 M$_\\odot$</td></tr>\n",
       "<tr><td>10</td><td>KOSMA-tau</td><td>kt2013wd01-25</td><td>WD01-25</td><td>non-clumpy</td><td>1.0</td><td>100.0</td><td>KOSMA-tau 2013 models, Weingarter &amp; Draine 2001 $R_V$=5.5, non-clumpy, single clump 100 M$_\\odot$</td></tr>\n",
       "<tr><td>11</td><td>KOSMA-tau</td><td>kt2013wd01-7</td><td>WD01-7</td><td>clumpy</td><td>1.0</td><td>10.0</td><td>KOSMA-tau 2013 models, Weingarter &amp; Draine 2001 $R_V$=3.1, clumpy, maximum clump mass = 10 M$_\\odot$</td></tr>\n",
       "<tr><td>12</td><td>KOSMA-tau</td><td>kt2013wd01-7</td><td>WD01-7</td><td>non-clumpy</td><td>1.0</td><td>10.0</td><td>KOSMA-tau 2013 models, Weingarter &amp; Draine 2001 $R_V$=3.1, non-clumpy, single clump 10 M$_\\odot$</td></tr>\n",
       "<tr><td>13</td><td>KOSMA-tau</td><td>kt2013wd01-21</td><td>WD01-21</td><td>clumpy</td><td>1.0</td><td>10.0</td><td>KOSMA-tau 2013 models, Weingarter &amp; Draine 2001 $R_V$=4.0, clumpy, maximum clump mass = 10 M$_\\odot$</td></tr>\n",
       "<tr><td>14</td><td>KOSMA-tau</td><td>kt2013wd01-21</td><td>WD01-21</td><td>non-clumpy</td><td>1.0</td><td>10.0</td><td>KOSMA-tau 2013 models, Weingarter &amp; Draine 2001 $R_V$=4.0, non-clumpy, single clump 10 M$_\\odot$</td></tr>\n",
       "<tr><td>15</td><td>KOSMA-tau</td><td>kt2013wd01-25</td><td>WD01-25</td><td>clumpy</td><td>1.0</td><td>10.0</td><td>KOSMA-tau 2013 models, Weingarter &amp; Draine 2001 $R_V$=5.5, clumpy, maximum clump mass = 10 M$_\\odot$</td></tr>\n",
       "<tr><td>16</td><td>KOSMA-tau</td><td>kt2013wd01-25</td><td>WD01-25</td><td>non-clumpy</td><td>1.0</td><td>10.0</td><td>KOSMA-tau 2013 models, Weingarter &amp; Draine 2001 $R_V$=5.5, non-clumpy, single clump 10 M$_\\odot$</td></tr>\n",
       "<tr><td>17</td><td>KOSMA-tau</td><td>kt2013wd01-7</td><td>WD01-7</td><td>clumpy</td><td>1.0</td><td>1.0</td><td>KOSMA-tau 2013 models, Weingarter &amp; Draine 2001 $R_V$=3.1, clumpy, maximum clump mass = 1 M$_\\odot$</td></tr>\n",
       "<tr><td>18</td><td>KOSMA-tau</td><td>kt2013wd01-7</td><td>WD01-7</td><td>non-clumpy</td><td>1.0</td><td>1.0</td><td>KOSMA-tau 2013 models, Weingarter &amp; Draine 2001 $R_V$=3.1, non-clumpy, single clump 1 M$_\\odot$</td></tr>\n",
       "<tr><td>19</td><td>KOSMA-tau</td><td>kt2013wd01-21</td><td>WD01-21</td><td>clumpy</td><td>1.0</td><td>1.0</td><td>KOSMA-tau 2013 models, Weingarter &amp; Draine 2001 $R_V$=4.0, clumpy, maximum clump mass = 1 M$_\\odot$</td></tr>\n",
       "<tr><td>20</td><td>KOSMA-tau</td><td>kt2013wd01-21</td><td>WD01-21</td><td>non-clumpy</td><td>1.0</td><td>1.0</td><td>KOSMA-tau 2013 models, Weingarter &amp; Draine 2001 $R_V$=4.0, non-clumpy, single clump 1 M$_\\odot$</td></tr>\n",
       "<tr><td>21</td><td>KOSMA-tau</td><td>kt2013wd01-25</td><td>WD01-25</td><td>clumpy</td><td>1.0</td><td>1.0</td><td>KOSMA-tau 2013 models, Weingarter &amp; Draine 2001 $R_V$=5.5, clumpy, maximum clump mass =  1 M$_\\odot$</td></tr>\n",
       "<tr><td>22</td><td>KOSMA-tau</td><td>kt2013wd01-25</td><td>WD01-25</td><td>non-clumpy</td><td>1.0</td><td>1.0</td><td>KOSMA-tau 2013 models, Weingarter &amp; Draine 2001 $R_V$=5.5, non-clumpy, single clump 1 M$_\\odot$</td></tr>\n",
       "<tr><td>23</td><td>KOSMA-tau</td><td>kt2013wd01-7</td><td>WD01-7</td><td>clumpy</td><td>1.0</td><td>0.1</td><td>KOSMA-tau 2013 models, Weingarter &amp; Draine 2001 $R_V$=3.1, clumpy, maximum clump mass =  0.1 M$_\\odot$</td></tr>\n",
       "<tr><td>24</td><td>KOSMA-tau</td><td>kt2013wd01-7</td><td>WD01-7</td><td>non-clumpy</td><td>1.0</td><td>0.1</td><td>KOSMA-tau 2013 models, Weingarter &amp; Draine 2001 $R_V$=3.1, non-clumpy, single clump 0.1 M$_\\odot$</td></tr>\n",
       "<tr><td>25</td><td>KOSMA-tau</td><td>kt2013wd01-21</td><td>WD01-21</td><td>clumpy</td><td>1.0</td><td>0.1</td><td>KOSMA-tau 2013 models, Weingarter &amp; Draine 2001 $R_V$=4.0, clumpy, maximum clump mass =  0.1 M$_\\odot$</td></tr>\n",
       "<tr><td>26</td><td>KOSMA-tau</td><td>kt2013wd01-21</td><td>WD01-21</td><td>non-clumpy</td><td>1.0</td><td>0.1</td><td>KOSMA-tau 2013 models, Weingarter &amp; Draine 2001 $R_V$=4.0, non-clumpy, single clump 0.1 M$_\\odot$</td></tr>\n",
       "<tr><td>27</td><td>KOSMA-tau</td><td>kt2013wd01-25</td><td>WD01-25</td><td>clumpy</td><td>1.0</td><td>0.1</td><td>KOSMA-tau 2013 models, Weingarter &amp; Draine 2001 $R_V$=5.5, clumpy, maximum clump mass =  0.1 M$_\\odot$</td></tr>\n",
       "<tr><td>28</td><td>KOSMA-tau</td><td>kt2013wd01-25</td><td>WD01-25</td><td>non-clumpy</td><td>1.0</td><td>0.1</td><td>KOSMA-tau 2013 models, Weingarter &amp; Draine 2001 $R_V$=5.5, non-clumpy, single clump 0.1 M$_\\odot$</td></tr>\n",
       "<tr><td>29</td><td>KOSMA-tau</td><td>kt2013wd01-7</td><td>WD01-7</td><td>clumpy</td><td>1.0</td><td>1000.0</td><td>KOSMA-tau 2013 models, Weingarter &amp; Draine 2001 $R_V$=3.1, clumpy, maximum clump mass = 1000 M$_\\odot$</td></tr>\n",
       "<tr><td>30</td><td>KOSMA-tau</td><td>kt2013wd01-7</td><td>WD01-7</td><td>non-clumpy</td><td>1.0</td><td>1000.0</td><td>KOSMA-tau 2013 models, Weingarter &amp; Draine 2001 $R_V$=3.1, non-clumpy, single clump 1000 M$_\\odot$</td></tr>\n",
       "<tr><td>31</td><td>KOSMA-tau</td><td>kt2013wd01-21</td><td>WD01-21</td><td>clumpy</td><td>1.0</td><td>1000.0</td><td>KOSMA-tau 2013 models, Weingarter &amp; Draine 2001 $R_V$=4.0, clumpy, maximum clump mass = 1000 M$_\\odot$</td></tr>\n",
       "<tr><td>32</td><td>KOSMA-tau</td><td>kt2013wd01-21</td><td>WD01-21</td><td>non-clumpy</td><td>1.0</td><td>1000.0</td><td>KOSMA-tau 2013 models, Weingarter &amp; Draine 2001 $R_V$=4.0, non-clumpy, single clump 1000 M$_\\odot$</td></tr>\n",
       "<tr><td>33</td><td>KOSMA-tau</td><td>kt2013wd01-25</td><td>WD01-25</td><td>clumpy</td><td>1.0</td><td>1000.0</td><td>KOSMA-tau 2013 models, Weingarter &amp; Draine 2001 $R_V$=5.5, clumpy, maximum clump mass = 1000 M$_\\odot$</td></tr>\n",
       "<tr><td>34</td><td>KOSMA-tau</td><td>kt2013wd01-25</td><td>WD01-25</td><td>non-clumpy</td><td>1.0</td><td>1000.0</td><td>KOSMA-tau 2013 models, Weingarter &amp; Draine 2001 $R_V$=5.5, non-clumpy, single clump 1000 M$_\\odot$</td></tr>\n",
       "<tr><td>35</td><td>KOSMA-tau</td><td>kt2020</td><td>2020</td><td>non-clumpy</td><td>1.0</td><td>0.1</td><td>KOSMA-tau 2020 models, computed to match closely the WK2020 models, non-clumpy, single clump 0.1 M$_\\odot$</td></tr>\n",
       "<tr><td>36</td><td>KOSMA-tau</td><td>kt2020</td><td>2020</td><td>non-clumpy</td><td>1.0</td><td>1.0</td><td>KOSMA-tau 2020 models, computed to match closely the WK2020 models, non-clumpy, single clump 1 M$_\\odot$</td></tr>\n",
       "<tr><td>37</td><td>KOSMA-tau</td><td>kt2020</td><td>2020</td><td>non-clumpy</td><td>1.0</td><td>10.0</td><td>KOSMA-tau 2020 models, computed to match closely the WK2020 models, non-clumpy, single clump 10 M$_\\odot$</td></tr>\n",
       "<tr><td>38</td><td>KOSMA-tau</td><td>kt2020</td><td>2020</td><td>non-clumpy</td><td>1.0</td><td>100.0</td><td>KOSMA-tau 2020 models, computed to match closely the WK2020 models, non-clumpy, single clump 100 M$_\\odot$</td></tr>\n",
       "<tr><td>39</td><td>KOSMA-tau</td><td>kt2020</td><td>2020</td><td>non-clumpy</td><td>1.0</td><td>0.0</td><td>KOSMA-tau 2020 models, computed to match closely the WK2020 models, non-clumpy, single clump 1000 M$_\\odot$</td></tr>\n",
       "<tr><td>40</td><td>KOSMA-tau</td><td>kt2020</td><td>2020</td><td>clumpy</td><td>1.0</td><td>0.1</td><td>KOSMA-tau 2020 models, computed to match closely the WK2020 models, clumpy, maximum clump mass 0.1 M$_\\odot$</td></tr>\n",
       "<tr><td>41</td><td>KOSMA-tau</td><td>kt2020</td><td>2020</td><td>clumpy</td><td>1.0</td><td>1.0</td><td>KOSMA-tau 2020 models, computed to match closely the WK2020 models, clumpy, maximum clump mass 1 M$_\\odot$</td></tr>\n",
       "<tr><td>42</td><td>KOSMA-tau</td><td>kt2020</td><td>2020</td><td>clumpy</td><td>1.0</td><td>10.0</td><td>KOSMA-tau 2020 models, computed to match closely the WK2020 models, clumpy, maximum clump mass 10 M$_\\odot$</td></tr>\n",
       "<tr><td>43</td><td>KOSMA-tau</td><td>kt2020</td><td>2020</td><td>clumpy</td><td>1.0</td><td>100.0</td><td>KOSMA-tau 2020 models, computed to match closely the WK2020 models, clumpy, maximum clump mass 100 M$_\\odot$</td></tr>\n",
       "<tr><td>44</td><td>KOSMA-tau</td><td>kt2020</td><td>2020</td><td>clumpy</td><td>1.0</td><td>0.0</td><td>KOSMA-tau 2020 models, computed to match closely the WK2020 models, clumpy, maximum clump mass 1000 M$_\\odot$</td></tr>\n",
       "</table><style>table.dataTable {clear: both; width: auto !important; margin: 0 !important;}\n",
       ".dataTables_info, .dataTables_length, .dataTables_filter, .dataTables_paginate{\n",
       "display: inline-block; margin-right: 1em; }\n",
       ".paginate_button { margin-right: 5px; }\n",
       "</style>\n",
       "<script>\n",
       "\n",
       "var astropy_sort_num = function(a, b) {\n",
       "    var a_num = parseFloat(a);\n",
       "    var b_num = parseFloat(b);\n",
       "\n",
       "    if (isNaN(a_num) && isNaN(b_num))\n",
       "        return ((a < b) ? -1 : ((a > b) ? 1 : 0));\n",
       "    else if (!isNaN(a_num) && !isNaN(b_num))\n",
       "        return ((a_num < b_num) ? -1 : ((a_num > b_num) ? 1 : 0));\n",
       "    else\n",
       "        return isNaN(a_num) ? -1 : 1;\n",
       "}\n",
       "\n",
       "require.config({paths: {\n",
       "    datatables: 'https://cdn.datatables.net/1.10.12/js/jquery.dataTables.min'\n",
       "}});\n",
       "require([\"datatables\"], function(){\n",
       "    console.log(\"$('#table140344234386912-927322').dataTable()\");\n",
       "    \n",
       "jQuery.extend( jQuery.fn.dataTableExt.oSort, {\n",
       "    \"optionalnum-asc\": astropy_sort_num,\n",
       "    \"optionalnum-desc\": function (a,b) { return -astropy_sort_num(a, b); }\n",
       "});\n",
       "\n",
       "    $('#table140344234386912-927322').dataTable({\n",
       "        order: [],\n",
       "        pageLength: 50,\n",
       "        lengthMenu: [[10, 25, 50, 100, 500, 1000, -1], [10, 25, 50, 100, 500, 1000, 'All']],\n",
       "        pagingType: \"full_numbers\",\n",
       "        columnDefs: [{targets: [0, 5, 6], type: \"optionalnum\"}]\n",
       "    });\n",
       "});\n",
       "</script>\n"
      ],
      "text/plain": [
       "<IPython.core.display.HTML object>"
      ]
     },
     "execution_count": 2,
     "metadata": {},
     "output_type": "execute_result"
    }
   ],
   "source": [
    "ModelSet.all_sets().show_in_notebook()"
   ]
  },
  {
   "cell_type": "markdown",
   "metadata": {},
   "source": [
    "### Instantiate the KOSMA-tau 2013 clumpy, 10 $M_\\odot$, $R_v$=5.5 models for z=1. "
   ]
  },
  {
   "cell_type": "code",
   "execution_count": 3,
   "metadata": {},
   "outputs": [],
   "source": [
    "ms = ModelSet(\"kt2013wd01-25\",medium=\"clumpy\",mass=10,z=1)"
   ]
  },
  {
   "cell_type": "code",
   "execution_count": 4,
   "metadata": {},
   "outputs": [
    {
     "data": {
      "text/html": [
       "<div><i>Table length=41</i>\n",
       "<table id=\"table140342414732496\" class=\"table-striped table-bordered table-condensed\">\n",
       "<thead><tr><th>title</th><th>ratio label</th></tr></thead>\n",
       "<thead><tr><th>str50</th><th>str18</th></tr></thead>\n",
       "<tr><td>[O I] 145 $\\mu$m/[O I] 63 $\\mu$m</td><td>OI_145/OI_63</td></tr>\n",
       "<tr><td>[O I] 145 $\\mu$m/[C II] 158 $\\mu$m</td><td>OI_145/CII_158</td></tr>\n",
       "<tr><td>[O I] 63 $\\mu$m/[C II] 158 $\\mu$m</td><td>OI_63/CII_158</td></tr>\n",
       "<tr><td>[C II] 158 $\\mu$m/[C I] 609 $\\mu$m</td><td>CII_158/CI_609</td></tr>\n",
       "<tr><td>[C I] 370 $\\mu$m/[C I] 609 $\\mu$m</td><td>CI_370/CI_609</td></tr>\n",
       "<tr><td>...</td><td>...</td></tr>\n",
       "<tr><td>CO(J=13-12)/CO(J=6-5)</td><td>CO_1312/CO_65</td></tr>\n",
       "<tr><td>CO(J=14-13)/CO(J=5-4)</td><td>CO_1413/CO_54</td></tr>\n",
       "<tr><td>CO(J=14-13)/CO(J=6-5)</td><td>CO_1413/CO_65</td></tr>\n",
       "<tr><td>([O I] 63 $\\mu$m + [C II] 158 $\\mu$m) / I$_{FIR}$</td><td>OI_63+CII_158/FIR</td></tr>\n",
       "<tr><td>([O I] 145 $\\mu$m + [C II] 158 $\\mu$m) / I$_{FIR}$</td><td>OI_145+CII_158/FIR</td></tr>\n",
       "</table></div>"
      ],
      "text/plain": [
       "<Table length=41>\n",
       "                      title                           ratio label    \n",
       "                      str50                              str18       \n",
       "-------------------------------------------------- ------------------\n",
       "                  [O I] 145 $\\mu$m/[O I] 63 $\\mu$m       OI_145/OI_63\n",
       "                [O I] 145 $\\mu$m/[C II] 158 $\\mu$m     OI_145/CII_158\n",
       "                 [O I] 63 $\\mu$m/[C II] 158 $\\mu$m      OI_63/CII_158\n",
       "                [C II] 158 $\\mu$m/[C I] 609 $\\mu$m     CII_158/CI_609\n",
       "                 [C I] 370 $\\mu$m/[C I] 609 $\\mu$m      CI_370/CI_609\n",
       "                                               ...                ...\n",
       "                             CO(J=13-12)/CO(J=6-5)      CO_1312/CO_65\n",
       "                             CO(J=14-13)/CO(J=5-4)      CO_1413/CO_54\n",
       "                             CO(J=14-13)/CO(J=6-5)      CO_1413/CO_65\n",
       " ([O I] 63 $\\mu$m + [C II] 158 $\\mu$m) / I$_{FIR}$  OI_63+CII_158/FIR\n",
       "([O I] 145 $\\mu$m + [C II] 158 $\\mu$m) / I$_{FIR}$ OI_145+CII_158/FIR"
      ]
     },
     "execution_count": 4,
     "metadata": {},
     "output_type": "execute_result"
    }
   ],
   "source": [
    "ms._supported_ratios"
   ]
  },
  {
   "cell_type": "markdown",
   "metadata": {},
   "source": [
    "### Show the model intensities and ratios that are available in this ModelSet\n",
    "`supported_intensities` and `supported_ratios` is an astropy Table, invoke *show_in_notebook()* to see all the rows.  There may be more ratios than lines because not all components of a ratio may be available as separate models."
   ]
  },
  {
   "cell_type": "code",
   "execution_count": 5,
   "metadata": {},
   "outputs": [
    {
     "data": {
      "text/html": [
       "<div><i>Table length=1</i>\n",
       "<table id=\"table140342413634624\" class=\"table-striped table-bordered table-condensed\">\n",
       "<thead><tr><th>title</th><th>intensity label</th></tr></thead>\n",
       "<thead><tr><th>null</th><th></th></tr></thead>\n",
       "<thead><tr><th>str50</th><th>str18</th></tr></thead>\n",
       "<tr><td>I$_{FIR}$</td><td>FIR</td></tr>\n",
       "</table></div>"
      ],
      "text/plain": [
       "<Table length=1>\n",
       "  title   intensity label\n",
       "   null                  \n",
       "  str50        str18     \n",
       "--------- ---------------\n",
       "I$_{FIR}$             FIR"
      ]
     },
     "execution_count": 5,
     "metadata": {},
     "output_type": "execute_result"
    }
   ],
   "source": [
    "ms.supported_intensities"
   ]
  },
  {
   "cell_type": "markdown",
   "metadata": {},
   "source": [
    "Every model has a one-line description. You can query a ModelSet to find which spectral lines (your observations) are supported and which model ratios it has for your lines."
   ]
  },
  {
   "cell_type": "code",
   "execution_count": 6,
   "metadata": {},
   "outputs": [
    {
     "name": "stdout",
     "output_type": "stream",
     "text": [
      "KOSMA-tau 2013 models, Weingarter & Draine 2001 $R_V$=5.5, clumpy, maximum clump mass = 10 M$_\\odot$, Z=1.0\n",
      "There are 4 ratios in the kt2013wd01-25 ModelSet for the lines ['CII_158', 'OI_145', 'FIR', 'CI_609', 'CO_65']:\n",
      "['CII_158/CI_609', 'CII_158/CO_65', 'OI_145/CII_158', 'OI_145+CII_158/FIR']\n",
      "\n",
      "They are located in:\n",
      "('CII_158/CI_609', 'kosmatau/2013/WD01-25/clumpy/Z=1/M=10/CII158_CI609.fits')\n",
      "('CII_158/CO_65', 'kosmatau/2013/WD01-25/clumpy/Z=1/M=10/CII158_CO65.fits')\n",
      "('OI_145/CII_158', 'kosmatau/2013/WD01-25/clumpy/Z=1/M=10/OI145_CII158.fits')\n",
      "('OI_145+CII_158/FIR', 'kosmatau/2013/WD01-25/clumpy/Z=1/M=10/OI145+CII158_FIR.fits')\n"
     ]
    }
   ],
   "source": [
    "print(ms.description)\n",
    "\n",
    "mylines =[\"CII_158\",\"OI_145\",\"FIR\",\"CI_609\",\"CO_65\"]\n",
    "print(\"There are %d ratios in the %s ModelSet for the lines %s:\"%(ms.ratiocount(mylines),ms.name,mylines))\n",
    "print(ms.model_ratios(mylines))\n",
    "\n",
    "# If you want to see the actual FITS file names. The root of the path is where your pdrtpy is installed.\n",
    "print(\"\\nThey are located in:\")\n",
    "for p in ms.find_files(mylines):\n",
    "    print(p)"
   ]
  },
  {
   "cell_type": "markdown",
   "metadata": {},
   "source": [
    "## How to access a single model\n",
    "This example returns the model for \\[C II\\] 158 $\\mu$m/CO(4-3) intensity ratio. The access key is the tag in the `ratio label` in the supported ratios table above.  The model is returned as a `pdrtpy.measurement.Measurement`"
   ]
  },
  {
   "cell_type": "code",
   "execution_count": 7,
   "metadata": {},
   "outputs": [
    {
     "name": "stdout",
     "output_type": "stream",
     "text": [
      "CII_158/CO_43 Min value:4.9e-06 Max value:9.7e+08\n",
      "Density units: 1 / cm3, radiation field units: erg / (cm2 s)\n"
     ]
    }
   ],
   "source": [
    "cico = ms.get_model(\"CII_158/CO_43\")\n",
    "print(f\"{cico.id} Min value:{cico.data.min():.1e} Max value:{cico.data.max():.1e}\")\n",
    "print(f\"Density units: {cico.header['CUNIT1']}, radiation field units: {cico.header['CUNIT2']}\")"
   ]
  },
  {
   "cell_type": "code",
   "execution_count": 8,
   "metadata": {},
   "outputs": [
    {
     "data": {
      "text/html": [
       "<div><i>Table length=41</i>\n",
       "<table id=\"table140342414732496\" class=\"table-striped table-bordered table-condensed\">\n",
       "<thead><tr><th>title</th><th>ratio label</th></tr></thead>\n",
       "<thead><tr><th>str50</th><th>str18</th></tr></thead>\n",
       "<tr><td>[O I] 145 $\\mu$m/[O I] 63 $\\mu$m</td><td>OI_145/OI_63</td></tr>\n",
       "<tr><td>[O I] 145 $\\mu$m/[C II] 158 $\\mu$m</td><td>OI_145/CII_158</td></tr>\n",
       "<tr><td>[O I] 63 $\\mu$m/[C II] 158 $\\mu$m</td><td>OI_63/CII_158</td></tr>\n",
       "<tr><td>[C II] 158 $\\mu$m/[C I] 609 $\\mu$m</td><td>CII_158/CI_609</td></tr>\n",
       "<tr><td>[C I] 370 $\\mu$m/[C I] 609 $\\mu$m</td><td>CI_370/CI_609</td></tr>\n",
       "<tr><td>...</td><td>...</td></tr>\n",
       "<tr><td>CO(J=13-12)/CO(J=6-5)</td><td>CO_1312/CO_65</td></tr>\n",
       "<tr><td>CO(J=14-13)/CO(J=5-4)</td><td>CO_1413/CO_54</td></tr>\n",
       "<tr><td>CO(J=14-13)/CO(J=6-5)</td><td>CO_1413/CO_65</td></tr>\n",
       "<tr><td>([O I] 63 $\\mu$m + [C II] 158 $\\mu$m) / I$_{FIR}$</td><td>OI_63+CII_158/FIR</td></tr>\n",
       "<tr><td>([O I] 145 $\\mu$m + [C II] 158 $\\mu$m) / I$_{FIR}$</td><td>OI_145+CII_158/FIR</td></tr>\n",
       "</table></div>"
      ],
      "text/plain": [
       "<Table length=41>\n",
       "                      title                           ratio label    \n",
       "                      str50                              str18       \n",
       "-------------------------------------------------- ------------------\n",
       "                  [O I] 145 $\\mu$m/[O I] 63 $\\mu$m       OI_145/OI_63\n",
       "                [O I] 145 $\\mu$m/[C II] 158 $\\mu$m     OI_145/CII_158\n",
       "                 [O I] 63 $\\mu$m/[C II] 158 $\\mu$m      OI_63/CII_158\n",
       "                [C II] 158 $\\mu$m/[C I] 609 $\\mu$m     CII_158/CI_609\n",
       "                 [C I] 370 $\\mu$m/[C I] 609 $\\mu$m      CI_370/CI_609\n",
       "                                               ...                ...\n",
       "                             CO(J=13-12)/CO(J=6-5)      CO_1312/CO_65\n",
       "                             CO(J=14-13)/CO(J=5-4)      CO_1413/CO_54\n",
       "                             CO(J=14-13)/CO(J=6-5)      CO_1413/CO_65\n",
       " ([O I] 63 $\\mu$m + [C II] 158 $\\mu$m) / I$_{FIR}$  OI_63+CII_158/FIR\n",
       "([O I] 145 $\\mu$m + [C II] 158 $\\mu$m) / I$_{FIR}$ OI_145+CII_158/FIR"
      ]
     },
     "execution_count": 8,
     "metadata": {},
     "output_type": "execute_result"
    }
   ],
   "source": [
    "ms.supported_ratios"
   ]
  },
  {
   "cell_type": "markdown",
   "metadata": {},
   "source": [
    "## Probe the ratio or intensity values in a model\n",
    "Once you have a model you can use the `get` function to discover the model value at a particular density and radiation field.  You must give the density and radiation field in the units of the model.  For WK2020, this is cm$^{-3}$ and erg cm$^{-2}$ s$^{-1}$.  However, you can use astropy's `Quantity` to convert for you."
   ]
  },
  {
   "cell_type": "code",
   "execution_count": 9,
   "metadata": {},
   "outputs": [
    {
     "data": {
      "text/plain": [
       "array([256.03939574])"
      ]
     },
     "execution_count": 9,
     "metadata": {},
     "output_type": "execute_result"
    }
   ],
   "source": [
    "n=1234.5\n",
    "rf=0.6789\n",
    "cico.get(n,rf)"
   ]
  },
  {
   "cell_type": "markdown",
   "metadata": {},
   "source": [
    "#### Now suppose you want to use Habing for the radiation field\n",
    "Use Quantity to convert and pass the value to `get`."
   ]
  },
  {
   "cell_type": "code",
   "execution_count": 10,
   "metadata": {},
   "outputs": [
    {
     "name": "stdout",
     "output_type": "stream",
     "text": [
      "3.68e-03 erg / (cm2 s)\n"
     ]
    },
    {
     "data": {
      "text/plain": [
       "array([3.32513494])"
      ]
     },
     "execution_count": 10,
     "metadata": {},
     "output_type": "execute_result"
    }
   ],
   "source": [
    "from astropy.units import Quantity\n",
    "rf=Quantity(2.3,'Habing')\n",
    "print(f\"{rf.to(cico.header['CUNIT2']):0.2e}\")\n",
    "cico.get(n,rf.to(cico.header['CUNIT2']).value)"
   ]
  },
  {
   "cell_type": "markdown",
   "metadata": {},
   "source": [
    "### How to access multiple models\n",
    "Suppose you want to find all the models that use some combination of CO(J=1-0), \\[C II\\] 158 $\\mu$m, \\[O I\\] 145 $\\mu$m, and $I_{FIR}$. This example gets both intensity and ratio models, though you can specify `model_type='intensity'` or `model_type='ratio'` to get one or the other.  The models are returns as a dictionary with the keys set to the model IDs."
   ]
  },
  {
   "cell_type": "code",
   "execution_count": 11,
   "metadata": {},
   "outputs": [],
   "source": [
    "mods = ms.get_models([\"CII_158\",\"OI_145\", \"CO_10\", \"FIR\"],model_type='both')"
   ]
  },
  {
   "cell_type": "markdown",
   "metadata": {},
   "source": [
    "#### The returned models are three ratio models and one intensity model"
   ]
  },
  {
   "cell_type": "code",
   "execution_count": 12,
   "metadata": {},
   "outputs": [
    {
     "data": {
      "text/plain": [
       "dict_keys(['FIR', 'CII_158/CO_10', 'OI_145/CII_158', 'OI_145+CII_158/FIR'])"
      ]
     },
     "execution_count": 12,
     "metadata": {},
     "output_type": "execute_result"
    }
   ],
   "source": [
    "mods.keys()"
   ]
  },
  {
   "cell_type": "code",
   "execution_count": 13,
   "metadata": {},
   "outputs": [
    {
     "name": "stdout",
     "output_type": "stream",
     "text": [
      "1901273803.7736897\n"
     ]
    }
   ],
   "source": [
    "# average value of one of the models\n",
    "print(mods['CII_158/CO_10'].data.mean())"
   ]
  }
 ],
 "metadata": {
  "kernelspec": {
   "display_name": "Python 3 (ipykernel)",
   "language": "python",
   "name": "python3"
  },
  "language_info": {
   "codemirror_mode": {
    "name": "ipython",
    "version": 3
   },
   "file_extension": ".py",
   "mimetype": "text/x-python",
   "name": "python",
   "nbconvert_exporter": "python",
   "pygments_lexer": "ipython3",
   "version": "3.9.7"
  }
 },
 "nbformat": 4,
 "nbformat_minor": 4
}
