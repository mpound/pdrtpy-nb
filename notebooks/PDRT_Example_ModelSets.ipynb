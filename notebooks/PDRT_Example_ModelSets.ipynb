{
 "cells": [
  {
   "cell_type": "markdown",
   "metadata": {},
   "source": [
    "## *PhotoDissociation Region Toolbox Notebooks*\n",
    "---------------------------------------------------------------\n",
    "\n",
    "# Example 2: Introduction to ModelSets\n",
    "\n",
    "PDRT supports a variety of PDR models to be used to fit your data.  The current default are the Wolfire/Kaufman 2006 constant density models for metallicities z=1. There are also a WK2006 z=3 and z=0.1 sets and a new 2020 z=1 model set, all with limited spectral lines. Models are stored as ratios of intensities as a function of radiation field $G_0$ and hydrogen nucleus volume density $n$. We are expanding the 2020 model set now to include a  wider range of lines and metallicities.  Any PDR models\n",
    "can be used if they are stored in the [correct FITS format](https://docs.google.com/document/d/1hPSUip5RK6nPmqrL8iw3qkX69DVLBv0sAuqac18pLT8/edit?usp=sharing).  We are currently working with Marcus Rollig to import the KosmaTau models.\n",
    " "
   ]
  },
  {
   "cell_type": "code",
   "execution_count": 1,
   "metadata": {},
   "outputs": [
    {
     "name": "stderr",
     "output_type": "stream",
     "text": [
      "/home/mpound/anaconda3/lib/python3.7/site-packages/astropy/table/column.py:1161: FutureWarning: elementwise comparison failed; returning scalar instead, but in the future will perform elementwise comparison\n",
      "  result = getattr(super(), op)(other)\n"
     ]
    }
   ],
   "source": [
    "from pdrtpy.modelset import ModelSet\n",
    "from pdrtpy import pdrutils as utils"
   ]
  },
  {
   "cell_type": "code",
   "execution_count": 2,
   "metadata": {},
   "outputs": [
    {
     "name": "stdout",
     "output_type": "stream",
     "text": [
      "Your PDRT notebooks version matches your pdrtpy version -- hooray!\n"
     ]
    }
   ],
   "source": [
    "# check that your notebooks align with your pdrtpy version\n",
    "utils.check_nb()"
   ]
  },
  {
   "cell_type": "markdown",
   "metadata": {},
   "source": [
    "### list() describes all the ModelSets available. \n",
    "(Note `kosmatau` is a placeholder for now to demostrate that external models can be imported.)"
   ]
  },
  {
   "cell_type": "code",
   "execution_count": 3,
   "metadata": {
    "scrolled": true
   },
   "outputs": [
    {
     "name": "stdout",
     "output_type": "stream",
     "text": [
      "  name   version  z                                       description                                      \n",
      "-------- ------- --- --------------------------------------------------------------------------------------\n",
      "wk2006   2006    1.0 Wolfire/Kaufman 2006 constant density models                                          \n",
      "wk2006   2006    3.0 Wolfire/Kaufman 2006 constant density models                                          \n",
      "wk2020   2020    1.0 Wolfire/Kaufman 2020 constant density models, small set, Av=7, no freeze-out          \n",
      "smc      2006    0.1 Wolfire/Kaufman 2006 limited set of constant density models for Small Magellanic Cloud\n",
      "kosmatau X       1.0 Test set KOSMA Tau models, Z=1                                                        \n"
     ]
    }
   ],
   "source": [
    "ModelSet.list()"
   ]
  },
  {
   "cell_type": "markdown",
   "metadata": {},
   "source": [
    "### Instantiate the 2020 Wolfire/Kaufman models for z=1. "
   ]
  },
  {
   "cell_type": "code",
   "execution_count": 4,
   "metadata": {},
   "outputs": [],
   "source": [
    "m = ModelSet(\"wk2006\",z=1)"
   ]
  },
  {
   "cell_type": "markdown",
   "metadata": {},
   "source": [
    "### Show the model spectral lines and ratios that are available in this ModelSet\n",
    "`supported_lines` and `supported_ratios` is an astropy Table, invoke *show_in_notebook()* to see all the rows.  There may be more ratios than lines because not all components of a ratio may be available as separate models."
   ]
  },
  {
   "cell_type": "code",
   "execution_count": 5,
   "metadata": {},
   "outputs": [
    {
     "data": {
      "text/html": [
       "<i>Table length=18</i>\n",
       "<table id=\"table139630601809744-901140\" class=\"table-striped table-bordered table-condensed\">\n",
       "<thead><tr><th>idx</th><th>title</th><th>intensity label</th></tr></thead>\n",
       "<thead><tr><th></th><th>null</th><th></th></tr></thead>\n",
       "<tr><td>0</td><td>[C I] 609 $\\mu$m</td><td>CI_609</td></tr>\n",
       "<tr><td>1</td><td>[C II] 158 $\\mu$m</td><td>CII_158</td></tr>\n",
       "<tr><td>2</td><td>[O I] 145 $\\mu$m</td><td>OI_145</td></tr>\n",
       "<tr><td>3</td><td>[O I] 63 $\\mu$m</td><td>OI_63</td></tr>\n",
       "<tr><td>4</td><td>CO(J=1-0)</td><td>CO_10</td></tr>\n",
       "<tr><td>5</td><td>CO(J=2-1)</td><td>CO_21</td></tr>\n",
       "<tr><td>6</td><td>CO(J=4-3)</td><td>CO_43</td></tr>\n",
       "<tr><td>7</td><td>CO(J=5-4)</td><td>CO_54</td></tr>\n",
       "<tr><td>8</td><td>CO(J=6-5)</td><td>CO_65</td></tr>\n",
       "<tr><td>9</td><td>CO(J=7-6)</td><td>CO_76</td></tr>\n",
       "<tr><td>10</td><td>H$_2$0-0S(0) 28.2$ \\mu$m</td><td>H200S0</td></tr>\n",
       "<tr><td>11</td><td>H$_2$0-0S(1) 17 $\\mu$m</td><td>H200S1</td></tr>\n",
       "<tr><td>12</td><td>H$_2$0-0S(2) 12.3 $\\mu$m</td><td>H200S2</td></tr>\n",
       "<tr><td>13</td><td>H$_2$0-0S(3) 9.7 $\\mu$m</td><td>H200S3</td></tr>\n",
       "<tr><td>14</td><td>H$_2$1-0S(1) 2.12 $\\mu$m</td><td>H210S1</td></tr>\n",
       "<tr><td>15</td><td>[Fe II] 26 $\\mu$m</td><td>FEII_26</td></tr>\n",
       "<tr><td>16</td><td>[S III] 35 $\\mu$m</td><td>SIII_35</td></tr>\n",
       "<tr><td>17</td><td>Surface Temperature</td><td>TS</td></tr>\n",
       "</table><style>table.dataTable {clear: both; width: auto !important; margin: 0 !important;}\n",
       ".dataTables_info, .dataTables_length, .dataTables_filter, .dataTables_paginate{\n",
       "display: inline-block; margin-right: 1em; }\n",
       ".paginate_button { margin-right: 5px; }\n",
       "</style>\n",
       "<script>\n",
       "\n",
       "var astropy_sort_num = function(a, b) {\n",
       "    var a_num = parseFloat(a);\n",
       "    var b_num = parseFloat(b);\n",
       "\n",
       "    if (isNaN(a_num) && isNaN(b_num))\n",
       "        return ((a < b) ? -1 : ((a > b) ? 1 : 0));\n",
       "    else if (!isNaN(a_num) && !isNaN(b_num))\n",
       "        return ((a_num < b_num) ? -1 : ((a_num > b_num) ? 1 : 0));\n",
       "    else\n",
       "        return isNaN(a_num) ? -1 : 1;\n",
       "}\n",
       "\n",
       "require.config({paths: {\n",
       "    datatables: 'https://cdn.datatables.net/1.10.12/js/jquery.dataTables.min'\n",
       "}});\n",
       "require([\"datatables\"], function(){\n",
       "    console.log(\"$('#table139630601809744-901140').dataTable()\");\n",
       "    \n",
       "jQuery.extend( jQuery.fn.dataTableExt.oSort, {\n",
       "    \"optionalnum-asc\": astropy_sort_num,\n",
       "    \"optionalnum-desc\": function (a,b) { return -astropy_sort_num(a, b); }\n",
       "});\n",
       "\n",
       "    $('#table139630601809744-901140').dataTable({\n",
       "        order: [],\n",
       "        pageLength: 50,\n",
       "        lengthMenu: [[10, 25, 50, 100, 500, 1000, -1], [10, 25, 50, 100, 500, 1000, 'All']],\n",
       "        pagingType: \"full_numbers\",\n",
       "        columnDefs: [{targets: [0], type: \"optionalnum\"}]\n",
       "    });\n",
       "});\n",
       "</script>\n"
      ],
      "text/plain": [
       "<IPython.core.display.HTML object>"
      ]
     },
     "execution_count": 5,
     "metadata": {},
     "output_type": "execute_result"
    }
   ],
   "source": [
    "m.supported_lines.show_in_notebook()"
   ]
  },
  {
   "cell_type": "code",
   "execution_count": 6,
   "metadata": {},
   "outputs": [
    {
     "data": {
      "text/html": [
       "<i>Table length=57</i>\n",
       "<table id=\"table139629574296976-368220\" class=\"table-striped table-bordered table-condensed\">\n",
       "<thead><tr><th>idx</th><th>title</th><th>denominator</th><th>ratio label</th></tr></thead>\n",
       "<tr><td>0</td><td>[O I] 145 $\\mu$m / [O I] 63 $\\mu$m</td><td>OI_63</td><td>OI_145/OI_63</td></tr>\n",
       "<tr><td>1</td><td>[O I] 145 $\\mu$m / [C II] 158 $\\mu$m</td><td>CII_158</td><td>OI_145/CII_158</td></tr>\n",
       "<tr><td>2</td><td>[O I] 63 $\\mu$m / [C II] 158 $\\mu$m</td><td>CII_158</td><td>OI_63/CII_158</td></tr>\n",
       "<tr><td>3</td><td>[C II] 158 $\\mu$m / [C I] 609 $\\mu$m</td><td>CI_609</td><td>CII_158/CI_609</td></tr>\n",
       "<tr><td>4</td><td>[C I] 370 $\\mu$m / [C I] 609 $\\mu$m</td><td>CI_609</td><td>CI_370/CI_609</td></tr>\n",
       "<tr><td>5</td><td>[C II] 158 $\\mu$m / CO(J=1-0)</td><td>CO_10</td><td>CII_158/CO_10</td></tr>\n",
       "<tr><td>6</td><td>[C II] 158 $\\mu$m / CO(J=3-2)</td><td>CO_32</td><td>CII_158/CO_32</td></tr>\n",
       "<tr><td>7</td><td>[C II] 158 $\\mu$m / CO(J=6-5)</td><td>CO_65</td><td>CII_158/CO_65</td></tr>\n",
       "<tr><td>8</td><td>[C II] 158 $\\mu$m / I$_{FIR}$</td><td>FIR</td><td>CII_158/FIR</td></tr>\n",
       "<tr><td>9</td><td>[C I] 609 $\\mu$m / CO(J=1-0)</td><td>CO_10</td><td>CI_609/CO_10</td></tr>\n",
       "<tr><td>10</td><td>[C I] 609 $\\mu$m / CO(J=2-1)</td><td>CO_21</td><td>CI_609/CO_21</td></tr>\n",
       "<tr><td>11</td><td>[C I] 609 $\\mu$m / CO(J=3-2)</td><td>CO_32</td><td>CI_609/CO_32</td></tr>\n",
       "<tr><td>12</td><td>[C I] 609 $\\mu$m / CO(J=4-3)</td><td>CO_43</td><td>CI_609/CO_43</td></tr>\n",
       "<tr><td>13</td><td>[C I] 609 $\\mu$m / CO(J=5-4)</td><td>CO_54</td><td>CI_609/CO_54</td></tr>\n",
       "<tr><td>14</td><td>[C I] 609 $\\mu$m / CO(J=6-5)</td><td>CO_65</td><td>CI_609/CO_65</td></tr>\n",
       "<tr><td>15</td><td>CO(J=2-1) / CO(J=1-0)</td><td>CO_10</td><td>CO_21/CO_10</td></tr>\n",
       "<tr><td>16</td><td>CO(J=3-2) / CO(J=1-0)</td><td>CO_10</td><td>CO_32/CO_10</td></tr>\n",
       "<tr><td>17</td><td>CO(J=3-2) / CO(J=2-1)</td><td>CO_21</td><td>CO_32/CO_21</td></tr>\n",
       "<tr><td>18</td><td>CO(J=4-3) / CO(J=1-0)</td><td>CO_10</td><td>CO_43/CO_10</td></tr>\n",
       "<tr><td>19</td><td>CO(J=4-3) / CO(J=2-1)</td><td>CO_21</td><td>CO_43/CO_21</td></tr>\n",
       "<tr><td>20</td><td>CO(J=6-5) / CO(J=1-0)</td><td>CO_10</td><td>CO_65/CO_10</td></tr>\n",
       "<tr><td>21</td><td>CO(J=6-5) / CO(J=2-1)</td><td>CO_21</td><td>CO_65/CO_21</td></tr>\n",
       "<tr><td>22</td><td>CO(J=6-5) / CO(J=3-2)</td><td>CO_32</td><td>CO_65/CO_32</td></tr>\n",
       "<tr><td>23</td><td>CO(J=6-5) / CO(J=5-4)</td><td>CO_54</td><td>CO_65/CO_54</td></tr>\n",
       "<tr><td>24</td><td>CO(J=7-6) / CO(J=1-0)</td><td>CO_10</td><td>CO_76/CO_10</td></tr>\n",
       "<tr><td>25</td><td>CO(J=7-6) / CO(J=2-1)</td><td>CO_21</td><td>CO_76/CO_21</td></tr>\n",
       "<tr><td>26</td><td>CO(J=7-6) / CO(J=4-3)</td><td>CO_43</td><td>CO_76/CO_43</td></tr>\n",
       "<tr><td>27</td><td>CO(J=7-6) / CO(J=5-4)</td><td>CO_54</td><td>CO_76/CO_54</td></tr>\n",
       "<tr><td>28</td><td>CO(J=7-6) / CO(J=6-5)</td><td>CO_65</td><td>CO_76/CO_65</td></tr>\n",
       "<tr><td>29</td><td>CO(J=8-7) / CO(J=5-4)</td><td>CO_54</td><td>CO_87/CO_54</td></tr>\n",
       "<tr><td>30</td><td>CO(J=8-7) / CO(J=6-5)</td><td>CO_65</td><td>CO_87/CO_65</td></tr>\n",
       "<tr><td>31</td><td>CO(J=9-8) / CO(J=5-4)</td><td>CO_54</td><td>CO_98/CO_54</td></tr>\n",
       "<tr><td>32</td><td>CO(J=9-8) / CO(J=6-5)</td><td>CO_65</td><td>CO_98/CO_65</td></tr>\n",
       "<tr><td>33</td><td>CO(J=10-9) / CO(J=5-4)</td><td>CO_54</td><td>CO_109/CO_54</td></tr>\n",
       "<tr><td>34</td><td>CO(J=10-9) / CO(J=6-5)</td><td>CO_65</td><td>CO_109/CO_65</td></tr>\n",
       "<tr><td>35</td><td>CO(J=10-9) / CO(J=7-6)</td><td>CO_76</td><td>CO_109/CO_76</td></tr>\n",
       "<tr><td>36</td><td>CO(J=11-10) / CO(J=5-4)</td><td>CO_54</td><td>CO_1110/CO_54</td></tr>\n",
       "<tr><td>37</td><td>CO(J=11-10) / CO(J=6-5)</td><td>CO_65</td><td>CO_1110/CO_65</td></tr>\n",
       "<tr><td>38</td><td>CO(J=12-11) / CO(J=5-4)</td><td>CO_54</td><td>CO_1211/CO_54</td></tr>\n",
       "<tr><td>39</td><td>CO(J=12-11) / CO(J=6-5)</td><td>CO_65</td><td>CO_1211/CO_65</td></tr>\n",
       "<tr><td>40</td><td>CO(J=13-12) / CO(J=5-4)</td><td>CO_54</td><td>CO_1312/CO_54</td></tr>\n",
       "<tr><td>41</td><td>CO(J=13-12) / CO(J=6-5)</td><td>CO_65</td><td>CO_1312/CO_65</td></tr>\n",
       "<tr><td>42</td><td>CO(J=14-13) / CO(J=5-4)</td><td>CO_54</td><td>CO_1413/CO_54</td></tr>\n",
       "<tr><td>43</td><td>CO(J=14-13) / CO(J=6-5)</td><td>CO_65</td><td>CO_1413/CO_65</td></tr>\n",
       "<tr><td>44</td><td>[C I] 609 $\\mu$m / I$_{FIR}$</td><td>FIR</td><td>CI_609/FIR</td></tr>\n",
       "<tr><td>45</td><td>([O I] 63 $\\mu$m + [C II] 158 $\\mu$m) / I$_{FIR}$</td><td>FIR</td><td>OI_63+CII_158/FIR</td></tr>\n",
       "<tr><td>46</td><td>([O I] 145 $\\mu$m + [C II] 158 $\\mu$m) / I$_{FIR}$</td><td>FIR</td><td>OI_145+CII_158/FIR</td></tr>\n",
       "<tr><td>47</td><td>[S III] 35 $\\mu$m / [Fe II] 26 $\\mu$m</td><td>FEII_26</td><td>SIII_35/FEII_26</td></tr>\n",
       "<tr><td>48</td><td>H$_2$0-0S(1) 17 $\\mu$m / H$_2$0-0S(0) 28.2$ \\mu$m</td><td>H200S0</td><td>H200S1/H200S0</td></tr>\n",
       "<tr><td>49</td><td>H$_2$0-0S(2) 12.3 $\\mu$m / H$_2$0-0S(0) 28.2$ \\mu$m</td><td>H200S0</td><td>H200S2/H200S0</td></tr>\n",
       "<tr><td>50</td><td>H$_2$0-0S(2) 12.3 $\\mu$m / H$_2$0-0S(1) 17$ \\mu$m</td><td>H200S1</td><td>H200S2/H200S1</td></tr>\n",
       "<tr><td>51</td><td>H$_2$0-0S(3) 9.7 $\\mu$m / H$_2$0-0S(1) 17$ \\mu$m</td><td>H200S1</td><td>H200S3/H200S1</td></tr>\n",
       "<tr><td>52</td><td>H$_2$0-0S(1) 17 $\\mu$m / [S III] 35 $\\mu$m</td><td>SIII_35</td><td>H200S1/SIII_35</td></tr>\n",
       "<tr><td>53</td><td>H$_2$0-0S(2) 12.3 $\\mu$m / [S III] 35 $\\mu$m</td><td>SIII_35</td><td>H200S2/SIII_35</td></tr>\n",
       "<tr><td>54</td><td>H$_2$6-5Q(1) 1.6 $\\mu$m / H$_2$1-0S(1) 2.12 $\\mu$m</td><td>H210S1</td><td>H264Q11/H210S1</td></tr>\n",
       "<tr><td>55</td><td>[Fe II] 1.60 $\\mu$m/[Fe II] 1.64 $\\mu$m</td><td>FEII_1.64</td><td>FEII_1.60/FEII_1.64</td></tr>\n",
       "<tr><td>56</td><td>[Fe II] 1.64 $\\mu$m/[Fe II] 5.34 $\\mu$m</td><td>FEII_5.34</td><td>FEII_1.64/FEII_5.34</td></tr>\n",
       "</table><style>table.dataTable {clear: both; width: auto !important; margin: 0 !important;}\n",
       ".dataTables_info, .dataTables_length, .dataTables_filter, .dataTables_paginate{\n",
       "display: inline-block; margin-right: 1em; }\n",
       ".paginate_button { margin-right: 5px; }\n",
       "</style>\n",
       "<script>\n",
       "\n",
       "var astropy_sort_num = function(a, b) {\n",
       "    var a_num = parseFloat(a);\n",
       "    var b_num = parseFloat(b);\n",
       "\n",
       "    if (isNaN(a_num) && isNaN(b_num))\n",
       "        return ((a < b) ? -1 : ((a > b) ? 1 : 0));\n",
       "    else if (!isNaN(a_num) && !isNaN(b_num))\n",
       "        return ((a_num < b_num) ? -1 : ((a_num > b_num) ? 1 : 0));\n",
       "    else\n",
       "        return isNaN(a_num) ? -1 : 1;\n",
       "}\n",
       "\n",
       "require.config({paths: {\n",
       "    datatables: 'https://cdn.datatables.net/1.10.12/js/jquery.dataTables.min'\n",
       "}});\n",
       "require([\"datatables\"], function(){\n",
       "    console.log(\"$('#table139629574296976-368220').dataTable()\");\n",
       "    \n",
       "jQuery.extend( jQuery.fn.dataTableExt.oSort, {\n",
       "    \"optionalnum-asc\": astropy_sort_num,\n",
       "    \"optionalnum-desc\": function (a,b) { return -astropy_sort_num(a, b); }\n",
       "});\n",
       "\n",
       "    $('#table139629574296976-368220').dataTable({\n",
       "        order: [],\n",
       "        pageLength: 50,\n",
       "        lengthMenu: [[10, 25, 50, 100, 500, 1000, -1], [10, 25, 50, 100, 500, 1000, 'All']],\n",
       "        pagingType: \"full_numbers\",\n",
       "        columnDefs: [{targets: [0], type: \"optionalnum\"}]\n",
       "    });\n",
       "});\n",
       "</script>\n"
      ],
      "text/plain": [
       "<IPython.core.display.HTML object>"
      ]
     },
     "execution_count": 6,
     "metadata": {},
     "output_type": "execute_result"
    }
   ],
   "source": [
    "m.supported_ratios.show_in_notebook()"
   ]
  },
  {
   "cell_type": "markdown",
   "metadata": {},
   "source": [
    "Get the Wolfire/Kaufman 2006 models.  Every model has a one-line description. You can query a ModelSet to find which spectral lines (your observations) are supported and which model ratios it has for your lines."
   ]
  },
  {
   "cell_type": "code",
   "execution_count": 7,
   "metadata": {},
   "outputs": [
    {
     "name": "stdout",
     "output_type": "stream",
     "text": [
      "Wolfire/Kaufman 2006 constant density models, Z=1.0\n",
      "There are 7 ratios in the Wolfire/Kaufman 2006 constant density models, Z=1.0 ModelSet for the lines ['CII_158', 'OI_145', 'FIR', 'CI_609', 'CO_65']:\n",
      "['CII_158/FIR', 'CII_158/CI_609', 'CII_158/CO_65', 'OI_145/CII_158', 'OI_145+CII_158/FIR', 'CI_609/FIR', 'CI_609/CO_65']\n",
      "('CII_158/FIR', 'wolfirekaufman/version2006/constant_density/z=1/CII158_FIR.fits')\n",
      "('CII_158/CI_609', 'wolfirekaufman/version2006/constant_density/z=1/ciici609web.fits')\n",
      "('CII_158/CO_65', 'wolfirekaufman/version2006/constant_density/z=1/CII158_CO65.fits')\n",
      "('OI_145/CII_158', 'wolfirekaufman/version2006/constant_density/z=1/o145ciiweb.fits')\n",
      "('OI_145+CII_158/FIR', 'wolfirekaufman/version2006/constant_density/z=1/firoi145web.fits')\n",
      "('CI_609/FIR', 'wolfirekaufman/version2006/constant_density/z=1/ci609firweb.fits')\n",
      "('CI_609/CO_65', 'wolfirekaufman/version2006/constant_density/z=1/cico65web.fits')\n"
     ]
    }
   ],
   "source": [
    "t = ModelSet(\"wk2006\",z=1)\n",
    "print(t.description)\n",
    "\n",
    "mylines =[\"CII_158\",\"OI_145\",\"FIR\",\"CI_609\",\"CO_65\"]\n",
    "print(\"There are %d ratios in the %s ModelSet for the lines %s:\"%(t.ratiocount(mylines),t.description,mylines))\n",
    "print(t.model_ratios(mylines))\n",
    "\n",
    "# If you want to see the actual FITS file names. The root of the path is where your pdrtpy is installed.\n",
    "for p in t.find_files(mylines):\n",
    "    print(p)"
   ]
  },
  {
   "cell_type": "markdown",
   "metadata": {},
   "source": [
    "### How to access a single model\n",
    "This example returns the model for CII 158 micron/CO(4-3) intensity ratio. The access key is the tag in the `ratio label` in the supported ratios table above.  The model is returned as a `pdrtpy.measurement.Measurement`"
   ]
  },
  {
   "cell_type": "code",
   "execution_count": 8,
   "metadata": {},
   "outputs": [
    {
     "name": "stdout",
     "output_type": "stream",
     "text": [
      "CI_609/CO_43 0.0019551122 3577.9814\n"
     ]
    }
   ],
   "source": [
    "cico = t.get_model(\"CI_609/CO_43\")\n",
    "print(cico.id,cico.data.min(),cico.data.max())"
   ]
  },
  {
   "cell_type": "markdown",
   "metadata": {},
   "source": [
    "### How to access multiple models\n",
    "Suppose you want to find all the models that use some combination of CO(J=1-0), CII 158 micron, and OI 145 micron. This example gets both intensity and ratio models, though you can specify `model_type='intensity'` or `model_type='ratio'` to get one or the other.  The models are returns as a dictionary with the keys set to the model IDs."
   ]
  },
  {
   "cell_type": "code",
   "execution_count": 9,
   "metadata": {},
   "outputs": [],
   "source": [
    "mods = t.get_models([\"CII_158\",\"OI_145\", \"CO_10\"],model_type='both')"
   ]
  },
  {
   "cell_type": "markdown",
   "metadata": {},
   "source": [
    "#### The returned models are three intensity models and two ratio models"
   ]
  },
  {
   "cell_type": "code",
   "execution_count": 10,
   "metadata": {},
   "outputs": [
    {
     "data": {
      "text/plain": [
       "dict_keys(['OI_145', 'CO_10', 'CII_158', 'CII_158/CO_10', 'OI_145/CII_158'])"
      ]
     },
     "execution_count": 10,
     "metadata": {},
     "output_type": "execute_result"
    }
   ],
   "source": [
    "mods.keys()"
   ]
  },
  {
   "cell_type": "code",
   "execution_count": 11,
   "metadata": {},
   "outputs": [
    {
     "name": "stdout",
     "output_type": "stream",
     "text": [
      "11072.426\n"
     ]
    }
   ],
   "source": [
    "# average value of one of the models\n",
    "print(mods['CII_158/CO_10'].data.mean())"
   ]
  }
 ],
 "metadata": {
  "kernelspec": {
   "display_name": "Python 3",
   "language": "python",
   "name": "python3"
  },
  "language_info": {
   "codemirror_mode": {
    "name": "ipython",
    "version": 3
   },
   "file_extension": ".py",
   "mimetype": "text/x-python",
   "name": "python",
   "nbconvert_exporter": "python",
   "pygments_lexer": "ipython3",
   "version": "3.7.10"
  }
 },
 "nbformat": 4,
 "nbformat_minor": 4
}
