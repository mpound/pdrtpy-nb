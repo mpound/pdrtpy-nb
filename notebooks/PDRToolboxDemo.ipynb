{
 "cells": [
  {
   "cell_type": "markdown",
   "id": "7da1a82f",
   "metadata": {
    "slideshow": {
     "slide_type": "slide"
    }
   },
   "source": [
    "<div style=\"text-align:center;\">\n",
    "  <div style=\"color:blue; font-size:24pt;\">\n",
    "   The PhotoDissociation Region Toolbox\n",
    "    </div><br><br>\n",
    "    <div  style=\"font-size:18pt\">\n",
    "    Marc Pound &amp; Mark Wolfire <br>\n",
    "        University of Maryland\n",
    "    </div>\n",
    "</div>\n",
    "\n",
    "\n",
    "### A python toolkit for analyzing observations of PDRs from JWST, SOFIA, ALMA, Herschel, and many more\n",
    "<br>\n",
    "<div style=\"font-size:16pt;color:darkred\">Thanks to our sponsors:  </div>\n",
    "\n",
    "* NASA ADAP #80NSSC19K0573 https://dustem.astro.umd.edu\n",
    "* SOFIA *FEEDBACK* Legacy Program SOF070077 https://feedback.astro.umd.edu\n",
    "* JWST-ERS *PDRs4All* program ID 1288 https://pdrs4all.org\n",
    "<br><br>\n",
    "<div style=\"text-align:center;\">\n",
    "  <div style=\"color:gray; font-size:16pt;\">\n",
    "      <i>Reliable Astrophysics at Everyday Low, Low Prices!</i> &reg;\n",
    "    </div></div>\n",
    " <hr>\n",
    " JWST Webbinar 12/06/2022"
   ]
  },
  {
   "cell_type": "markdown",
   "id": "4caf71bb",
   "metadata": {
    "slideshow": {
     "slide_type": "slide"
    }
   },
   "source": [
    "### Get the PDR Toolbox\n",
    "\n",
    "pip install pdrtpy -U\n",
    "### Download the example notebooks\n",
    "git clone https://github.com/mpound/pdrtpy-nb.git\n",
    "\n",
    "This notebook is in `pdrtpy-nb/notebooks/PDRToolboxDemo.ipynb`\n",
    "\n",
    "### To Learn More\n",
    "Visit our website https://dustem.astro.umd.edu\n",
    "\n",
    "Full documentation at https://pdrtpy.readthedocs.io\n",
    "\n",
    "Our AJ paper in press: https://arxiv.org/abs/2210.08062"
   ]
  },
  {
   "cell_type": "code",
   "execution_count": 2,
   "id": "14ccb0be",
   "metadata": {
    "slideshow": {
     "slide_type": "subslide"
    }
   },
   "outputs": [
    {
     "name": "stderr",
     "output_type": "stream",
     "text": [
      "/home/mpound/src/pdrtpy/pdrtpy/pbar.py:10: TqdmExperimentalWarning: Using `tqdm.autonotebook.tqdm` in notebook mode. Use `tqdm.tqdm` instead to force console mode (e.g. in jupyter console)\n",
      "  import tqdm.autonotebook as tqdm\n"
     ]
    }
   ],
   "source": [
    "# all the imports needed for this demo\n",
    "from pdrtpy.measurement import Measurement\n",
    "from pdrtpy.modelset import ModelSet\n",
    "from pdrtpy.tool.lineratiofit import LineRatioFit\n",
    "from pdrtpy.tool.h2excitation import H2ExcitationFit\n",
    "from pdrtpy.plot.modelplot import ModelPlot\n",
    "from pdrtpy.plot.excitationplot import ExcitationPlot\n",
    "from pdrtpy.plot.lineratioplot import LineRatioPlot\n",
    "import pdrtpy.pdrutils as utils\n",
    "from astropy.nddata import StdDevUncertainty\n",
    "import astropy.units as u\n",
    "from astropy.table import Table\n",
    "import numpy as np"
   ]
  },
  {
   "cell_type": "code",
   "execution_count": 3,
   "id": "261d386f",
   "metadata": {
    "slideshow": {
     "slide_type": "skip"
    }
   },
   "outputs": [
    {
     "data": {
      "text/plain": [
       "'2.3.1b'"
      ]
     },
     "execution_count": 3,
     "metadata": {},
     "output_type": "execute_result"
    }
   ],
   "source": [
    "# check you have the right version.  It should be 2.3.0 or higher\n",
    "import pdrtpy\n",
    "pdrtpy.version()"
   ]
  },
  {
   "cell_type": "markdown",
   "id": "a30555a1",
   "metadata": {
    "slideshow": {
     "slide_type": "slide"
    }
   },
   "source": [
    "# Example 1:  Finding density and radiation field\n",
    "This example shows use the PDRT Toolbox to determine the PDR radiation field $G_0$ and hydrogen nucleus volume density $n$ from your spectral line and far-infrared (FIR) continuum data into the PDR Toolbox.  The case is for single pointing observations.\n",
    "\n",
    "### Step 1. Input your intensity observations (\"Measurements\")"
   ]
  },
  {
   "cell_type": "code",
   "execution_count": 4,
   "id": "3711fa27",
   "metadata": {
    "slideshow": {
     "slide_type": "fragment"
    }
   },
   "outputs": [],
   "source": [
    "myunit = \"erg s-1 cm-2 sr-1\" # default unit for value and error\n",
    "m1 = Measurement(data=3.6E-4,uncertainty = StdDevUncertainty(1.2E-4),\n",
    "                 identifier=\"OI_63\",unit=myunit)\n",
    "m2 = Measurement(data=1E-6,uncertainty = StdDevUncertainty([3E-7]),\n",
    "                 identifier=\"CI_609\",unit=myunit)\n",
    "m3 = Measurement(data=26,uncertainty = StdDevUncertainty([5]),\n",
    "                 identifier=\"CO_43\",restfreq=\"461.04077 GHz\", \n",
    "                 unit=\"K km/s\")\n",
    "m4 = Measurement(data=8E-5,uncertainty = StdDevUncertainty([8E-6]),\n",
    "                 identifier=\"CII_158\",unit=myunit)\n",
    "a = [m1,m2,m3,m4]"
   ]
  },
  {
   "cell_type": "markdown",
   "id": "0ad0a0b1",
   "metadata": {
    "slideshow": {
     "slide_type": "slide"
    }
   },
   "source": [
    "### Step 2. Choose a set of models \n",
    "In this example, we choose Wolfire-Kaufman 2020 set of models with metallicity z=1. The models in this `ModelSet` are listed.  We also have KOSMA-Tau models available.\n",
    "All models are stored as intensity or intensity ratio maps and cover \\[C I\\], \\[C II\\], \\[O I\\], $H_2$, CO and $^{13}$CO up to J=20, and more.  The PDR Toolbox calculates appropriate ratios from your intensity observations, propogating errors."
   ]
  },
  {
   "cell_type": "code",
   "execution_count": 5,
   "id": "88ba4266",
   "metadata": {
    "slideshow": {
     "slide_type": "slide"
    }
   },
   "outputs": [
    {
     "data": {
      "text/html": [
       "<i>Table length=73</i>\n",
       "<table id=\"table140483756954768-263221\" class=\"table-striped table-bordered table-condensed\">\n",
       "<thead><tr><th>idx</th><th>title</th><th>ratio label</th></tr></thead>\n",
       "<tr><td>0</td><td>[O I] 63 $\\mu$m / [C II] 158 $\\mu$m</td><td>OI_63/CII_158</td></tr>\n",
       "<tr><td>1</td><td>([O I] 63 $\\mu$m + [C II] 158 $\\mu$m) / I$_{FIR}$</td><td>OI_63+CII_158/FIR</td></tr>\n",
       "<tr><td>2</td><td>([O I] 145 $\\mu$m + [C II] 158 $\\mu$m) / I$_{FIR}$</td><td>OI_145+CII_158/FIR</td></tr>\n",
       "<tr><td>3</td><td>[O I] 145 $\\mu$m / [O I] 63 $\\mu$m</td><td>OI_145/OI_63</td></tr>\n",
       "<tr><td>4</td><td>[C I] 370 $\\mu$m / [C I] 609 $\\mu$m</td><td>CI_370/CI_609</td></tr>\n",
       "<tr><td>5</td><td>[C II] 158 $\\mu$m / [C I] 609 $\\mu$m</td><td>CII_158/CI_609</td></tr>\n",
       "<tr><td>6</td><td>[C II] 158 $\\mu$m / [O I] 145 $\\mu$m</td><td>CII_158/OI_145</td></tr>\n",
       "<tr><td>7</td><td>[C II] 158 $\\mu$m / I$_{FIR}$</td><td>CII_158/FIR</td></tr>\n",
       "<tr><td>8</td><td>[C II] 158 $\\mu$m / CO(J=1-0)</td><td>CII_158/CO_10</td></tr>\n",
       "<tr><td>9</td><td>[C II] 158 $\\mu$m / CO(J=2-1)</td><td>CII_158/CO_21</td></tr>\n",
       "<tr><td>10</td><td>[C II] 158 $\\mu$m / CO(J=3-2)</td><td>CII_158/CO_32</td></tr>\n",
       "<tr><td>11</td><td>[C II] 158 $\\mu$m / CO(J=6-5)</td><td>CII_158/CO_65</td></tr>\n",
       "<tr><td>12</td><td>[C II] 158 $\\mu$m / $^{13}$CO(J=1-0)</td><td>CII_158/13CO_10</td></tr>\n",
       "<tr><td>13</td><td>CO(J=2-1) / CO(J=1-0)</td><td>CO_21/CO_10</td></tr>\n",
       "<tr><td>14</td><td>CO(J=3-2) / CO(J=1-0)</td><td>CO_32/CO_10</td></tr>\n",
       "<tr><td>15</td><td>CO(J=3-2) / CO(J=2-1)</td><td>CO_32/CO_21</td></tr>\n",
       "<tr><td>16</td><td>[C I] 609 $\\mu$m / CO(J=4-3)</td><td>CI_609/CO_43</td></tr>\n",
       "<tr><td>17</td><td>[C I] 609 $\\mu$m / CO(J=2-1)</td><td>CI_609/CO_21</td></tr>\n",
       "<tr><td>18</td><td>[C I] 609 $\\mu$m / CO(J=1-0)</td><td>CI_609/CO_10</td></tr>\n",
       "<tr><td>19</td><td>[C I] 609 $\\mu$m / $^{13}$CO(J=1-0)</td><td>CI_609/13CO_10</td></tr>\n",
       "<tr><td>20</td><td>[C I] 609 $\\mu$m / $^{13}$CO(J=2-1)</td><td>CI_609/13CO_21</td></tr>\n",
       "<tr><td>21</td><td>[C I] 609 $\\mu$m / $^{13}$CO(J=3-2)</td><td>CI_609/13CO_32</td></tr>\n",
       "<tr><td>22</td><td>CO(J=4-3) / CO(J=2-1)</td><td>CO_43/CO_21</td></tr>\n",
       "<tr><td>23</td><td>CO(J=6-5) / CO(J=1-0)</td><td>CO_65/CO_10</td></tr>\n",
       "<tr><td>24</td><td>CO(J=7-6) / CO(J=1-0)</td><td>CO_76/CO_10</td></tr>\n",
       "<tr><td>25</td><td>CO(J=7-6) / CO(J=2-1)</td><td>CO_76/CO_21</td></tr>\n",
       "<tr><td>26</td><td>CO(J=7-6) / CO(J=4-3)</td><td>CO_76/CO_43</td></tr>\n",
       "<tr><td>27</td><td>CO(J=7-6) / CO(J=5-4)</td><td>CO_76/CO_54</td></tr>\n",
       "<tr><td>28</td><td>CO(J=7-6) / CO(J=6-5)</td><td>CO_76/CO_65</td></tr>\n",
       "<tr><td>29</td><td>CO(J=8-7) / CO(J=5-4)</td><td>CO_87/CO_54</td></tr>\n",
       "<tr><td>30</td><td>CO(J=8-7) / CO(J=6-5)</td><td>CO_87/CO_65</td></tr>\n",
       "<tr><td>31</td><td>CO(J=9-8) / CO(J=5-4)</td><td>CO_98/CO_54</td></tr>\n",
       "<tr><td>32</td><td>CO(J=9-8) / CO(J=6-5)</td><td>CO_98/CO_65</td></tr>\n",
       "<tr><td>33</td><td>CO(J=10-9) / CO(J=5-4)</td><td>CO_109/CO_54</td></tr>\n",
       "<tr><td>34</td><td>CO(J=10-9) / CO(J=6-5)</td><td>CO_109/CO_65</td></tr>\n",
       "<tr><td>35</td><td>CO(J=10-9) / CO(J=7-6)</td><td>CO_109/CO_76</td></tr>\n",
       "<tr><td>36</td><td>CO(J=11-10) / CO(J=5-4)</td><td>CO_1110/CO_54</td></tr>\n",
       "<tr><td>37</td><td>CO(J=11-10) / CO(J=6-5)</td><td>CO_1110/CO_65</td></tr>\n",
       "<tr><td>38</td><td>CO(J=12-11) / CO(J=5-4)</td><td>CO_1211/CO_54</td></tr>\n",
       "<tr><td>39</td><td>CO(J=12-11) / CO(J=6-5)</td><td>CO_1211/CO_65</td></tr>\n",
       "<tr><td>40</td><td>CO(J=13-12) / CO(J=5-4)</td><td>CO_1312/CO_54</td></tr>\n",
       "<tr><td>41</td><td>CO(J=13-12) / CO(J=6-5)</td><td>CO_1312/CO_65</td></tr>\n",
       "<tr><td>42</td><td>CO(J=14-13) / CO(J=5-4)</td><td>CO_1413/CO_54</td></tr>\n",
       "<tr><td>43</td><td>CO(J=14-13) / CO(J=6-5)</td><td>CO_1413/CO_65</td></tr>\n",
       "<tr><td>44</td><td>CO(J=15-14) / CO(J=5-4)</td><td>CO_1514/CO_54</td></tr>\n",
       "<tr><td>45</td><td>CO(J=15-14) / CO(J=6-5)</td><td>CO_1514/CO_65</td></tr>\n",
       "<tr><td>46</td><td>CO(J=16-15) / CO(J=5-4)</td><td>CO_1615/CO_54</td></tr>\n",
       "<tr><td>47</td><td>CO(J=16-15) / CO(J=6-5)</td><td>CO_1615/CO_65</td></tr>\n",
       "<tr><td>48</td><td>CO(J=17-16) / CO(J=5-4)</td><td>CO_1716/CO_54</td></tr>\n",
       "<tr><td>49</td><td>CO(J=17-16) / CO(J=6-5)</td><td>CO_1716/CO_65</td></tr>\n",
       "<tr><td>50</td><td>CO(J=18-17) / CO(J=5-4)</td><td>CO_1817/CO_54</td></tr>\n",
       "<tr><td>51</td><td>CO(J=18-17) / CO(J=6-5)</td><td>CO_1817/CO_65</td></tr>\n",
       "<tr><td>52</td><td>$^{13}$CO(J=1-0) / CO(J=1-0)</td><td>13CO_10/CO_10</td></tr>\n",
       "<tr><td>53</td><td>$^{13}$CO(J=2-1) / CO(J=2-1)</td><td>13CO_21/CO_21</td></tr>\n",
       "<tr><td>54</td><td>$^{13}$CO(J=3-2) / CO(J=2-1)</td><td>13CO_32/CO_21</td></tr>\n",
       "<tr><td>55</td><td>$^{13}$CO(J=4-3) / CO(J=2-1)</td><td>13CO_43/CO_21</td></tr>\n",
       "<tr><td>56</td><td>$^{13}$CO(J=5-4) / CO(J=2-1)</td><td>13CO_54/CO_21</td></tr>\n",
       "<tr><td>57</td><td>$^{13}$CO(J=6-5) / CO(J=2-1)</td><td>13CO_65/CO_21</td></tr>\n",
       "<tr><td>58</td><td>$^{13}$CO(J=7-6) / CO(J=2-1)</td><td>13CO_76/CO_21</td></tr>\n",
       "<tr><td>59</td><td>$^{13}$CO(J=3-2) / $^{13}$CO(J=1-0)</td><td>13CO_32/13CO_10</td></tr>\n",
       "<tr><td>60</td><td>H$_2$0-0S(2) 12.3 $\\mu$m / H$_2$0-0S(0) 28.2 $\\mu$m</td><td>H200S2/H200S0</td></tr>\n",
       "<tr><td>61</td><td>H$_2$0-0S(2) 12.3 $\\mu$m / H$_2$0-0S(1) 17 $\\mu$m</td><td>H200S2/H200S1</td></tr>\n",
       "<tr><td>62</td><td>H$_2$0-0S(3) 9.7 $\\mu$m / H$_2$0-0S(0) 28.2 $\\mu$m</td><td>H200S3/H200S0</td></tr>\n",
       "<tr><td>63</td><td>H$_2$0-0S(3) 9.7 $\\mu$m / H$_2$0-0S(1) 17 $\\mu$m</td><td>H200S3/H200S1</td></tr>\n",
       "<tr><td>64</td><td>H$_2$0-0S(3) 9.7 $\\mu$m / H$_2$0-0S(2) 12.3 $\\mu$m</td><td>H200S3/H200S2</td></tr>\n",
       "<tr><td>65</td><td>[Fe II] 1.60 $\\mu$m/[Fe II] 1.64 $\\mu$m</td><td>FEII_1.60/FEII_1.64</td></tr>\n",
       "<tr><td>66</td><td>[Fe II] 1.64 $\\mu$m/[Fe II] 5.34 $\\mu$m</td><td>FEII_1.64/FEII_5.34</td></tr>\n",
       "<tr><td>67</td><td>[Fe II] 5.67 $\\mu$m/[Fe II] 5.34 $\\mu$m</td><td>FEII_5.67/FEII_5.34</td></tr>\n",
       "<tr><td>68</td><td>[Fe II] 17.94 $\\mu$m/[Fe II] 5.34 $\\mu$m</td><td>FEII_17.94/FEII_5.34</td></tr>\n",
       "<tr><td>69</td><td>[Fe II] 22.90 $\\mu$m/[Fe II] 5.34 $\\mu$m</td><td>FEII_22.90/FEII_5.34</td></tr>\n",
       "<tr><td>70</td><td>[Fe II] 25.99 $\\mu$m/[Fe II] 5.34 $\\mu$m</td><td>FEII_26/FEII_5.34</td></tr>\n",
       "<tr><td>71</td><td>[Ar III] 21.83 $\\mu$m/[Ar III] 8.99 $\\mu$m</td><td>ARIII_21.83/ARIII_8.99</td></tr>\n",
       "<tr><td>72</td><td>[Ar V] 13.07 $\\mu$m/[Ar V] 7.91 $\\mu$m</td><td>ARV_13.07/ARV_7.91</td></tr>\n",
       "</table><style>table.dataTable {clear: both; width: auto !important; margin: 0 !important;}\n",
       ".dataTables_info, .dataTables_length, .dataTables_filter, .dataTables_paginate{\n",
       "display: inline-block; margin-right: 1em; }\n",
       ".paginate_button { margin-right: 5px; }\n",
       "</style>\n",
       "<script>\n",
       "\n",
       "var astropy_sort_num = function(a, b) {\n",
       "    var a_num = parseFloat(a);\n",
       "    var b_num = parseFloat(b);\n",
       "\n",
       "    if (isNaN(a_num) && isNaN(b_num))\n",
       "        return ((a < b) ? -1 : ((a > b) ? 1 : 0));\n",
       "    else if (!isNaN(a_num) && !isNaN(b_num))\n",
       "        return ((a_num < b_num) ? -1 : ((a_num > b_num) ? 1 : 0));\n",
       "    else\n",
       "        return isNaN(a_num) ? -1 : 1;\n",
       "}\n",
       "\n",
       "require.config({paths: {\n",
       "    datatables: 'https://cdn.datatables.net/1.10.12/js/jquery.dataTables.min'\n",
       "}});\n",
       "require([\"datatables\"], function(){\n",
       "    console.log(\"$('#table140483756954768-263221').dataTable()\");\n",
       "    \n",
       "jQuery.extend( jQuery.fn.dataTableExt.oSort, {\n",
       "    \"optionalnum-asc\": astropy_sort_num,\n",
       "    \"optionalnum-desc\": function (a,b) { return -astropy_sort_num(a, b); }\n",
       "});\n",
       "\n",
       "    $('#table140483756954768-263221').dataTable({\n",
       "        order: [],\n",
       "        pageLength: 50,\n",
       "        lengthMenu: [[10, 25, 50, 100, 500, 1000, -1], [10, 25, 50, 100, 500, 1000, 'All']],\n",
       "        pagingType: \"full_numbers\",\n",
       "        columnDefs: [{targets: [0], type: \"optionalnum\"}]\n",
       "    });\n",
       "});\n",
       "</script>\n"
      ],
      "text/plain": [
       "<IPython.core.display.HTML object>"
      ]
     },
     "execution_count": 5,
     "metadata": {},
     "output_type": "execute_result"
    }
   ],
   "source": [
    "ms = ModelSet(\"wk2020\",z=1)\n",
    "ms.supported_ratios.show_in_notebook()\n"
   ]
  },
  {
   "cell_type": "markdown",
   "id": "bd97a98f",
   "metadata": {
    "slideshow": {
     "slide_type": "slide"
    }
   },
   "source": [
    "### Step 3. Create the fitter and run it.\n",
    "This example uses the default least-squares fitting; MCMC is also available.  The results are stored in member variables as `Measurements` and in an `lmfit.ModelResult` object."
   ]
  },
  {
   "cell_type": "code",
   "execution_count": 6,
   "id": "f2a0d761",
   "metadata": {
    "slideshow": {
     "slide_type": "fragment"
    }
   },
   "outputs": [
    {
     "name": "stderr",
     "output_type": "stream",
     "text": [
      "/home/mpound/src/pdrtpy/pdrtpy/tool/lineratiofit.py:384: UserWarning: LineRatioFit: No beam parameters in Measurement headers, assuming they are all equal!\n",
      "  self._check_compatibility()\n"
     ]
    },
    {
     "name": "stdout",
     "output_type": "stream",
     "text": [
      "Converting K km/s to erg / (cm2 s sr) using Factor = +1.004E-07 g / (cm K s2)\n",
      "fitted 1 of 1 pixels\n",
      "got 0 exceptions\n"
     ]
    }
   ],
   "source": [
    "p = LineRatioFit(ms,measurements=a) \n",
    "p.run()"
   ]
  },
  {
   "cell_type": "code",
   "execution_count": 7,
   "id": "61f66a4a",
   "metadata": {
    "slideshow": {
     "slide_type": "slide"
    }
   },
   "outputs": [
    {
     "data": {
      "text/html": [
       "<h2>Fit Statistics</h2><table><tr><td>fitting method</td><td>leastsq</td><td></td></tr><tr><td># function evals</td><td>13</td><td></td></tr><tr><td># data points</td><td>3</td><td></td></tr><tr><td># variables</td><td>2</td><td></td></tr><tr><td>chi-square</td><td> 0.04123761</td><td></td></tr><tr><td>reduced chi-square</td><td> 0.04123761</td><td></td></tr><tr><td>Akaike info crit.</td><td>-8.86105089</td><td></td></tr><tr><td>Bayesian info crit.</td><td>-10.6638263</td><td></td></tr></table><h2>Variables</h2><table><tr><th> name </th><th> value </th><th> standard error </th><th> relative error </th><th> initial value </th><th> min </th><th> max </th><th> vary </th></tr><tr><td> density </td><td>  40730.7043 </td><td>  2467.35685 </td><td> (6.06%) </td><td> 42169.65034285822 </td><td>  10.0000000 </td><td>  10000000.0 </td><td> True </td></tr><tr><td> radiation_field </td><td>  0.35817960 </td><td>  0.03952220 </td><td> (11.03%) </td><td> 0.37941973904039467 </td><td>  5.0596e-04 </td><td>  5059.64354 </td><td> True </td></tr></table><h2>Correlations (unreported correlations are < 0.100)</h2><table><tr><td>density</td><td>radiation_field</td><td>-0.3572</td></tr></table>"
      ],
      "text/plain": [
       "<lmfit.minimizer.MinimizerResult at 0x7fc4ec64d880>"
      ]
     },
     "execution_count": 7,
     "metadata": {},
     "output_type": "execute_result"
    }
   ],
   "source": [
    "p.fit_result[0]"
   ]
  },
  {
   "cell_type": "markdown",
   "id": "1e4cc707",
   "metadata": {
    "slideshow": {
     "slide_type": "slide"
    }
   },
   "source": [
    "## Step 5: Visualize the results\n",
    "Create a plotter and feed it the LineRatioFit object.  Then you can call various methods to plot the fit.\n",
    "Here are two examples:  \n",
    "- An overlay of all your observed ratios with errors in the model $(n,G_0)$ space\n",
    "- The reduced $\\chi^2$ plot of the fit as a function of $(n,G_0)$\n",
    "\n",
    "Note we choose to plot radiation field in Habing units, but common alternatives Draine, Mathis, and cgs units are supported."
   ]
  },
  {
   "cell_type": "code",
   "execution_count": 8,
   "id": "55572c92",
   "metadata": {},
   "outputs": [
    {
     "data": {
      "text/plain": [
       "<matplotlib.collections.LineCollection at 0x7fc4d3b5c640>"
      ]
     },
     "execution_count": 8,
     "metadata": {},
     "output_type": "execute_result"
    },
    {
     "data": {
      "image/png": "[encoded data removed]",
      "text/plain": [
       "<Figure size 360x360 with 1 Axes>"
      ]
     },
     "metadata": {
      "needs_background": "light"
     },
     "output_type": "display_data"
    }
   ],
   "source": [
    "plot = LineRatioPlot(p)\n",
    "plot.overlay_all_ratios(yaxis_unit=\"Habing\",figsize=(5,5))\n",
    "# add a marker for G0 as determined from FIR observations\n",
    "plot.text(1000,240,r\"$G_{0,FIR}$\",fontsize='large',color='k')\n",
    "plot._plt.hlines(200,10,1E7,color='k',linewidth=1)"
   ]
  },
  {
   "cell_type": "code",
   "execution_count": 9,
   "id": "0b3f9fbe",
   "metadata": {
    "slideshow": {
     "slide_type": "slide"
    }
   },
   "outputs": [
    {
     "data": {
      "image/png": "[encoded data removed]",
      "text/plain": [
       "<Figure size 360x504 with 1 Axes>"
      ]
     },
     "metadata": {
      "needs_background": "light"
     },
     "output_type": "display_data"
    }
   ],
   "source": [
    "plot.reduced_chisq(cmap='gray_r',norm='log',label=True,\n",
    "                   colors='white', legend=True,vmax=8E4,\n",
    "                   yaxis_unit='Habing',\n",
    "                   figsize=(5,7))"
   ]
  },
  {
   "cell_type": "markdown",
   "id": "b3f4a9bb",
   "metadata": {
    "slideshow": {
     "slide_type": "slide"
    }
   },
   "source": [
    "### You can also fit maps!\n",
    "Here we use [C II], [O I], and FIR maps of the SMC molecular cloud N22 from [Jameson et al. 2018](https://ui.adsabs.harvard.edu/abs/2018ApJ...853..111J/abstract) and a custom `ModelSet` for the SMC."
   ]
  },
  {
   "cell_type": "code",
   "execution_count": null,
   "id": "04270020",
   "metadata": {
    "slideshow": {
     "slide_type": "fragment"
    }
   },
   "outputs": [
    {
     "name": "stderr",
     "output_type": "stream",
     "text": [
      "WARNING: VerifyWarning: Invalid 'BLANK' keyword in header.  The 'BLANK' keyword is only applicable to integer data, and will be ignored in this HDU. [astropy.io.fits.hdu.image]\n",
      "WARNING: UnitsWarning: 'W/m2/sr' contains multiple slashes, which is discouraged by the FITS standard [astropy.units.format.generic]\n",
      "WARNING: FITSFixedWarning: 'datfix' made the change 'Set MJD-OBS to 51544.500000 from DATE-OBS'. [astropy.wcs.wcs]\n"
     ]
    },
    {
     "data": {
      "application/vnd.jupyter.widget-view+json": {
       "model_id": "771e3fb090d74cff88549cc0f1d8aea2",
       "version_major": 2,
       "version_minor": 0
      },
      "text/plain": [
       "  0%|          | 0/11259 [00:00<?, ?it/s]"
      ]
     },
     "metadata": {},
     "output_type": "display_data"
    }
   ],
   "source": [
    "cii_meas = Measurement.read(\"../data/n22_cii_flux_error.fits\", \n",
    "                            identifier=\"CII_158\")\n",
    "FIR_meas = Measurement.read(\"../data/n22_FIR_flux_error.fits\", \n",
    "                            identifier=\"FIR\")\n",
    "oi_meas = Measurement.read(\"../data/n22_oi_flux_error.fits\", \n",
    "                           identifier=\"OI_63\")\n",
    "\n",
    "smcmod = ModelSet(\"smc\",z=0.1)\n",
    "p = LineRatioFit(modelset=smcmod,\n",
    "                 measurements=[cii_meas,FIR_meas,oi_meas])\n",
    "p.run()"
   ]
  },
  {
   "cell_type": "code",
   "execution_count": null,
   "id": "d1a4f4c5",
   "metadata": {
    "slideshow": {
     "slide_type": "slide"
    }
   },
   "outputs": [],
   "source": [
    "plot = LineRatioPlot(p)\n",
    "plot.density(contours=True,norm=\"log\",figsize=(5,8))\n"
   ]
  },
  {
   "cell_type": "code",
   "execution_count": null,
   "id": "2bfcea80",
   "metadata": {
    "slideshow": {
     "slide_type": "slide"
    }
   },
   "outputs": [],
   "source": [
    "plot.radiation_field(units=\"Habing\",contours=True,\n",
    "                     norm=\"simple\",figsize=(5,8))"
   ]
  },
  {
   "cell_type": "markdown",
   "id": "1907515a",
   "metadata": {
    "slideshow": {
     "slide_type": "slide"
    }
   },
   "source": [
    "# Example 2:  $H_2$ Excitation Diagrams\n",
    "This example will go through the steps of computing the temperature and column density using $H_2$ line intensities plotted in an excitation diagram.  We will show fitting of an excitation diagram comprised of single pointing `Measurements`, both with fixed ortho-to-para ratio (OPR) and allowing OPR to vary. The data are from [Sheffer et al 2011](https://iopscience.iop.org/article/10.1088/0004-637X/741/1/45/pdf)."
   ]
  },
  {
   "cell_type": "markdown",
   "id": "edadbc67",
   "metadata": {
    "slideshow": {
     "slide_type": "slide"
    }
   },
   "source": [
    "### As before, you input intensities as `Measurements`, instantiate a fitter, run it, and look at results."
   ]
  },
  {
   "cell_type": "code",
   "execution_count": null,
   "id": "8419ac31",
   "metadata": {
    "slideshow": {
     "slide_type": "subslide"
    }
   },
   "outputs": [],
   "source": [
    "intensity = dict()\n",
    "intensity['H200S0'] = 3.003e-05\n",
    "intensity['H200S1'] = 3.143e-04\n",
    "intensity['H200S2'] = 3.706e-04\n",
    "intensity['H200S3'] = 1.060e-03\n",
    "intensity['H200S4'] = 5.282e-04\n",
    "intensity['H200S5'] = 5.795e-04\n",
    "a = []\n",
    "for i in intensity:\n",
    "    m = Measurement(data=intensity[i],\n",
    "                    uncertainty=StdDevUncertainty(0.75*intensity[i]),\n",
    "                    identifier=i,unit=\"erg cm-2 s-1 sr-1\")\n",
    "    a.append(m)"
   ]
  },
  {
   "cell_type": "code",
   "execution_count": null,
   "id": "614eac6e",
   "metadata": {
    "slideshow": {
     "slide_type": "slide"
    }
   },
   "outputs": [],
   "source": [
    "h = H2ExcitationFit(a)\n",
    "h.run()\n",
    "print('T(cold) = {:>8.2f}'.format(h.tcold))\n",
    "print('T(hot) = {:>8.2f}'.format(h.thot))\n",
    "print(f'N(cold) = {h.cold_colden:3.2E}')\n",
    "print(f'N(hot) = {h.hot_colden:3.2E}')\n",
    "print(f'N(total) = {h.total_colden:+.1e}')"
   ]
  },
  {
   "cell_type": "code",
   "execution_count": null,
   "id": "b5707d81",
   "metadata": {
    "slideshow": {
     "slide_type": "slide"
    }
   },
   "outputs": [],
   "source": [
    "hplot = ExcitationPlot(h,\"H_2\")\n",
    "hplot.ex_diagram(show_fit=True,ymax=21)"
   ]
  },
  {
   "cell_type": "markdown",
   "id": "3813a096",
   "metadata": {
    "slideshow": {
     "slide_type": "slide"
    }
   },
   "source": [
    "### The first fit looked ok, but we can do better by allowing the OPR to vary as well. "
   ]
  },
  {
   "cell_type": "code",
   "execution_count": null,
   "id": "280cc577",
   "metadata": {
    "slideshow": {
     "slide_type": "slide"
    }
   },
   "outputs": [],
   "source": [
    "h.run(fit_opr=True)\n",
    "hplot.ex_diagram(show_fit=True,ymax=21)"
   ]
  },
  {
   "cell_type": "markdown",
   "id": "b6414cd4",
   "metadata": {
    "slideshow": {
     "slide_type": "slide"
    }
   },
   "source": [
    "### You can also plot multiple vibrational levels.\n",
    "This example uses Orion Bar data from [Kaplan et al 2021.](https://ui.adsabs.harvard.edu/abs/2021ApJ...919...27K/abstract)"
   ]
  },
  {
   "cell_type": "code",
   "execution_count": null,
   "id": "46e70032",
   "metadata": {
    "slideshow": {
     "slide_type": "fragment"
    }
   },
   "outputs": [],
   "source": [
    "# read in the Kaplan data and make Measurements from it\n",
    "ktab = Table.read(utils.get_testdata(\"Kaplan+2021.tab\"),format='ipac')\n",
    "morion=[]\n",
    "for d,un,i in zip(ktab[\"Forionbar\"],ktab[\"e_Forionbar\"],ktab[\"Line\"]):\n",
    "    if not np.ma.is_masked(d):\n",
    "        morion.append(Measurement(d,uncertainty=StdDevUncertainty(un),\n",
    "                              identifier=i,unit=\"erg s-1 cm-2 sr-1\"))"
   ]
  },
  {
   "cell_type": "code",
   "execution_count": null,
   "id": "fcaef382",
   "metadata": {
    "scrolled": true,
    "slideshow": {
     "slide_type": "slide"
    }
   },
   "outputs": [],
   "source": [
    "h = H2ExcitationFit(measurements=morion)\n",
    "hplot = ExcitationPlot(h,\"H_2\")\n",
    "# Give the parameter `label='v'` to show the vibrational levels\n",
    "hplot.ex_diagram(ymin=15.5,ymax=20.5,label=\"v\",xmax=56000)"
   ]
  },
  {
   "cell_type": "markdown",
   "id": "2b771a4f",
   "metadata": {
    "slideshow": {
     "slide_type": "slide"
    }
   },
   "source": [
    "# Example 3: Phase space and isocontour plots\n",
    "As phase space plot shows ayn model ratio against any other model ratio (or model intensity) on which you can overlay observations.  In these examples we use the \\[H II\\] region diagnostic lines of Fe and Ar.  You create a `ModelPlot` with your chosen `ModelSet` and away you go!"
   ]
  },
  {
   "cell_type": "code",
   "execution_count": null,
   "id": "4c715a7c",
   "metadata": {
    "slideshow": {
     "slide_type": "slide"
    }
   },
   "outputs": [],
   "source": [
    "mp = ModelPlot(ms)\n",
    "m1 = Measurement(data=[0.1],\n",
    "                 uncertainty = StdDevUncertainty(0.025),\n",
    "                 identifier=\"FEII_1.60/FEII_1.64\",unit=\"\")\n",
    "m2 = Measurement(data=[0.5],\n",
    "                 uncertainty = StdDevUncertainty(0.1),\n",
    "                 identifier=\"FEII_1.64/FEII_5.34\",unit=\"\")\n",
    "mp.phasespace(['FEII_1.60/FEII_1.64','FEII_1.64/FEII_5.34'],\n",
    "              nax1_clip=[2E3,8E3]*u.Unit(\"K\"),\n",
    "              nax2_clip=[10,1E6]*u.Unit(\"cm-3\"), \n",
    "              measurements=[m1,m2],errorbar=True)"
   ]
  },
  {
   "cell_type": "code",
   "execution_count": null,
   "id": "9ff369d5",
   "metadata": {
    "slideshow": {
     "slide_type": "slide"
    }
   },
   "outputs": [],
   "source": [
    "nax1clip = [1E3,5E3]*u.Unit(\"K\")\n",
    "nax2clip = [10,1E6]*u.Unit(\"cm-3\")\n",
    "mp.phasespace([\"ARIII_21.83/ARIII_8.99\",\"ARV_13.07/ARV_7.91\"],\n",
    "              nax1_clip=nax1clip,\n",
    "              nax2_clip=nax2clip)"
   ]
  },
  {
   "cell_type": "markdown",
   "id": "4ce36dea-c79d-471c-87ec-4adfdc904a86",
   "metadata": {
    "slideshow": {
     "slide_type": "slide"
    }
   },
   "source": [
    "## You can make isocontour plots of individual model parameters\n",
    "Related to the phase space plot is the `isoplot`, which will plot one of the model axes versus model value (intensity or intensity ratio) and draw on it iso-lines of the other model axis.\n",
    "\n",
    "In the example below, we plot lines of constant electron gas temperature $T_e$ (isotherms) as a function of electron gas density $n_e$ and [Ar III] 21.83 $\\mu$m / [Ar III] 8.99 $\\mu$m intensity ratio. In our ionized gas models, $T_e$ is on FITS `NAXIS1` and $n_e$ is on `NAXIS2`."
   ]
  },
  {
   "cell_type": "code",
   "execution_count": null,
   "id": "10ed4fa2",
   "metadata": {
    "slideshow": {
     "slide_type": "slide"
    }
   },
   "outputs": [],
   "source": [
    "nax1clip = [2000,8000]*u.Unit(\"K\")\n",
    "# step=N means plot every N-th line in the given range.\n",
    "# This helps avoid crowding on the plot.\n",
    "mp.isoplot(\"ARIII_21.83/ARIII_8.99\",\n",
    "           plotnaxis=1,logx=True,\n",
    "           nax_clip=nax1clip,step=2)"
   ]
  },
  {
   "cell_type": "code",
   "execution_count": null,
   "id": "e13c3da5",
   "metadata": {
    "slideshow": {
     "slide_type": "slide"
    }
   },
   "outputs": [],
   "source": [
    "# Plotting the other model axis is easy, \n",
    "# just change plotnaxis and the clip values and units\n",
    "nax1clip = [100,1E7]*u.Unit(\"cm-3\")\n",
    "mp.isoplot(\"ARIII_21.83/ARIII_8.99\",\n",
    "           plotnaxis=2,nax_clip=nax1clip,logx=False)"
   ]
  },
  {
   "cell_type": "markdown",
   "id": "9b76a82a",
   "metadata": {
    "slideshow": {
     "slide_type": "slide"
    }
   },
   "source": [
    "<div style=\"text-align:center;\">\n",
    "  <div style=\"color:blue; font-size:24pt;\">\n",
    "   There is much more the PDR Toolbox can do.\n",
    "      <br>\n",
    "We encourage you to download it and see for yourself!\n",
    "    </div>\n",
    "</div>\n",
    "<br><br>\n",
    "\n",
    "### We also welcome development. Fork us on github! https://github.com/mpound/pdrtpy\n",
    "\n",
    "### Questions?\n",
    "\n",
    "\n"
   ]
  }
 ],
 "metadata": {
  "celltoolbar": "Slideshow",
  "kernelspec": {
   "display_name": "Python 3 (ipykernel)",
   "language": "python",
   "name": "python3"
  },
  "language_info": {
   "codemirror_mode": {
    "name": "ipython",
    "version": 3
   },
   "file_extension": ".py",
   "mimetype": "text/x-python",
   "name": "python",
   "nbconvert_exporter": "python",
   "pygments_lexer": "ipython3",
   "version": "3.9.7"
  }
 },
 "nbformat": 4,
 "nbformat_minor": 5
}
