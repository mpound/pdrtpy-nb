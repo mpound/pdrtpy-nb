{
 "cells": [
  {
   "cell_type": "markdown",
   "metadata": {},
   "source": [
    "## *PhotoDissociation Region Toolbox Notebooks*\n",
    "-------------------------------------------------------------\n",
    "\n",
    "# Example 1: Working With Measurements\n",
    "\n",
    "This Example shows how to bring your spectral line and far-infrared (FIR) data into the PDR Toolbox.  Your data can be single pixel values or spatial maps (FITS files). "
   ]
  },
  {
   "cell_type": "code",
   "execution_count": 8,
   "metadata": {},
   "outputs": [],
   "source": [
    "# First import the relevant modules.\n",
    "from pdrtpy.measurement import Measurement\n",
    "from pdrtpy.modelset import ModelSet\n",
    "import pdrtpy.pdrutils as utils\n",
    "from astropy.nddata import StdDevUncertainty\n",
    "import astropy.units as u\n",
    "import numpy as np"
   ]
  },
  {
   "cell_type": "markdown",
   "metadata": {},
   "source": [
    "## Measurements\n",
    "To use PDR Toolbox, you need to create [`Measurements`](https://pdrtpy.readthedocs.io/en/latest/pdrtpy.measurement.html) from your observations. A `Measurement` consists of a value and an error.  These can be single-valued or an array of values.  In the typical case of an image, the `Measurement` is a representation of a FITS file with two Header Data Units (HDUs), the first HDU is the spatial map of intensity and the 2nd HDU is the spatial map of the errors.  It is based on [astropy's CCDData](https://docs.astropy.org/en/stable/api/astropy.nddata.CCDData.html). Typical sub-millimeter maps we get from telescopes don't have the error plane, but PDRT makes it easy for you to create one if you know the magnitude of the error. Your FITS images can be in intensity units (equivalent to erg s$^{-1}$ cm$^{-2}$ sr$^{-1}$) or can be in K km/s.  PDRT will do appropriate conversion as necessary when it uses your images (original `Measurement` remains unchanged)."
   ]
  },
  {
   "cell_type": "markdown",
   "metadata": {},
   "source": [
    "### Measurement Identifiers \n",
    "When you create a `Measurement` you have to say what it is a measurement of, i.e., what spectral line it is.  This is done using the string identifier.  The identifier (ID) should be one of the lines supported by the PDR Toolbox [`ModelSets`](https://pdrtpy.readthedocs.io/en/latest/pdrtpy.modelset.html).   Here we show the list of lines supported by the Wolfire/Kaufman 2020 constant density models; the *ID* column shows the corresponding identifiers.  See the `ModelSet` example notebook for more about models and what's available."
   ]
  },
  {
   "cell_type": "code",
   "execution_count": 9,
   "metadata": {},
   "outputs": [
    {
     "data": {
      "text/html": [
       "<i>Table length=22</i>\n",
       "<table id=\"table139946163706896-12853\" class=\"table-striped table-bordered table-condensed\">\n",
       "<thead><tr><th>idx</th><th>title</th><th>intensity label</th></tr></thead>\n",
       "<thead><tr><th></th><th>null</th><th></th></tr></thead>\n",
       "<tr><td>0</td><td>[C I] 609 $\\mu$m</td><td>CI_609</td></tr>\n",
       "<tr><td>1</td><td>[C II] 158 $\\mu$m</td><td>CII_158</td></tr>\n",
       "<tr><td>2</td><td>[O I] 63 $\\mu$m</td><td>OI_63</td></tr>\n",
       "<tr><td>3</td><td>[O I] 145 $\\mu$m</td><td>OI_145</td></tr>\n",
       "<tr><td>4</td><td>CO(J=1-0)</td><td>CO_10</td></tr>\n",
       "<tr><td>5</td><td>CO(J=2-1)</td><td>CO_21</td></tr>\n",
       "<tr><td>6</td><td>CO(J=3-2)</td><td>CO_32</td></tr>\n",
       "<tr><td>7</td><td>CO(J=4-3)</td><td>CO_43</td></tr>\n",
       "<tr><td>8</td><td>CO(J=5-4)</td><td>CO_54</td></tr>\n",
       "<tr><td>9</td><td>CO(J=6-5)</td><td>CO_65</td></tr>\n",
       "<tr><td>10</td><td>CO(J=7-6)</td><td>CO_76</td></tr>\n",
       "<tr><td>11</td><td>CO(J=8-7)</td><td>CO_87</td></tr>\n",
       "<tr><td>12</td><td>CO(J=11-10)</td><td>CO_1110</td></tr>\n",
       "<tr><td>13</td><td>$^{13}$CO(J=1-0)</td><td>13CO_10</td></tr>\n",
       "<tr><td>14</td><td>$^{13}$CO(J=2-1)</td><td>13CO_21</td></tr>\n",
       "<tr><td>15</td><td>$^{13}$CO(J=3-2)</td><td>13CO_32</td></tr>\n",
       "<tr><td>16</td><td>H$_2$0-0S(3) 9.7 $\\mu$m</td><td>H200S3</td></tr>\n",
       "<tr><td>17</td><td>H$_2$0-0S(2) 12.3 $\\mu$m</td><td>H200S2</td></tr>\n",
       "<tr><td>18</td><td>H$_2$0-0S(1) 17 $\\mu$m</td><td>H200S1</td></tr>\n",
       "<tr><td>19</td><td>H$_2$0-0S(0) 28.2 $\\mu$m</td><td>H200S0</td></tr>\n",
       "<tr><td>20</td><td>Temperature at $A_V=0.01$</td><td>TS</td></tr>\n",
       "<tr><td>21</td><td>[Fe II] 25.99 $\\mu$m</td><td>FEII_26</td></tr>\n",
       "</table><style>table.dataTable {clear: both; width: auto !important; margin: 0 !important;}\n",
       ".dataTables_info, .dataTables_length, .dataTables_filter, .dataTables_paginate{\n",
       "display: inline-block; margin-right: 1em; }\n",
       ".paginate_button { margin-right: 5px; }\n",
       "</style>\n",
       "<script>\n",
       "\n",
       "var astropy_sort_num = function(a, b) {\n",
       "    var a_num = parseFloat(a);\n",
       "    var b_num = parseFloat(b);\n",
       "\n",
       "    if (isNaN(a_num) && isNaN(b_num))\n",
       "        return ((a < b) ? -1 : ((a > b) ? 1 : 0));\n",
       "    else if (!isNaN(a_num) && !isNaN(b_num))\n",
       "        return ((a_num < b_num) ? -1 : ((a_num > b_num) ? 1 : 0));\n",
       "    else\n",
       "        return isNaN(a_num) ? -1 : 1;\n",
       "}\n",
       "\n",
       "require.config({paths: {\n",
       "    datatables: 'https://cdn.datatables.net/1.10.12/js/jquery.dataTables.min'\n",
       "}});\n",
       "require([\"datatables\"], function(){\n",
       "    console.log(\"$('#table139946163706896-12853').dataTable()\");\n",
       "    \n",
       "jQuery.extend( jQuery.fn.dataTableExt.oSort, {\n",
       "    \"optionalnum-asc\": astropy_sort_num,\n",
       "    \"optionalnum-desc\": function (a,b) { return -astropy_sort_num(a, b); }\n",
       "});\n",
       "\n",
       "    $('#table139946163706896-12853').dataTable({\n",
       "        order: [],\n",
       "        pageLength: 50,\n",
       "        lengthMenu: [[10, 25, 50, 100, 500, 1000, -1], [10, 25, 50, 100, 500, 1000, 'All']],\n",
       "        pagingType: \"full_numbers\",\n",
       "        columnDefs: [{targets: [0], type: \"optionalnum\"}]\n",
       "    });\n",
       "});\n",
       "</script>\n"
      ],
      "text/plain": [
       "<IPython.core.display.HTML object>"
      ]
     },
     "execution_count": 9,
     "metadata": {},
     "output_type": "execute_result"
    }
   ],
   "source": [
    "ModelSet(\"wk2020\",z=1).supported_intensities.show_in_notebook()"
   ]
  },
  {
   "cell_type": "markdown",
   "metadata": {},
   "source": [
    "## 1. Creating a Measurement based on a single value\n",
    "\n",
    "Suppose you have single-beam observations of [OI] 145 $\\mu$m, [CI] 609 $\\mu$m, CO(J=2-1), and [CII] 158 $\\mu$m lines. You create `Measurements` for these using the constructor giving it the value, error, line identifier string, and units.  The value and the error of any `Measurement` must be in the same units.  You can mix units in different `Measurements`; note we use ${\\rm K~km~s^{-1}}$ for the CO observation below.   The PDR Toolbox fitting tools will convert all `Measurements` to a common unit before doing any fit. You can also add optional beam size (bmaj,bmin,bpa), however the tools requires all `Measurements` have the same beam size before calculations can be performed.  (If you don't provide beam parameters for any of your `Measurements`, the Toolbox will assume they are all the same)."
   ]
  },
  {
   "cell_type": "code",
   "execution_count": 10,
   "metadata": {},
   "outputs": [
    {
     "name": "stdout",
     "output_type": "stream",
     "text": [
      "30.0 +/- 5.0 erg / (cm2 s sr)\n",
      "0.03 +/- 0.005 W / (m2 sr)\n",
      "CO(2-1) beam is 0.167 x 0.1 arcmin\n"
     ]
    }
   ],
   "source": [
    "myunit = \"erg s-1 cm-2 sr-1\"\n",
    "m1 = Measurement(data=30.,uncertainty = StdDevUncertainty(5.0),identifier=\"OI_145\",unit=myunit)\n",
    "m2 = Measurement(data=10.,uncertainty = StdDevUncertainty(2.0),identifier=\"CI_609\",unit=myunit)\n",
    "m3 = Measurement(data=51.,uncertainty = StdDevUncertainty(6.0),identifier=\"CO_21\",unit=\"K km/s\",\n",
    "                bmaj=10*u.arcsec,bmin=6*u.arcsec,bpa=-12.3*u.degree)\n",
    "m4 = Measurement(data=100.,uncertainty = StdDevUncertainty(10.),identifier=\"CII_158\",unit=myunit,\n",
    "                 bmaj=20*u.arcsec,bmin=20*u.arcsec,bpa=0*u.degree)\n",
    "print(m1)\n",
    "# You can convert any Measurement to equivalent units \n",
    "w = utils.to(\"W m^-2 sr^-1\",m1)\n",
    "print(w)\n",
    "# Print the beam parameters of the CO \n",
    "print(f'CO(2-1) beam is {u.Quantity(m3.header[\"BMAJ\"],\"deg\").to(\"arcmin\").value:.3g} x {u.Quantity(m3.header[\"BMIN\"],\"deg\").to(\"arcmin\"):.3g}')"
   ]
  },
  {
   "cell_type": "markdown",
   "metadata": {},
   "source": [
    "## 2. Creating an array of Measurements from a Table\n",
    "Instantiation of many Measurements can be done quickly by listing them \n",
    "in an external table and reading the table with the `Measurement.from_table` method.\n",
    "Tables can be in any [astropy recognized format](https://docs.astropy.org/en/stable/io/unified.html#built-in-table-readers-writers).  Required columns are *identifier, data, uncertainty* with optional columns *bmaj, bmin, bpa* following the inputs to the `Measurement` constructor.    Based the unit in the table header, the *uncertainty* will be interpreted as absolute or as a percentage of the *data*.  Included with these notebooks are two example table in IPAC format: `measurement_example1.tab` has *uncertainty* as percent and  `measurement_example2.tab` has beam parameters."
   ]
  },
  {
   "cell_type": "markdown",
   "metadata": {},
   "source": [
    "`Measurement.from_table` can return either a single `Measurement` where the data array contains all rows of the table, or Python list of `Measurements` with one Measurement per table row.  This is controlled with the keyword `array`. "
   ]
  },
  {
   "cell_type": "code",
   "execution_count": 11,
   "metadata": {},
   "outputs": [
    {
     "name": "stdout",
     "output_type": "stream",
     "text": [
      "Single Measurement with list of values.\n",
      "<class 'pdrtpy.measurement.Measurement'>\n",
      "[0.00109 0.00121 0.00082 0.00094 0.00112 0.00148 0.00151 0.00089 0.00105\n",
      " 0.00118 0.00146 0.00193 0.00179] +/- [0.00022 0.00024 0.00016 0.00019 0.00022 0.00030 0.00030 0.00018 0.00021\n",
      " 0.00024 0.00029 0.00039 0.00036] \n",
      "\n",
      "List of Measurements with single values.\n",
      "<class 'list'>\n",
      "CO_2-1 2.000e+05 +/- 1.234e+02 Jy\n",
      "CO_3-2 3.000e+05 +/- 4.321e+02 Jy\n",
      "CO_4-3 4.000e+05 +/- 1.000e+03 Jy\n",
      "CII_158 5.000e+05 +/- 2.000e+03 Jy\n",
      "H200S4 6.000e+05 +/- 8.000e+03 Jy\n",
      "FIR 7.000e+05 +/- 1.800e+03 Jy\n",
      "H200S6 8.000e+05 +/- 2.900e+03 Jy\n",
      "H200S7 9.000e+05 +/- 3.333e+03 Jy\n"
     ]
    }
   ],
   "source": [
    "# Read in a table where all rows are put into one Measurement.\n",
    "a = Measurement.from_table(\"../data/measurement_example1.tab\",array=False)\n",
    "print(\"Single Measurement with list of values.\")\n",
    "print(type(a))\n",
    "print(f\"{a:3.5f}\\n\")\n",
    "\n",
    "# Read in a table where each row is put into its own Measurement and the list is returned\n",
    "a2 = Measurement.from_table(\"../data/measurement_example2.tab\",array=True)\n",
    "print(\"List of Measurements with single values.\")\n",
    "print(type(a2))\n",
    "for m in a2:\n",
    "    print(f'{m.id} {m:3.3e}')"
   ]
  },
  {
   "cell_type": "markdown",
   "metadata": {},
   "source": [
    "## 3. Creating Measurements from a FITS images\n",
    "\n",
    "Typical sub-millimeter maps we get from telescopes don't have the error plane, but PDRT makes it easy for you to create one if you know the magnitude of the error or if you have a separate error map. Your FITS images can be in intensity units (equivalent to erg s$^{-1}$ cm$^{-2}$ sr$^{-1}$) or can be in K km s$^{-1}$.  PDRT will do appropriate conversion as necessary when it reads in your images.   Here is an example using the N22 data from [Jameson et al. 2018](https://ui.adsabs.harvard.edu/abs/2018ApJ...853..111J/abstract). These data consist of separate flux and error maps for [OI] 145 $\\mu$m and [CII] 158 $\\mu$m,  and a flux map of the total far-infrared emission (FIR) which has a 10% error.  The static method `Measurement.make_measurement` will put the flux and error together in a single image with 2 HDUs and write that FITS file to disk.  You then read the image back in via the `read` method.\n",
    "\n",
    "*Note:* This example locates in the test data distributed with these `pdrtpy` using a shortcut `utils.get_testdata`.  In more typical operation, you would simply provide the full-qualified pathnames to your FITS data files. "
   ]
  },
  {
   "cell_type": "code",
   "execution_count": 12,
   "metadata": {},
   "outputs": [
    {
     "name": "stdout",
     "output_type": "stream",
     "text": [
      "Test FITS files are in: /home/mpound/src/pdrtpy/pdrtpy/testdata/\n",
      "World Coordinate System:\n",
      " WCS Keywords\n",
      "\n",
      "Number of WCS axes: 2\n",
      "CTYPE : 'RA---TAN'  'DEC--TAN'  \n",
      "CRVAL : 12.10878606  -73.33488267  \n",
      "CRPIX : 1.0  1.0  \n",
      "PC1_1 PC1_2  : 1.0  0.0  \n",
      "PC2_1 PC2_2  : 0.0  1.0  \n",
      "CDELT : -0.00079167  0.00079167  \n",
      "NAXIS : 81  139\n",
      "\n",
      "[OI] max 2.48E-07 min 3.33E-09  W / (m2 sr)\n"
     ]
    },
    {
     "name": "stderr",
     "output_type": "stream",
     "text": [
      "WARNING: VerifyWarning: Invalid 'BLANK' keyword in header.  The 'BLANK' keyword is only applicable to integer data, and will be ignored in this HDU. [astropy.io.fits.hdu.image]\n",
      "WARNING: UnitsWarning: 'W/m2/sr' contains multiple slashes, which is discouraged by the FITS standard [astropy.units.format.generic]\n",
      "WARNING: VerifyWarning: Invalid 'BLANK' keyword in header.  The 'BLANK' keyword is only applicable to integer data, and will be ignored in this HDU. [astropy.io.fits.hdu.image]\n",
      "WARNING: UnitsWarning: 'W/m2/sr' contains multiple slashes, which is discouraged by the FITS standard [astropy.units.format.generic]\n",
      "WARNING: FITSFixedWarning: 'datfix' made the change 'Set MJD-OBS to 51544.500000 from DATE-OBS'. [astropy.wcs.wcs]\n",
      "WARNING: VerifyWarning: Invalid 'BLANK' keyword in header.  The 'BLANK' keyword is only applicable to integer data, and will be ignored in this HDU. [astropy.io.fits.hdu.image]\n",
      "WARNING: UnitsWarning: 'W/m2/sr' contains multiple slashes, which is discouraged by the FITS standard [astropy.units.format.generic]\n",
      "WARNING: FITSFixedWarning: 'datfix' made the change 'Set MJD-OBS to 51544.500000 from DATE-OBS'. [astropy.wcs.wcs]\n"
     ]
    }
   ],
   "source": [
    "# Get the input filenames of the FITS files in the testdata directory\n",
    "# These are maps from Jameson et al 2018.\n",
    "print(\"Test FITS files are in: %s\"%utils.testdata_dir())\n",
    "cii_flux = utils.get_testdata(\"n22_cii_flux.fits\")  # [C II] flux\n",
    "cii_err = utils.get_testdata(\"n22_cii_error.fits\")  # [C II] error\n",
    "oi_flux = utils.get_testdata(\"n22_oi_flux.fits\")    # [O I] flux \n",
    "oi_err = utils.get_testdata(\"n22_oi_error.fits\")    # [O I] error\n",
    "FIR_flux = utils.get_testdata(\"n22_FIR.fits\")       # FIR flux\n",
    "\n",
    "# Output file names\n",
    "cii_combined = \"n22_cii_flux_error.fits\"\n",
    "oi_combined = \"n22_oi_flux_error.fits\"\n",
    "FIR_combined = \"n22_FIR_flux_error.fits\"\n",
    "\n",
    "# create the Measurements and write out the FITS files.\n",
    "# Set overwrite=True to allow multiple runs of this notebook.\n",
    "Measurement.make_measurement(cii_flux, cii_err, cii_combined,overwrite=True)\n",
    "Measurement.make_measurement(oi_flux, oi_err, oi_combined,overwrite=True)\n",
    "# Assign a 10% error in FIR flux\n",
    "Measurement.make_measurement(FIR_flux, error='10%', outfile=FIR_combined,overwrite=True)\n",
    "\n",
    "# Read in the FITS files to Measurements\n",
    "cii_meas = Measurement.read(cii_combined, identifier=\"CII_158\")\n",
    "FIR_meas = Measurement.read(FIR_combined, identifier=\"FIR\")\n",
    "oi_meas = Measurement.read(oi_combined, identifier=\"OI_63\")\n",
    "\n",
    "print(\"World Coordinate System:\\n\",oi_meas.wcs)\n",
    "print(\"\\n[OI] max %.2E min %.2E  %s\"%(np.nanmax(oi_meas.data), np.nanmin(oi_meas.data),oi_meas.unit))"
   ]
  },
  {
   "cell_type": "markdown",
   "metadata": {},
   "source": [
    "## The more you have in the FITS header the less you have to specify\n",
    "\n",
    "Here we read in the CO(J=1-0) integrated intensity map that has the units, error, and beam parameters specified by the FITS keywords BUNIT, RMS, BMAJ, BMIN, BPA respectively.  So they don't need to be supplied with the Measurement constructor. These are old Bell Labs 7-m data of the Draco High Latitude Cloud (MBM 41-44).\n"
   ]
  },
  {
   "cell_type": "code",
   "execution_count": 13,
   "metadata": {
    "scrolled": true
   },
   "outputs": [
    {
     "name": "stdout",
     "output_type": "stream",
     "text": [
      "Found RMS in header: 3.00E-01 (1, 163, 138)\n",
      "The RMS of this map is 0.3 K km / s\n",
      "The CO(1-0) beam is 1.67 x 1.67 arcmin\n"
     ]
    },
    {
     "name": "stderr",
     "output_type": "stream",
     "text": [
      "WARNING: FITSFixedWarning: 'spcfix' made the change 'Changed CTYPE3 from 'VELO-LSR' to 'VOPT', and SPECSYS to 'LSRK' (VELREF=0)'. [astropy.wcs.wcs]\n"
     ]
    }
   ],
   "source": [
    "outfile=\"draco_CO_measurement.fits\"\n",
    "infile=utils.get_testdata(\"draco.ico.fits\")\n",
    "Measurement.make_measurement(infile,error='rms',outfile=outfile,overwrite=True)\n",
    "ico = Measurement.read(outfile,identifier=\"CO_10\")\n",
    "# RMS and beam size are determined from the FITS header\n",
    "print(f\"The RMS of this map is {ico.error[0][0]:0.1f} {ico.unit}\")\n",
    "print(f'The CO(1-0) beam is {u.Quantity(ico.header[\"BMAJ\"],\"deg\").to(\"arcmin\").value:.3g} x {u.Quantity(ico.header[\"BMIN\"],\"deg\").to(\"arcmin\"):.3g}')"
   ]
  },
  {
   "cell_type": "code",
   "execution_count": 14,
   "metadata": {},
   "outputs": [
    {
     "data": {
      "image/png": "[encoded data removed]",
      "text/plain": [
       "<Figure size 432x288 with 1 Axes>"
      ]
     },
     "metadata": {
      "needs_background": "light"
     },
     "output_type": "display_data"
    }
   ],
   "source": [
    "import matplotlib.pyplot as plt\n",
    "plt.imshow(ico,origin='lower',vmin=-0.1,vmax=12)\n",
    "t=plt.text(75,140,r\"I[CO(1-0)]\")"
   ]
  }
 ],
 "metadata": {
  "kernelspec": {
   "display_name": "Python 3 (ipykernel)",
   "language": "python",
   "name": "python3"
  },
  "language_info": {
   "codemirror_mode": {
    "name": "ipython",
    "version": 3
   },
   "file_extension": ".py",
   "mimetype": "text/x-python",
   "name": "python",
   "nbconvert_exporter": "python",
   "pygments_lexer": "ipython3",
   "version": "3.9.7"
  }
 },
 "nbformat": 4,
 "nbformat_minor": 4
}
