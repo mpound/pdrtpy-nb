{
 "cells": [
  {
   "cell_type": "markdown",
   "metadata": {},
   "source": [
    "### *PhotoDissociation Region Toolbox Notebooks*\n",
    "-------------------------------------------------------------\n",
    "\n",
    "# Example 3: Determining Radiation Field and Density\n",
    "\n",
    "This example shows use the PDRT Toolbox to determine the PDR radiation field $G_0$ and hydrogen nucleus volume density $n$ from your spectral line and far-infrared (FIR) data into the PDR Toolbox.  The case is for single-pixel observations (as in the classic PDRT website).   If you have not gone through the Measurements and ModelSets examples, you should do them first.\n",
    "\n",
    "[`LineRatioFit`](https://pdrtpy.readthedocs.io/en/latest/pdrtpy.tool.html#lineratiofit) is a tool to fit observations of intensity ratios to a set of PDR models. It takes as input a set of observations with errors represented as [`Measurements`](https://pdrtpy.readthedocs.io/en/latest/pdrtpy.measurement.html) and  [`ModelSet`](https://pdrtpy.readthedocs.io/en/latest/pdrtpy.modelset.html) for the models to which the data will be fitted. The observations should be spectral line or continuum intensities.  They can be spatial maps or single pixel values. They should have the same spatial resolution.  \n",
    "\n",
    "The models to be fit are stored as intensity ratios.  The input observations will be use to create ratios that correspond to models.  From there a minimization fit is done to determine the density and radiation field that best fit the data.At least 3 observations are needed in order to make at least 2 ratios.  With fewer ratios, no fitting can be done. More ratios generally means better determined density and radiation field, assuming the data are consistent with each other.   \n",
    "\n",
    "Once the fit is done, [`LineRatioPlot`](https://pdrtpy.readthedocs.io/en/latest/pdrtpy.plot.html#lineratioplot) can be used to view the results.\n"
   ]
  },
  {
   "cell_type": "markdown",
   "metadata": {},
   "source": [
    "### Radiation Field and Density from single value Measurements\n",
    "Following the example on how to use Measurements, create Measurements for your observations."
   ]
  },
  {
   "cell_type": "code",
   "execution_count": null,
   "metadata": {
    "scrolled": true
   },
   "outputs": [],
   "source": [
    "from pdrtpy.measurement import Measurement\n",
    "from pdrtpy.modelset import ModelSet\n",
    "import pdrtpy.pdrutils as utils\n",
    "from pdrtpy.tool.lineratiofit import LineRatioFit\n",
    "from pdrtpy.plot.lineratioplot import LineRatioPlot\n",
    "from astropy.nddata import StdDevUncertainty\n",
    "import astropy.units as u\n",
    "import numpy as np\n",
    "import corner\n",
    "from copy import deepcopy"
   ]
  },
  {
   "cell_type": "code",
   "execution_count": null,
   "metadata": {},
   "outputs": [],
   "source": [
    "myunit = \"erg s-1 cm-2 sr-1\" # my default unit for value and error\n",
    "m1 = Measurement(data=1.2E-5,uncertainty = StdDevUncertainty(4E-6),\n",
    "                 identifier=\"OI_63\",unit=myunit)\n",
    "m2 = Measurement(data=1E-6,uncertainty = StdDevUncertainty([3E-7]),\n",
    "                 identifier=\"CI_609\",unit=myunit)\n",
    "m3 = Measurement(data=26,uncertainty = StdDevUncertainty([5]),\n",
    "                 identifier=\"CO_43\",restfreq=\"461.04077 GHz\", unit=\"K km/s\")\n",
    "m4 = Measurement(data=4E-6,uncertainty = StdDevUncertainty([4E-7]),\n",
    "                 identifier=\"CII_158\",unit=myunit)\n",
    "a = [m1,m2,m3,m4]"
   ]
  },
  {
   "cell_type": "markdown",
   "metadata": {},
   "source": [
    "Now create the fitting tool, feeding it your observations.   "
   ]
  },
  {
   "cell_type": "code",
   "execution_count": null,
   "metadata": {},
   "outputs": [],
   "source": [
    "ms = ModelSet(\"wk2020\",z=1)\n",
    "p = LineRatioFit(ms,measurements=a) "
   ]
  },
  {
   "cell_type": "markdown",
   "metadata": {},
   "source": [
    "### Now run it! \n",
    "Note the K km s$^{-1}$ get converted on the fly to erg s$^{-1}$ cm$^{-2}$ sr$^{-1}$.  You will get warned that there are no beam parameters in the Measurements.  The default fitting method is least-squares, but other methods are available. (see https://lmfit.github.io/lmfit-py/fitting.html )"
   ]
  },
  {
   "cell_type": "code",
   "execution_count": null,
   "metadata": {},
   "outputs": [],
   "source": [
    "p.run()"
   ]
  },
  {
   "cell_type": "markdown",
   "metadata": {},
   "source": [
    "### The results are stored in member variables as Measurements and in an `lmfit.ModelResult` object.\n"
   ]
  },
  {
   "cell_type": "code",
   "execution_count": null,
   "metadata": {},
   "outputs": [],
   "source": [
    "# ModelResult\n",
    "p.fit_result[0]"
   ]
  },
  {
   "cell_type": "markdown",
   "metadata": {},
   "source": [
    "#### `pdrutils` has methods to convert between the common radiation field measures. "
   ]
  },
  {
   "cell_type": "code",
   "execution_count": null,
   "metadata": {},
   "outputs": [],
   "source": [
    "print(f\"Density = {p.density:3.2e}\")\n",
    "print(f\"Radiation Field = {p.radiation_field:3.2e}\")\n",
    "# example conversions\n",
    "print(f\"{utils.toDraine(p.radiation_field):3.2f}\")\n",
    "print(f\"{utils.tocgs(p.radiation_field):3.2e}\")\n",
    "print(f\"{utils.toMathis(p.radiation_field):3.2e}\")"
   ]
  },
  {
   "cell_type": "markdown",
   "metadata": {},
   "source": [
    "## Now on to plotting!\n",
    "Create a plotter from the tool.  For single pixel measurements, you can plot the observed ratios in (G0,n) space like the classic PDRT.  "
   ]
  },
  {
   "cell_type": "code",
   "execution_count": null,
   "metadata": {},
   "outputs": [],
   "source": [
    "plot = LineRatioPlot(p)"
   ]
  },
  {
   "cell_type": "markdown",
   "metadata": {},
   "source": [
    "### LineRatioPlot has many options for how plots are displayed.\n",
    "You can vary colormap, contours, units, etc.  For an exhaustive list, see the documentation web page or type `help(LineRatioPlot)`.\n",
    "    "
   ]
  },
  {
   "cell_type": "markdown",
   "metadata": {},
   "source": [
    "#### Plot your observed ratios with errors on the matching models.  \n",
    "The observational errors are shown as shaded regions around the solid observation line. Here we also show how to change the figure size and the color use for the measurement (\"observed\")."
   ]
  },
  {
   "cell_type": "code",
   "execution_count": null,
   "metadata": {
    "scrolled": true
   },
   "outputs": [],
   "source": [
    "plot.ratios_on_models(yaxis_unit=\"Draine\",image=True,norm='simple',ncols=1,\n",
    "                      figsize=(10,20), meas_color=['red'],label=True)\n",
    "# Save the figure to a PNG\n",
    "plot.savefig(\"modelfits.png\")\n"
   ]
  },
  {
   "cell_type": "markdown",
   "metadata": {},
   "source": [
    "### Do the overlay plots differently.\n",
    "In this example, the figures are smaller, the normalization and colormap are changed, and we use dotted lines instead of shading to indicate the errors on the observations."
   ]
  },
  {
   "cell_type": "code",
   "execution_count": null,
   "metadata": {},
   "outputs": [],
   "source": [
    "plot.ratios_on_models(norm='log',label=True,cmap='rainbow',shading=0,contour_color='k')"
   ]
  },
  {
   "cell_type": "markdown",
   "metadata": {},
   "source": [
    "#### Plot the reduced $\\chi^2$ in $(n,G_0)$ space, using an alternative colormap and label the contours"
   ]
  },
  {
   "cell_type": "code",
   "execution_count": null,
   "metadata": {
    "scrolled": true
   },
   "outputs": [],
   "source": [
    "plot.reduced_chisq(cmap='gray_r',norm='log',label=True,colors='white',\n",
    "                   legend=True,vmax=8E4,figsize=(5,7),yaxis_unit='Habing')\n",
    "# save as a PNG file\n",
    "plot.savefig(\"chisq.png\")"
   ]
  },
  {
   "cell_type": "markdown",
   "metadata": {},
   "source": [
    "#### How about just contours? We need to specify color since default contour color is white.  Also add a legend showing the values at the minimum."
   ]
  },
  {
   "cell_type": "code",
   "execution_count": null,
   "metadata": {},
   "outputs": [],
   "source": [
    "plot.chisq(image=False,cmap='gray_r',norm='log',colors='k',label=True,legend=True,yaxis_unit='Habing')"
   ]
  },
  {
   "cell_type": "markdown",
   "metadata": {},
   "source": [
    "#### Plot confidence intervals.\n",
    "The default levels are [50, 68, 80, 95, 99]"
   ]
  },
  {
   "cell_type": "code",
   "execution_count": null,
   "metadata": {},
   "outputs": [],
   "source": [
    "plot.confidence_intervals()"
   ]
  },
  {
   "cell_type": "markdown",
   "metadata": {},
   "source": [
    "#### What are the model ratios matching these observations?"
   ]
  },
  {
   "cell_type": "code",
   "execution_count": null,
   "metadata": {},
   "outputs": [],
   "source": [
    "list(p._modelratios.keys())"
   ]
  },
  {
   "cell_type": "markdown",
   "metadata": {},
   "source": [
    "#### Plot one of the model ratios"
   ]
  },
  {
   "cell_type": "code",
   "execution_count": null,
   "metadata": {},
   "outputs": [],
   "source": [
    "plot.modelratio(\"CII_158/CI_609\")"
   ]
  },
  {
   "cell_type": "markdown",
   "metadata": {},
   "source": [
    "#### Save the most recent figure to a PNG"
   ]
  },
  {
   "cell_type": "code",
   "execution_count": null,
   "metadata": {},
   "outputs": [],
   "source": [
    "plot.savefig(\"CII_CI.png\")"
   ]
  },
  {
   "cell_type": "markdown",
   "metadata": {},
   "source": [
    "#### Overlay all the ratios and errors in model space.  \n",
    "These are colloquially referred to as \"spaghetti diagrams.\"   You can add text to the plot with text().  You can otherwise modify the plot by referencing the `_plt` attribute which is an instance of `matplotlib.pyplot`."
   ]
  },
  {
   "cell_type": "code",
   "execution_count": null,
   "metadata": {
    "scrolled": true
   },
   "outputs": [],
   "source": [
    "plot.overlay_all_ratios(yaxis_unit=\"Habing\",figsize=(5,5))\n",
    "plot.text(1234,15,r\"$G_{0,FIR}$\",fontsize='large',color='k')\n",
    "plot._plt.hlines(10,10,1E7,color='k',linewidth=1)"
   ]
  },
  {
   "cell_type": "markdown",
   "metadata": {},
   "source": [
    "### Add intensities to the plot\n",
    "The default is to show ratios.  You can add intensities through the `measurements` keyword. This example also shows how to change the legend location."
   ]
  },
  {
   "cell_type": "code",
   "execution_count": null,
   "metadata": {},
   "outputs": [],
   "source": [
    "plot.overlay_all_ratios(yaxis_unit=\"Habing\",figsize=(15,5),\n",
    "                        measurements=a,loc='upper left',\n",
    "                        bbox_to_anchor=(1.05,0.9))"
   ]
  },
  {
   "cell_type": "markdown",
   "metadata": {},
   "source": [
    "### Let's get all Bayesian up in this crib\n",
    "Instead of least-squares, you can use the emcee package to do Monte Carlo Markov Chain analysis to determine $n$ and $G_0$.\n",
    "Note: this can take a few minutes.\n",
    "\n",
    "*Caution: This method is computationally expensive so is not (yet) recommended for maps!*"
   ]
  },
  {
   "cell_type": "code",
   "execution_count": null,
   "metadata": {},
   "outputs": [],
   "source": [
    "p.run(method='emcee',steps=2000)"
   ]
  },
  {
   "cell_type": "code",
   "execution_count": null,
   "metadata": {},
   "outputs": [],
   "source": [
    "print(f' n = {p.density:.2e}\\nG0 = {p.radiation_field:.2e}')\n",
    "p.fit_result[0]"
   ]
  },
  {
   "cell_type": "markdown",
   "metadata": {},
   "source": [
    "### You can make the traditional corner plots"
   ]
  },
  {
   "cell_type": "code",
   "execution_count": null,
   "metadata": {},
   "outputs": [],
   "source": [
    "res = p.fit_result[0]\n",
    "fig = corner.corner(res.flatchain, labels=res.var_names, \n",
    "                    truths=list(res.params.valuesdict().values()))"
   ]
  },
  {
   "cell_type": "markdown",
   "metadata": {},
   "source": [
    "### The model radiation fields are in ${\\rm erg~s^{-1}~cm^{-2}}$.  Here's a trick if you want to convert the corner plot to Habing"
   ]
  },
  {
   "cell_type": "code",
   "execution_count": null,
   "metadata": {},
   "outputs": [],
   "source": [
    "# from copy import deepcopy  [i moved the import to the first cell]\n",
    "scale = 1.6E-3 # 1 habing = 1.6E-3 erg s-1 cm-2\n",
    "# copy the results table\n",
    "rescopy = deepcopy(res.flatchain)\n",
    "\n",
    "# scale the radiation_field column of the table.\n",
    "rescopy['radiation_field'] /= scale\n",
    "\n",
    "# now copy and scale the \"best fit\" values where the cross hairs are plotted.\n",
    "truths=np.array(list(res.params.valuesdict().values()))\n",
    "truths[1] /=scale\n",
    "\n",
    "fig = corner.corner(rescopy, labels=[\"$n$\",\"$G_0$\"], truths=truths)"
   ]
  },
  {
   "cell_type": "markdown",
   "metadata": {},
   "source": [
    "# What if you want to fit multiple sets of measurements that aren't in map form?\n",
    "You can do a bulk import and fit by\n",
    "reading in tables that contain intensities for individual lines to \n",
    "create a `Measurement` instance containing a 1-D array of data points using [*Measurement.from_table()*.](http://pdrtpy.readthedocs.io/en/latest/pdrtpy.measurement.html#pdrtpy.measurement.Measurement.from_table)  \n",
    "\n",
    "Below is an example using \\[C II\\], CO(3-2), and FIR data on the source RCW 49 from [Tiwari et al. 2021.](https://ui.adsabs.harvard.edu/abs/2021ApJ...914..117T/abstract)  In this example, the tables are in IPAC format, but any Astropy supported table format is acceptable.  "
   ]
  },
  {
   "cell_type": "code",
   "execution_count": null,
   "metadata": {},
   "outputs": [],
   "source": [
    "m1 = Measurement.from_table(\"rcw49_nc_cii158.tab\")\n",
    "m2 = Measurement.from_table(\"rcw49_nc_co32.tab\")\n",
    "m3 = Measurement.from_table(\"rcw49_nc_fir.tab\")\n",
    "ms = ModelSet(\"wk2006\",z=1)\n",
    "lrf = LineRatioFit(ms,measurements=[m1,m2,m3])\n",
    "# run it\n",
    "lrf.run()"
   ]
  },
  {
   "cell_type": "markdown",
   "metadata": {},
   "source": [
    "Plotting in `LineRatioPlot` is set up to handle single pixels or spatial maps, rather than vectors, s you can use that here. But you can examine the inputs and results in a table.  The `table` property returns the inputs and fits in an astropy Table.   If you have not yet called `run()` it will include only your input `Measurements`.\n",
    "Note the $\\chi^2$ here are infinitesimal because there are only 2 parameters (ratios) for 2 unknowns, so the fit is \"perfect.\""
   ]
  },
  {
   "cell_type": "code",
   "execution_count": null,
   "metadata": {},
   "outputs": [],
   "source": [
    "t=lrf.table\n",
    "t.show_in_notebook()"
   ]
  },
  {
   "cell_type": "markdown",
   "metadata": {},
   "source": [
    "#### From here you can use matplotlib tools to explore the data further.\n",
    "For example, below is a plot of two intensity ratios."
   ]
  },
  {
   "cell_type": "code",
   "execution_count": null,
   "metadata": {},
   "outputs": [],
   "source": [
    "import matplotlib.pyplot as plt\n",
    "x='CII_158/FIR'\n",
    "y='CII_158/CO_32'\n",
    "plt.scatter(t[x],t[y])\n",
    "plt.xlabel(x)\n",
    "plt.ylabel(y)"
   ]
  },
  {
   "cell_type": "markdown",
   "metadata": {
    "tags": []
   },
   "source": [
    "#### This shows a scatter plot of CII 158 $\\mu$m intensity vs. $G_0$.   "
   ]
  },
  {
   "cell_type": "code",
   "execution_count": null,
   "metadata": {},
   "outputs": [],
   "source": [
    "x='CII_158'\n",
    "y='Radiation Field'\n",
    "plt.scatter(t[x],t[y])\n",
    "plt.xlabel(f'{x} [{t[x].unit}]')\n",
    "plt.ylabel(f'{y} [{t[y].unit}]')"
   ]
  },
  {
   "cell_type": "markdown",
   "metadata": {},
   "source": [
    "#### And here is $n$ vs. $G_0$"
   ]
  },
  {
   "cell_type": "code",
   "execution_count": null,
   "metadata": {},
   "outputs": [],
   "source": [
    "y='Radiation Field'\n",
    "x='H2 Volume Density'\n",
    "print(t[x].shape,t[y].shape)\n",
    "plt.scatter(t[x],t[y])\n",
    "plt.xlabel(r'$n$'+f' [{t[x].unit}]')\n",
    "plt.ylabel(r'$G_0$'+f' [{t[y].unit}]')"
   ]
  }
 ],
 "metadata": {
  "kernelspec": {
   "display_name": "Python 3 (ipykernel)",
   "language": "python",
   "name": "python3"
  },
  "language_info": {
   "codemirror_mode": {
    "name": "ipython",
    "version": 3
   },
   "file_extension": ".py",
   "mimetype": "text/x-python",
   "name": "python",
   "nbconvert_exporter": "python",
   "pygments_lexer": "ipython3",
   "version": "3.9.7"
  }
 },
 "nbformat": 4,
 "nbformat_minor": 4
}
