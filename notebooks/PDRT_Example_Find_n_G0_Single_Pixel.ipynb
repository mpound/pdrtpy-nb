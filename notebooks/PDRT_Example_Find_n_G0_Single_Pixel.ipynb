{
 "cells": [
  {
   "cell_type": "markdown",
   "metadata": {},
   "source": [
    "### *PhotoDissociation Region Toolbox Notebooks*\n",
    "-------------------------------------------------------------\n",
    "\n",
    "# Example 3: Determining Radiation Field and Density\n",
    "\n",
    "This example shows use the PDRT Toolbox to determine the PDR radiation field $G_0$ and hydrogen nucleus volume density $n$ from your spectral line and far-infrared (FIR) data into the PDR Toolbox.  The case is for single-pixel observations (as in the classic PDRT website).   If you have not gone through the Measurements and ModelSets examples, you should do them first.\n",
    "\n",
    "[`LineRatioFit`](https://pdrtpy.readthedocs.io/en/latest/pdrtpy.tool.html#lineratiofit) is a tool to fit observations of intensity ratios to a set of PDR models. It takes as input a set of observations with errors represented as [`Measurements`](https://pdrtpy.readthedocs.io/en/latest/pdrtpy.measurement.html) and  [`ModelSet`](https://pdrtpy.readthedocs.io/en/latest/pdrtpy.modelset.html) for the models to which the data will be fitted. The observations should be spectral line or continuum intensities.  They can be spatial maps or single pixel values. They should have the same spatial resolution.  \n",
    "\n",
    "The models to be fit are stored as intensity ratios.  The input observations will be use to create ratios that correspond to models.  From there a minimization fit is done to determine the density and radiation field that best fit the data.At least 3 observations are needed in order to make at least 2 ratios.  With fewer ratios, no fitting can be done. More ratios generally means better determined density and radiation field, assuming the data are consistent with each other.   \n",
    "\n",
    "Once the fit is done, [`LineRatioPlot`](https://pdrtpy.readthedocs.io/en/latest/pdrtpy.plot.html#lineratioplot) can be used to view the results.\n"
   ]
  },
  {
   "cell_type": "markdown",
   "metadata": {},
   "source": [
    "### Radiation Field and Density from single value Measurements\n",
    "Following the example on how to use Measurements, create Measurements for your observations."
   ]
  },
  {
   "cell_type": "code",
   "execution_count": null,
   "metadata": {
    "scrolled": true
   },
   "outputs": [],
   "source": [
    "from pdrtpy.measurement import Measurement\n",
    "from pdrtpy.modelset import ModelSet\n",
    "import pdrtpy.pdrutils as utils\n",
    "from pdrtpy.tool.lineratiofit import LineRatioFit\n",
    "from pdrtpy.plot.lineratioplot import LineRatioPlot\n",
    "from astropy.nddata import StdDevUncertainty\n",
    "import astropy.units as u\n",
    "import numpy as np"
   ]
  },
  {
   "cell_type": "code",
   "execution_count": null,
   "metadata": {},
   "outputs": [],
   "source": [
    "# check that your notebooks align with your pdrtpy version\n",
    "utils.check_nb()"
   ]
  },
  {
   "cell_type": "code",
   "execution_count": null,
   "metadata": {},
   "outputs": [],
   "source": [
    "myunit = \"erg s-1 cm-2 sr-1\" # my default unit for value and error\n",
    "m1 = Measurement(data=6E-6,uncertainty = StdDevUncertainty(1E-6),identifier=\"OI_145\",unit=myunit)\n",
    "m2 = Measurement(data=2.2E-6,uncertainty = StdDevUncertainty(5E-7),identifier=\"CI_609\",unit=myunit)\n",
    "m3 = Measurement(data=260.0,uncertainty = StdDevUncertainty(40.0),identifier=\"CO_21\",restfreq=\"230.538 GHz\", unit=\"K km/s\")\n",
    "m4 = Measurement(data=2E-5,uncertainty = StdDevUncertainty(2E-6),identifier=\"CII_158\",unit=myunit)\n",
    "a = [m1,m2,m3,m4]"
   ]
  },
  {
   "cell_type": "markdown",
   "metadata": {},
   "source": [
    "Now create the fitting tool, feeding it your observations.   It will use the default  Wolfire/Kauffman ModelSet."
   ]
  },
  {
   "cell_type": "code",
   "execution_count": null,
   "metadata": {},
   "outputs": [],
   "source": [
    "p = LineRatioFit(ModelSet(\"wk2006\",z=1),measurements=a)"
   ]
  },
  {
   "cell_type": "markdown",
   "metadata": {},
   "source": [
    "### Now run it! \n",
    "Note the K km s$^{-1}$ get converted on the fly to erg s$^{-1}$ cm$^{-2}$ sr$^{-1}$.  You will get warned that there are no beam parameters in the Measurements."
   ]
  },
  {
   "cell_type": "code",
   "execution_count": null,
   "metadata": {},
   "outputs": [],
   "source": [
    "p.run()"
   ]
  },
  {
   "cell_type": "markdown",
   "metadata": {},
   "source": [
    "### The results are stored in member variables as Measurements.\n",
    "`pdrutils` has methods to convert between the common radiation field measures. Note: the errors in $n$ and $G_0$ have been set to `NaN` because we don't have a good way to calculate them yet."
   ]
  },
  {
   "cell_type": "code",
   "execution_count": null,
   "metadata": {},
   "outputs": [],
   "source": [
    "print(f\"Density = {p.density:3.2e}\")\n",
    "print(f\"Radiation Field = {p.radiation_field:3.2e}\")\n",
    "# example conversions\n",
    "print(f\"{utils.toDraine(p.radiation_field):3.2f}\")\n",
    "print(f\"{utils.tocgs(p.radiation_field):3.2e}\")\n",
    "print(f\"{utils.toMathis(p.radiation_field):3.2e}\")"
   ]
  },
  {
   "cell_type": "markdown",
   "metadata": {},
   "source": [
    "## Now on to plotting!\n",
    "Create a plotter from the tool.  For single pixel measurements, you can plot the observed ratios in (G0,n) space like the classic PDRT.  "
   ]
  },
  {
   "cell_type": "code",
   "execution_count": null,
   "metadata": {},
   "outputs": [],
   "source": [
    "plot = LineRatioPlot(p)"
   ]
  },
  {
   "cell_type": "code",
   "execution_count": null,
   "metadata": {},
   "outputs": [],
   "source": [
    "# since you only have one pixel, asking to plot density, radiation field, or both just prints\n",
    "plot.show_both()"
   ]
  },
  {
   "cell_type": "markdown",
   "metadata": {},
   "source": [
    "### LineRatioPlot has many options for how plots are displayed.\n",
    "You can vary colormap, contours, units, etc.  For an exhaustive list, see the documentation web page or type `help(LineRatioPlot)`.\n",
    "    "
   ]
  },
  {
   "cell_type": "markdown",
   "metadata": {},
   "source": [
    "#### Plot your observed ratios with errors on the matching models.  \n",
    "Here we also show how to change the figure size."
   ]
  },
  {
   "cell_type": "code",
   "execution_count": null,
   "metadata": {
    "scrolled": true
   },
   "outputs": [],
   "source": [
    "plot.ratios_on_models(yaxis_unit=\"Habing\",image=True,norm='simple',ncols=1,figsize=(10,20), meas_color=['red'])\n",
    "# Save the figure to a PNG\n",
    "plot.savefig(\"modelfits.png\")\n"
   ]
  },
  {
   "cell_type": "code",
   "execution_count": null,
   "metadata": {},
   "outputs": [],
   "source": [
    "plot.ratios_on_models(norm='log',label=True,cmap='rainbow',shading=0)\n",
    "# Save as a PNG file\n",
    "plot.savefig(\"compare.png\")"
   ]
  },
  {
   "cell_type": "markdown",
   "metadata": {},
   "source": [
    "#### Plot the reduced $\\chi^2$ in $(n,G_0)$ space, using an alternative colormap and label the contours"
   ]
  },
  {
   "cell_type": "code",
   "execution_count": null,
   "metadata": {
    "scrolled": true
   },
   "outputs": [],
   "source": [
    "plot.reduced_chisq(cmap='gray_r',norm='log',label=True,colors='white',legend=True,vmax=8E4,figsize=(4,4),yaxis_unit='Habing')\n",
    "# save as a PNG file\n",
    "plot.savefig(\"chisq.png\")"
   ]
  },
  {
   "cell_type": "markdown",
   "metadata": {},
   "source": [
    "#### How about just contours? We need to specify color since default contour color is white.  Also add a legend showing the values at the minimum."
   ]
  },
  {
   "cell_type": "code",
   "execution_count": null,
   "metadata": {},
   "outputs": [],
   "source": [
    "plot.chisq(image=False,cmap='gray_r',norm='log',colors='k',label=True,legend=True,yaxis_unit='Habing')"
   ]
  },
  {
   "cell_type": "markdown",
   "metadata": {},
   "source": [
    "#### Plot confidence intervals.\n",
    "The default levels are [50, 68, 80, 95, 99]"
   ]
  },
  {
   "cell_type": "code",
   "execution_count": null,
   "metadata": {},
   "outputs": [],
   "source": [
    "plot.confidence_intervals()"
   ]
  },
  {
   "cell_type": "markdown",
   "metadata": {},
   "source": [
    "#### What are the model ratios matching these observations?"
   ]
  },
  {
   "cell_type": "code",
   "execution_count": null,
   "metadata": {},
   "outputs": [],
   "source": [
    "p._modelratios.keys()"
   ]
  },
  {
   "cell_type": "markdown",
   "metadata": {},
   "source": [
    "#### Plot one of the model ratios"
   ]
  },
  {
   "cell_type": "code",
   "execution_count": null,
   "metadata": {},
   "outputs": [],
   "source": [
    "plot.modelratio(\"CII_158/CI_609\")"
   ]
  },
  {
   "cell_type": "markdown",
   "metadata": {},
   "source": [
    "#### Save the most recent figure to a PNG"
   ]
  },
  {
   "cell_type": "code",
   "execution_count": null,
   "metadata": {},
   "outputs": [],
   "source": [
    "plot.savefig(\"CII_CI.png\")"
   ]
  },
  {
   "cell_type": "markdown",
   "metadata": {},
   "source": [
    "#### Overlay all the ratios and errors in model space."
   ]
  },
  {
   "cell_type": "code",
   "execution_count": null,
   "metadata": {
    "scrolled": true
   },
   "outputs": [],
   "source": [
    "plot.overlay_all_ratios(yaxis_unit=\"Habing\",figsize=(5,5))"
   ]
  },
  {
   "cell_type": "markdown",
   "metadata": {},
   "source": [
    "# What if want to fit multiple sets of measurements that aren't in map form?\n",
    "You can do a bulk import and fit by\n",
    "reading in tables that contain intensities for individual lines to \n",
    "create a `Measurement` instance containing a 1-D array of data points using [*Measurement.from_table()*.](http://pdrtpy.readthedocs.io/en/latest/pdrtpy.measurement.html#pdrtpy.measurement.Measurement.from_table)  \n",
    "\n",
    "Below is an example using \\[C II\\], CO(3-2), and FIR data on the source RCW 49 from [Tiwari et al. 2021.](https://ui.adsabs.harvard.edu/abs/2021ApJ...914..117T/abstract)  In this example, the tables are in IPAC format, but any Astropy supported table format is acceptable.  "
   ]
  },
  {
   "cell_type": "code",
   "execution_count": null,
   "metadata": {},
   "outputs": [],
   "source": [
    "m1 = Measurement.from_table(\"rcw49_nc_cii158.tab\")\n",
    "m2 = Measurement.from_table(\"rcw49_nc_co32.tab\")\n",
    "m3 = Measurement.from_table(\"rcw49_nc_fir.tab\")\n",
    "ms = ModelSet(\"wk2006\",z=1)\n",
    "lrf = LineRatioFit(ms,measurements=[m1,m2,m3])\n",
    "# run it\n",
    "lrf.run()"
   ]
  },
  {
   "cell_type": "markdown",
   "metadata": {},
   "source": [
    "Plotting in `LineRatioPlot` is set up to handle single pixels or spatial maps, rather than vectors. But you can examine the inputs and results in a table.  The `table` property returns the inputs and fits in an astropy Table.   If you have not yet called `run()` it will include only your input `Measurements`."
   ]
  },
  {
   "cell_type": "code",
   "execution_count": null,
   "metadata": {},
   "outputs": [],
   "source": [
    "t=lrf.table\n",
    "t.show_in_notebook()"
   ]
  },
  {
   "cell_type": "markdown",
   "metadata": {},
   "source": [
    "#### From here you can use matplotlib tools to explore the data further.\n",
    "For example, below is a plot of two intensity ratios."
   ]
  },
  {
   "cell_type": "code",
   "execution_count": null,
   "metadata": {},
   "outputs": [],
   "source": [
    "import matplotlib.pyplot as plt\n",
    "x='CII_158/FIR'\n",
    "y='CII_158/CO_32'\n",
    "plt.scatter(t[x],t[y])\n",
    "plt.xlabel(x)\n",
    "plt.ylabel(y)"
   ]
  },
  {
   "cell_type": "markdown",
   "metadata": {
    "tags": []
   },
   "source": [
    "#### This shows a scatter plot of CII 158 $\\mu$m intensity vs. $G_0$.   \n",
    "The data are quantized to the model grid."
   ]
  },
  {
   "cell_type": "code",
   "execution_count": null,
   "metadata": {},
   "outputs": [],
   "source": [
    "x='CII_158'\n",
    "y='Radiation Field'\n",
    "plt.scatter(t[x],t[y])\n",
    "plt.xlabel(f'{x} [{t[x].unit}]')\n",
    "plt.ylabel(f'{y} [{t[y].unit}]')"
   ]
  },
  {
   "cell_type": "markdown",
   "metadata": {},
   "source": [
    "#### And here is $\\chi^2$ vs. $G_0$"
   ]
  },
  {
   "cell_type": "code",
   "execution_count": null,
   "metadata": {},
   "outputs": [],
   "source": [
    "y='Radiation Field'\n",
    "x='Chi-square'\n",
    "plt.scatter(t[x],t[y])\n",
    "plt.xlabel(r'$\\chi^2$')\n",
    "plt.ylabel(r'$G_0$'+f' [{t[y].unit}]')"
   ]
  }
 ],
 "metadata": {
  "kernelspec": {
   "display_name": "Python 3",
   "language": "python",
   "name": "python3"
  },
  "language_info": {
   "codemirror_mode": {
    "name": "ipython",
    "version": 3
   },
   "file_extension": ".py",
   "mimetype": "text/x-python",
   "name": "python",
   "nbconvert_exporter": "python",
   "pygments_lexer": "ipython3",
   "version": "3.7.10"
  }
 },
 "nbformat": 4,
 "nbformat_minor": 4
}
