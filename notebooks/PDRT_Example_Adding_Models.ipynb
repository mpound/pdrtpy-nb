{
 "cells": [
  {
   "cell_type": "markdown",
   "id": "de905358-e746-4a2c-bf03-51713e8e5388",
   "metadata": {},
   "source": [
    "### *PhotoDissociation Region Toolbox Notebooks*\n",
    "-------------------------------------------------------------\n",
    "\n",
    "# Example 7: Adding Custom Models\n",
    "\n",
    "This example shows how you can add a new model to a `ModelSet`. Here we show adding a ratio, but you can add an intensity in a similar fashion."
   ]
  },
  {
   "cell_type": "code",
   "execution_count": 1,
   "id": "e6ce07a9-c639-4756-a9e8-f1f6116dc142",
   "metadata": {},
   "outputs": [],
   "source": [
    "from pdrtpy.modelset import ModelSet\n",
    "from pdrtpy import pdrutils as utils\n",
    "from copy import deepcopy"
   ]
  },
  {
   "cell_type": "markdown",
   "id": "90a05578-50a0-47e6-b28f-7917a3fc26e1",
   "metadata": {},
   "source": [
    "### Instantiate a `ModelSet` and see what's in it."
   ]
  },
  {
   "cell_type": "code",
   "execution_count": 2,
   "id": "aacf06ee-2c0a-497e-87e0-ced1788d0ee4",
   "metadata": {},
   "outputs": [
    {
     "data": {
      "text/html": [
       "<i>Table length=73</i>\n",
       "<table id=\"table140347712033600-232640\" class=\"table-striped table-bordered table-condensed\">\n",
       "<thead><tr><th>idx</th><th>title</th><th>ratio label</th></tr></thead>\n",
       "<tr><td>0</td><td>[O I] 63 $\\mu$m / [C II] 158 $\\mu$m</td><td>OI_63/CII_158</td></tr>\n",
       "<tr><td>1</td><td>([O I] 63 $\\mu$m + [C II] 158 $\\mu$m) / I$_{FIR}$</td><td>OI_63+CII_158/FIR</td></tr>\n",
       "<tr><td>2</td><td>([O I] 145 $\\mu$m + [C II] 158 $\\mu$m) / I$_{FIR}$</td><td>OI_145+CII_158/FIR</td></tr>\n",
       "<tr><td>3</td><td>[O I] 145 $\\mu$m / [O I] 63 $\\mu$m</td><td>OI_145/OI_63</td></tr>\n",
       "<tr><td>4</td><td>[C I] 370 $\\mu$m / [C I] 609 $\\mu$m</td><td>CI_370/CI_609</td></tr>\n",
       "<tr><td>5</td><td>[C II] 158 $\\mu$m / [C I] 609 $\\mu$m</td><td>CII_158/CI_609</td></tr>\n",
       "<tr><td>6</td><td>[C II] 158 $\\mu$m / [O I] 145 $\\mu$m</td><td>CII_158/OI_145</td></tr>\n",
       "<tr><td>7</td><td>[C II] 158 $\\mu$m / I$_{FIR}$</td><td>CII_158/FIR</td></tr>\n",
       "<tr><td>8</td><td>[C II] 158 $\\mu$m / CO(J=1-0)</td><td>CII_158/CO_10</td></tr>\n",
       "<tr><td>9</td><td>[C II] 158 $\\mu$m / CO(J=2-1)</td><td>CII_158/CO_21</td></tr>\n",
       "<tr><td>10</td><td>[C II] 158 $\\mu$m / CO(J=3-2)</td><td>CII_158/CO_32</td></tr>\n",
       "<tr><td>11</td><td>[C II] 158 $\\mu$m / CO(J=6-5)</td><td>CII_158/CO_65</td></tr>\n",
       "<tr><td>12</td><td>[C II] 158 $\\mu$m / $^{13}$CO(J=1-0)</td><td>CII_158/13CO_10</td></tr>\n",
       "<tr><td>13</td><td>CO(J=2-1) / CO(J=1-0)</td><td>CO_21/CO_10</td></tr>\n",
       "<tr><td>14</td><td>CO(J=3-2) / CO(J=1-0)</td><td>CO_32/CO_10</td></tr>\n",
       "<tr><td>15</td><td>CO(J=3-2) / CO(J=2-1)</td><td>CO_32/CO_21</td></tr>\n",
       "<tr><td>16</td><td>[C I] 609 $\\mu$m / CO(J=4-3)</td><td>CI_609/CO_43</td></tr>\n",
       "<tr><td>17</td><td>[C I] 609 $\\mu$m / CO(J=2-1)</td><td>CI_609/CO_21</td></tr>\n",
       "<tr><td>18</td><td>[C I] 609 $\\mu$m / CO(J=1-0)</td><td>CI_609/CO_10</td></tr>\n",
       "<tr><td>19</td><td>[C I] 609 $\\mu$m / $^{13}$CO(J=1-0)</td><td>CI_609/13CO_10</td></tr>\n",
       "<tr><td>20</td><td>[C I] 609 $\\mu$m / $^{13}$CO(J=2-1)</td><td>CI_609/13CO_21</td></tr>\n",
       "<tr><td>21</td><td>[C I] 609 $\\mu$m / $^{13}$CO(J=3-2)</td><td>CI_609/13CO_32</td></tr>\n",
       "<tr><td>22</td><td>CO(J=4-3) / CO(J=2-1)</td><td>CO_43/CO_21</td></tr>\n",
       "<tr><td>23</td><td>CO(J=6-5) / CO(J=1-0)</td><td>CO_65/CO_10</td></tr>\n",
       "<tr><td>24</td><td>CO(J=7-6) / CO(J=1-0)</td><td>CO_76/CO_10</td></tr>\n",
       "<tr><td>25</td><td>CO(J=7-6) / CO(J=2-1)</td><td>CO_76/CO_21</td></tr>\n",
       "<tr><td>26</td><td>CO(J=7-6) / CO(J=4-3)</td><td>CO_76/CO_43</td></tr>\n",
       "<tr><td>27</td><td>CO(J=7-6) / CO(J=5-4)</td><td>CO_76/CO_54</td></tr>\n",
       "<tr><td>28</td><td>CO(J=7-6) / CO(J=6-5)</td><td>CO_76/CO_65</td></tr>\n",
       "<tr><td>29</td><td>CO(J=8-7) / CO(J=5-4)</td><td>CO_87/CO_54</td></tr>\n",
       "<tr><td>30</td><td>CO(J=8-7) / CO(J=6-5)</td><td>CO_87/CO_65</td></tr>\n",
       "<tr><td>31</td><td>CO(J=9-8) / CO(J=5-4)</td><td>CO_98/CO_54</td></tr>\n",
       "<tr><td>32</td><td>CO(J=9-8) / CO(J=6-5)</td><td>CO_98/CO_65</td></tr>\n",
       "<tr><td>33</td><td>CO(J=10-9) / CO(J=5-4)</td><td>CO_109/CO_54</td></tr>\n",
       "<tr><td>34</td><td>CO(J=10-9) / CO(J=6-5)</td><td>CO_109/CO_65</td></tr>\n",
       "<tr><td>35</td><td>CO(J=10-9) / CO(J=7-6)</td><td>CO_109/CO_76</td></tr>\n",
       "<tr><td>36</td><td>CO(J=11-10) / CO(J=5-4)</td><td>CO_1110/CO_54</td></tr>\n",
       "<tr><td>37</td><td>CO(J=11-10) / CO(J=6-5)</td><td>CO_1110/CO_65</td></tr>\n",
       "<tr><td>38</td><td>CO(J=12-11) / CO(J=5-4)</td><td>CO_1211/CO_54</td></tr>\n",
       "<tr><td>39</td><td>CO(J=12-11) / CO(J=6-5)</td><td>CO_1211/CO_65</td></tr>\n",
       "<tr><td>40</td><td>CO(J=13-12) / CO(J=5-4)</td><td>CO_1312/CO_54</td></tr>\n",
       "<tr><td>41</td><td>CO(J=13-12) / CO(J=6-5)</td><td>CO_1312/CO_65</td></tr>\n",
       "<tr><td>42</td><td>CO(J=14-13) / CO(J=5-4)</td><td>CO_1413/CO_54</td></tr>\n",
       "<tr><td>43</td><td>CO(J=14-13) / CO(J=6-5)</td><td>CO_1413/CO_65</td></tr>\n",
       "<tr><td>44</td><td>CO(J=15-14) / CO(J=5-4)</td><td>CO_1514/CO_54</td></tr>\n",
       "<tr><td>45</td><td>CO(J=15-14) / CO(J=6-5)</td><td>CO_1514/CO_65</td></tr>\n",
       "<tr><td>46</td><td>CO(J=16-15) / CO(J=5-4)</td><td>CO_1615/CO_54</td></tr>\n",
       "<tr><td>47</td><td>CO(J=16-15) / CO(J=6-5)</td><td>CO_1615/CO_65</td></tr>\n",
       "<tr><td>48</td><td>CO(J=17-16) / CO(J=5-4)</td><td>CO_1716/CO_54</td></tr>\n",
       "<tr><td>49</td><td>CO(J=17-16) / CO(J=6-5)</td><td>CO_1716/CO_65</td></tr>\n",
       "<tr><td>50</td><td>CO(J=18-17) / CO(J=5-4)</td><td>CO_1817/CO_54</td></tr>\n",
       "<tr><td>51</td><td>CO(J=18-17) / CO(J=6-5)</td><td>CO_1817/CO_65</td></tr>\n",
       "<tr><td>52</td><td>$^{13}$CO(J=1-0) / CO(J=1-0)</td><td>13CO_10/CO_10</td></tr>\n",
       "<tr><td>53</td><td>$^{13}$CO(J=2-1) / CO(J=2-1)</td><td>13CO_21/CO_21</td></tr>\n",
       "<tr><td>54</td><td>$^{13}$CO(J=3-2) / CO(J=2-1)</td><td>13CO_32/CO_21</td></tr>\n",
       "<tr><td>55</td><td>$^{13}$CO(J=4-3) / CO(J=2-1)</td><td>13CO_43/CO_21</td></tr>\n",
       "<tr><td>56</td><td>$^{13}$CO(J=5-4) / CO(J=2-1)</td><td>13CO_54/CO_21</td></tr>\n",
       "<tr><td>57</td><td>$^{13}$CO(J=6-5) / CO(J=2-1)</td><td>13CO_65/CO_21</td></tr>\n",
       "<tr><td>58</td><td>$^{13}$CO(J=7-6) / CO(J=2-1)</td><td>13CO_76/CO_21</td></tr>\n",
       "<tr><td>59</td><td>$^{13}$CO(J=3-2) / $^{13}$CO(J=1-0)</td><td>13CO_32/13CO_10</td></tr>\n",
       "<tr><td>60</td><td>H$_2$0-0S(2) 12.3 $\\mu$m / H$_2$0-0S(0) 28.2 $\\mu$m</td><td>H200S2/H200S0</td></tr>\n",
       "<tr><td>61</td><td>H$_2$0-0S(2) 12.3 $\\mu$m / H$_2$0-0S(1) 17 $\\mu$m</td><td>H200S2/H200S1</td></tr>\n",
       "<tr><td>62</td><td>H$_2$0-0S(3) 9.7 $\\mu$m / H$_2$0-0S(0) 28.2 $\\mu$m</td><td>H200S3/H200S0</td></tr>\n",
       "<tr><td>63</td><td>H$_2$0-0S(3) 9.7 $\\mu$m / H$_2$0-0S(1) 17 $\\mu$m</td><td>H200S3/H200S1</td></tr>\n",
       "<tr><td>64</td><td>H$_2$0-0S(3) 9.7 $\\mu$m / H$_2$0-0S(2) 12.3 $\\mu$m</td><td>H200S3/H200S2</td></tr>\n",
       "<tr><td>65</td><td>[Fe II] 1.60 $\\mu$m/[Fe II] 1.64 $\\mu$m</td><td>FEII_1.60/FEII_1.64</td></tr>\n",
       "<tr><td>66</td><td>[Fe II] 1.64 $\\mu$m/[Fe II] 5.34 $\\mu$m</td><td>FEII_1.64/FEII_5.34</td></tr>\n",
       "<tr><td>67</td><td>[Fe II] 5.67 $\\mu$m/[Fe II] 5.34 $\\mu$m</td><td>FEII_5.67/FEII_5.34</td></tr>\n",
       "<tr><td>68</td><td>[Fe II] 17.94 $\\mu$m/[Fe II] 5.34 $\\mu$m</td><td>FEII_17.94/FEII_5.34</td></tr>\n",
       "<tr><td>69</td><td>[Fe II] 22.90 $\\mu$m/[Fe II] 5.34 $\\mu$m</td><td>FEII_22.90/FEII_5.34</td></tr>\n",
       "<tr><td>70</td><td>[Fe II] 25.99 $\\mu$m/[Fe II] 5.34 $\\mu$m</td><td>FEII_26/FEII_5.34</td></tr>\n",
       "<tr><td>71</td><td>[Ar III] 21.83 $\\mu$m/[Ar III] 8.99 $\\mu$m</td><td>ARIII_21.83/ARIII_8.99</td></tr>\n",
       "<tr><td>72</td><td>[Ar V] 13.07 $\\mu$m/[Ar V] 7.91 $\\mu$m</td><td>ARV_13.07/ARV_7.91</td></tr>\n",
       "</table><style>table.dataTable {clear: both; width: auto !important; margin: 0 !important;}\n",
       ".dataTables_info, .dataTables_length, .dataTables_filter, .dataTables_paginate{\n",
       "display: inline-block; margin-right: 1em; }\n",
       ".paginate_button { margin-right: 5px; }\n",
       "</style>\n",
       "<script>\n",
       "\n",
       "var astropy_sort_num = function(a, b) {\n",
       "    var a_num = parseFloat(a);\n",
       "    var b_num = parseFloat(b);\n",
       "\n",
       "    if (isNaN(a_num) && isNaN(b_num))\n",
       "        return ((a < b) ? -1 : ((a > b) ? 1 : 0));\n",
       "    else if (!isNaN(a_num) && !isNaN(b_num))\n",
       "        return ((a_num < b_num) ? -1 : ((a_num > b_num) ? 1 : 0));\n",
       "    else\n",
       "        return isNaN(a_num) ? -1 : 1;\n",
       "}\n",
       "\n",
       "require.config({paths: {\n",
       "    datatables: 'https://cdn.datatables.net/1.10.12/js/jquery.dataTables.min'\n",
       "}});\n",
       "require([\"datatables\"], function(){\n",
       "    console.log(\"$('#table140347712033600-232640').dataTable()\");\n",
       "    \n",
       "jQuery.extend( jQuery.fn.dataTableExt.oSort, {\n",
       "    \"optionalnum-asc\": astropy_sort_num,\n",
       "    \"optionalnum-desc\": function (a,b) { return -astropy_sort_num(a, b); }\n",
       "});\n",
       "\n",
       "    $('#table140347712033600-232640').dataTable({\n",
       "        order: [],\n",
       "        pageLength: 50,\n",
       "        lengthMenu: [[10, 25, 50, 100, 500, 1000, -1], [10, 25, 50, 100, 500, 1000, 'All']],\n",
       "        pagingType: \"full_numbers\",\n",
       "        columnDefs: [{targets: [0], type: \"optionalnum\"}]\n",
       "    });\n",
       "});\n",
       "</script>\n"
      ],
      "text/plain": [
       "<IPython.core.display.HTML object>"
      ]
     },
     "execution_count": 2,
     "metadata": {},
     "output_type": "execute_result"
    }
   ],
   "source": [
    "ms = ModelSet(\"wk2020\",z=1)\n",
    "ms.supported_ratios.show_in_notebook()"
   ]
  },
  {
   "cell_type": "markdown",
   "id": "3e0f69bb-e991-4493-8761-105f947ffd0b",
   "metadata": {},
   "source": [
    "## 1. Adding a new model to an existing ModelSet"
   ]
  },
  {
   "cell_type": "markdown",
   "id": "1eef1141-dee4-4946-af26-e7f5d05e626e",
   "metadata": {},
   "source": [
    "### Let's say you want to add C[II] 158$\\mu$m/CO(4-3), which doesn't exist in this ModelSet\n"
   ]
  },
  {
   "cell_type": "code",
   "execution_count": 3,
   "id": "05d5a8d2-da91-4fe4-bd4a-25f2ceb6e5ec",
   "metadata": {},
   "outputs": [
    {
     "name": "stdout",
     "output_type": "stream",
     "text": [
      "proof that this model is not already in the ModelSet\n"
     ]
    }
   ],
   "source": [
    "try:\n",
    "    ms.get_model(\"CII_158/CO_43\")\n",
    "except KeyError:\n",
    "    print(\"proof that this model is not already in the ModelSet\")"
   ]
  },
  {
   "cell_type": "markdown",
   "id": "a9d307aa-da8c-47e6-9e66-3db0280836ce",
   "metadata": {},
   "source": [
    "### You can make it arithmetically from the C[II] 158$\\mu$m/CO(2-1) and CO(4-3)/CO(2-1) models.\n",
    "`Measurements` obey arithmetic operators and correctly propogate units and errors"
   ]
  },
  {
   "cell_type": "code",
   "execution_count": 4,
   "id": "6ec300e2-3622-43d3-816a-43a9926d39d4",
   "metadata": {},
   "outputs": [],
   "source": [
    "ciico21 = ms.get_model(\"CII_158/CO_21\")\n",
    "co43co21 = ms.get_model(\"CO_43/CO_21\")\n",
    "ciico43 = ciico21/co43co21"
   ]
  },
  {
   "cell_type": "markdown",
   "id": "a8a43de7-4aa2-4f99-b0ec-613c7848453c",
   "metadata": {},
   "source": [
    "### The header of the new `Measurement` will be empty.\n",
    "You can create one by copying an existing header and modifying it. Initially the new header has minimal information."
   ]
  },
  {
   "cell_type": "code",
   "execution_count": 5,
   "id": "a34c1848-73be-46fb-8d8b-153ff95931fc",
   "metadata": {},
   "outputs": [
    {
     "data": {
      "text/plain": [
       "OrderedDict([('BUNIT', ''), ('BMAJ', None), ('BMIN', None), ('BPA', None)])"
      ]
     },
     "execution_count": 5,
     "metadata": {},
     "output_type": "execute_result"
    }
   ],
   "source": [
    "ciico43.header"
   ]
  },
  {
   "cell_type": "code",
   "execution_count": 6,
   "id": "8365d7f8-51d4-4145-8879-336f7dcbd52f",
   "metadata": {},
   "outputs": [
    {
     "data": {
      "text/plain": [
       "SIMPLE  =                    T /                                                \n",
       "BITPIX  =                  -32 /                                                \n",
       "NAXIS   =                    2                                                  \n",
       "NAXIS1  =                   49 /                                                \n",
       "NAXIS2  =                   57 /                                                \n",
       "COMMENT  FITS (Flexible Image Transport System) format is defined in 'Astronomy \n",
       "COMMENT  and Astrophysics', volume 376, page 359; bibcode: 2001A&A...376..359H  \n",
       "COMMENT  nemo::fitsio.c $Id$                                                    \n",
       "DATASUM = '0000000000000000'                                                    \n",
       "CHECKSUM= '0000000000000000'                                                    \n",
       "TITLE   = '[CII] 158 micron/CO (J=2-1)'                                         \n",
       "BUNIT   = ' '                                                                   \n",
       "ORIGIN  = 'UMD'                                                                 \n",
       "AUTHOR  = 'Wolfire'                                                             \n",
       "COMMENT  Kaufman, et al. 2006, ApJ, 644, 283                                    \n",
       "COMMENT  Wolfire, et al. 2010, ApJ, 716, 1191                                   \n",
       "COMMENT  Neufeld & Wolfire 2016, ApJ, 826, 183                                  \n",
       "COMMENT  Freeze out off                                                         \n",
       "DATAMIN = 6.86862549E-08                                                        \n",
       "DATAMAX = 5752036.00                                                            \n",
       "DATE    = '2021-10-07T22:39:30 '                                                \n",
       "HISTORY                                                                         \n",
       "HISTORY PhotoDissociation Region Toolbox                                        \n",
       "HISTORY http://dustem.astro.umd.edu                                             \n",
       "HISTORY http://pdrtpy.readthedocs.io                                            \n",
       "COMMENT                                                                         \n",
       "COMMENT  Model Parameters:                                                      \n",
       "VERSION = 2.00000000                                                            \n",
       "DVDOP   = 1.50000000       / Turbulent Doppler Velocity (km/s)                  \n",
       "ABUNDC  = 1.59999996E-04   / Carbon Abundance (C/H)                             \n",
       "ABUNDO  = 3.19999992E-04   / Oxygen Abundance (O/H)                             \n",
       "ABUNDSI = 1.69999998E-06   / Silicon Abundance (Si/H)                           \n",
       "ABUNDS  = 2.80000004E-05   / Sulfur Abundance (S/H)                             \n",
       "ABUNDFE = 1.70000007E-07   / Iron Abundance (Fe/H)                              \n",
       "ABUNDMG = 1.09999996E-06   / Magnesium Abundance (Mg/H)                         \n",
       "ABUNDPAH= 2.00000002E-07   / PAH Abundance (PAH/H)                              \n",
       "ABUNDDST= 1.00000000       / Dust Abundance wrt local ISM                       \n",
       "ABUNDZ  = 1.00000000       / Dust and Metals wrt local ISM (Z=1)                \n",
       "ABUND13C= 3.19999981E-06   / Carbon 13 Abundance (13C/H)                        \n",
       "ABUNDF  = 1.79999997E-08   / Fluorine Abundance (F/H)                           \n",
       "ABUNDN  = 0.00000000       / Nitrogen Abundance (N/H)                           \n",
       "ABUNDHE = 0.100000001      / Helium Abundance (He/H)                            \n",
       "AV      = 7.00000000       / Visual Optical Depth (mag)                         \n",
       "MASS    = 0.00000000       / Clump Mass (solar mass)                            \n",
       "TAUUV   = 1.79999995       / Ratio of tau_UV/tau_V                              \n",
       "TAUFUVV = 2.50000000       / Ratio of tau_FUV/tau_V                             \n",
       "HEAT    = 'BTF'            / Bakes & Tielens - Flt PAHs                         \n",
       "BMAJ    =                                                                       \n",
       "BMIN    =                                                                       \n",
       "BPA     =                                                                       \n",
       "MODELTYP= 'ratio   '                                                            \n",
       "CUNIT1  = '1 / cm3 '                                                            \n",
       "CUNIT2  = 'erg / (cm2 s)'                                                       "
      ]
     },
     "execution_count": 6,
     "metadata": {},
     "output_type": "execute_result"
    }
   ],
   "source": [
    "ciico21.header"
   ]
  },
  {
   "cell_type": "markdown",
   "id": "122b33a7-6bd8-4bf4-832d-48c6715f5d32",
   "metadata": {},
   "source": [
    "#### Copy the [CII] 158 $\\mu$m / CO (J=2-1) header and update it.\n"
   ]
  },
  {
   "cell_type": "code",
   "execution_count": 7,
   "id": "ac4f8b5d-450e-4121-8b71-f513f425e34a",
   "metadata": {},
   "outputs": [
    {
     "data": {
      "text/plain": [
       "SIMPLE  =                    T /                                                \n",
       "BITPIX  =                  -32 /                                                \n",
       "NAXIS   =                    2                                                  \n",
       "NAXIS1  =                   49 /                                                \n",
       "NAXIS2  =                   57 /                                                \n",
       "COMMENT  FITS (Flexible Image Transport System) format is defined in 'Astronomy \n",
       "COMMENT  and Astrophysics', volume 376, page 359; bibcode: 2001A&A...376..359H  \n",
       "COMMENT  nemo::fitsio.c $Id$                                                    \n",
       "DATASUM = '0000000000000000'                                                    \n",
       "CHECKSUM= '0000000000000000'                                                    \n",
       "TITLE   = '[CII] 158 micron/CO (J=4-3)'                                         \n",
       "BUNIT   = ' '                                                                   \n",
       "ORIGIN  = 'UMD'                                                                 \n",
       "AUTHOR  = 'Wolfire'                                                             \n",
       "COMMENT  Kaufman, et al. 2006, ApJ, 644, 283                                    \n",
       "COMMENT  Wolfire, et al. 2010, ApJ, 716, 1191                                   \n",
       "COMMENT  Neufeld & Wolfire 2016, ApJ, 826, 183                                  \n",
       "COMMENT  Freeze out off                                                         \n",
       "DATAMIN = 1.73622822785546E-07                                                  \n",
       "DATAMAX =            6936208.0                                                  \n",
       "DATE    = '2022-12-02T09:37:05.393738'                                          \n",
       "HISTORY                                                                         \n",
       "HISTORY PhotoDissociation Region Toolbox                                        \n",
       "HISTORY http://dustem.astro.umd.edu                                             \n",
       "HISTORY http://pdrtpy.readthedocs.io                                            \n",
       "HISTORY Computed arithmetically from (CII_158/CO_21)/(CO_43/CO_21)              \n",
       "COMMENT                                                                         \n",
       "COMMENT  Model Parameters:                                                      \n",
       "VERSION = 2.00000000                                                            \n",
       "DVDOP   = 1.50000000       / Turbulent Doppler Velocity (km/s)                  \n",
       "ABUNDC  = 1.59999996E-04   / Carbon Abundance (C/H)                             \n",
       "ABUNDO  = 3.19999992E-04   / Oxygen Abundance (O/H)                             \n",
       "ABUNDSI = 1.69999998E-06   / Silicon Abundance (Si/H)                           \n",
       "ABUNDS  = 2.80000004E-05   / Sulfur Abundance (S/H)                             \n",
       "ABUNDFE = 1.70000007E-07   / Iron Abundance (Fe/H)                              \n",
       "ABUNDMG = 1.09999996E-06   / Magnesium Abundance (Mg/H)                         \n",
       "ABUNDPAH= 2.00000002E-07   / PAH Abundance (PAH/H)                              \n",
       "ABUNDDST= 1.00000000       / Dust Abundance wrt local ISM                       \n",
       "ABUNDZ  = 1.00000000       / Dust and Metals wrt local ISM (Z=1)                \n",
       "ABUND13C= 3.19999981E-06   / Carbon 13 Abundance (13C/H)                        \n",
       "ABUNDF  = 1.79999997E-08   / Fluorine Abundance (F/H)                           \n",
       "ABUNDN  = 0.00000000       / Nitrogen Abundance (N/H)                           \n",
       "ABUNDHE = 0.100000001      / Helium Abundance (He/H)                            \n",
       "AV      = 7.00000000       / Visual Optical Depth (mag)                         \n",
       "MASS    = 0.00000000       / Clump Mass (solar mass)                            \n",
       "TAUUV   = 1.79999995       / Ratio of tau_UV/tau_V                              \n",
       "TAUFUVV = 2.50000000       / Ratio of tau_FUV/tau_V                             \n",
       "HEAT    = 'BTF'            / Bakes & Tielens - Flt PAHs                         \n",
       "BMAJ    =                                                                       \n",
       "BMIN    =                                                                       \n",
       "BPA     =                                                                       \n",
       "MODELTYP= 'ratio   '                                                            \n",
       "CUNIT1  = '1 / cm3 '                                                            \n",
       "CUNIT2  = 'erg / (cm2 s)'                                                       "
      ]
     },
     "execution_count": 7,
     "metadata": {},
     "output_type": "execute_result"
    }
   ],
   "source": [
    "ciico43.header = deepcopy(ciico21.header)\n",
    "ciico43.header[\"TITLE\"] = '[CII] 158 micron/CO (J=4-3)' \n",
    "ciico43.header[\"DATAMAX\"] = ciico43.data.max()\n",
    "ciico43.header[\"DATAMIN\"] = ciico43.data.min()\n",
    "ciico43.header[\"HISTORY\"] = \"Computed arithmetically from (CII_158/CO_21)/(CO_43/CO_21)\"\n",
    "ciico43.header[\"DATE\"] = utils.now() #the current time and date\n",
    "ciico43.header"
   ]
  },
  {
   "cell_type": "markdown",
   "id": "0234899f-7515-493b-b08a-501441d30480",
   "metadata": {},
   "source": [
    "### Now add the model to the `ModelSet`\n",
    "The `identifier` should follow the convention already used for the individual spectral lines. \n",
    "The `title` can contain LaTeX characters."
   ]
  },
  {
   "cell_type": "code",
   "execution_count": 8,
   "id": "4ca02afa-ef3a-450b-84f3-4adc2e5a2f9d",
   "metadata": {},
   "outputs": [
    {
     "name": "stdout",
     "output_type": "stream",
     "text": [
      "Adding user model CII_158/CO_43\n"
     ]
    }
   ],
   "source": [
    "ms.add_model(\"CII_158/CO_43\",ciico43,title=\"[C II] 158 $\\mu$m / CO(J=4-3)\")"
   ]
  },
  {
   "cell_type": "markdown",
   "id": "5ae23f5b-887d-4e02-abe0-78abd033c5e6",
   "metadata": {},
   "source": [
    "### The added model is now listed in available ratios"
   ]
  },
  {
   "cell_type": "code",
   "execution_count": 9,
   "id": "658e39d2-e685-4e13-b2dc-b66b81229fea",
   "metadata": {},
   "outputs": [
    {
     "data": {
      "text/html": [
       "<i>Table length=74</i>\n",
       "<table id=\"table140347712033600-754991\" class=\"table-striped table-bordered table-condensed\">\n",
       "<thead><tr><th>idx</th><th>title</th><th>ratio label</th></tr></thead>\n",
       "<tr><td>0</td><td>[O I] 63 $\\mu$m / [C II] 158 $\\mu$m</td><td>OI_63/CII_158</td></tr>\n",
       "<tr><td>1</td><td>([O I] 63 $\\mu$m + [C II] 158 $\\mu$m) / I$_{FIR}$</td><td>OI_63+CII_158/FIR</td></tr>\n",
       "<tr><td>2</td><td>([O I] 145 $\\mu$m + [C II] 158 $\\mu$m) / I$_{FIR}$</td><td>OI_145+CII_158/FIR</td></tr>\n",
       "<tr><td>3</td><td>[O I] 145 $\\mu$m / [O I] 63 $\\mu$m</td><td>OI_145/OI_63</td></tr>\n",
       "<tr><td>4</td><td>[C I] 370 $\\mu$m / [C I] 609 $\\mu$m</td><td>CI_370/CI_609</td></tr>\n",
       "<tr><td>5</td><td>[C II] 158 $\\mu$m / [C I] 609 $\\mu$m</td><td>CII_158/CI_609</td></tr>\n",
       "<tr><td>6</td><td>[C II] 158 $\\mu$m / [O I] 145 $\\mu$m</td><td>CII_158/OI_145</td></tr>\n",
       "<tr><td>7</td><td>[C II] 158 $\\mu$m / I$_{FIR}$</td><td>CII_158/FIR</td></tr>\n",
       "<tr><td>8</td><td>[C II] 158 $\\mu$m / CO(J=1-0)</td><td>CII_158/CO_10</td></tr>\n",
       "<tr><td>9</td><td>[C II] 158 $\\mu$m / CO(J=2-1)</td><td>CII_158/CO_21</td></tr>\n",
       "<tr><td>10</td><td>[C II] 158 $\\mu$m / CO(J=3-2)</td><td>CII_158/CO_32</td></tr>\n",
       "<tr><td>11</td><td>[C II] 158 $\\mu$m / CO(J=6-5)</td><td>CII_158/CO_65</td></tr>\n",
       "<tr><td>12</td><td>[C II] 158 $\\mu$m / $^{13}$CO(J=1-0)</td><td>CII_158/13CO_10</td></tr>\n",
       "<tr><td>13</td><td>CO(J=2-1) / CO(J=1-0)</td><td>CO_21/CO_10</td></tr>\n",
       "<tr><td>14</td><td>CO(J=3-2) / CO(J=1-0)</td><td>CO_32/CO_10</td></tr>\n",
       "<tr><td>15</td><td>CO(J=3-2) / CO(J=2-1)</td><td>CO_32/CO_21</td></tr>\n",
       "<tr><td>16</td><td>[C I] 609 $\\mu$m / CO(J=4-3)</td><td>CI_609/CO_43</td></tr>\n",
       "<tr><td>17</td><td>[C I] 609 $\\mu$m / CO(J=2-1)</td><td>CI_609/CO_21</td></tr>\n",
       "<tr><td>18</td><td>[C I] 609 $\\mu$m / CO(J=1-0)</td><td>CI_609/CO_10</td></tr>\n",
       "<tr><td>19</td><td>[C I] 609 $\\mu$m / $^{13}$CO(J=1-0)</td><td>CI_609/13CO_10</td></tr>\n",
       "<tr><td>20</td><td>[C I] 609 $\\mu$m / $^{13}$CO(J=2-1)</td><td>CI_609/13CO_21</td></tr>\n",
       "<tr><td>21</td><td>[C I] 609 $\\mu$m / $^{13}$CO(J=3-2)</td><td>CI_609/13CO_32</td></tr>\n",
       "<tr><td>22</td><td>CO(J=4-3) / CO(J=2-1)</td><td>CO_43/CO_21</td></tr>\n",
       "<tr><td>23</td><td>CO(J=6-5) / CO(J=1-0)</td><td>CO_65/CO_10</td></tr>\n",
       "<tr><td>24</td><td>CO(J=7-6) / CO(J=1-0)</td><td>CO_76/CO_10</td></tr>\n",
       "<tr><td>25</td><td>CO(J=7-6) / CO(J=2-1)</td><td>CO_76/CO_21</td></tr>\n",
       "<tr><td>26</td><td>CO(J=7-6) / CO(J=4-3)</td><td>CO_76/CO_43</td></tr>\n",
       "<tr><td>27</td><td>CO(J=7-6) / CO(J=5-4)</td><td>CO_76/CO_54</td></tr>\n",
       "<tr><td>28</td><td>CO(J=7-6) / CO(J=6-5)</td><td>CO_76/CO_65</td></tr>\n",
       "<tr><td>29</td><td>CO(J=8-7) / CO(J=5-4)</td><td>CO_87/CO_54</td></tr>\n",
       "<tr><td>30</td><td>CO(J=8-7) / CO(J=6-5)</td><td>CO_87/CO_65</td></tr>\n",
       "<tr><td>31</td><td>CO(J=9-8) / CO(J=5-4)</td><td>CO_98/CO_54</td></tr>\n",
       "<tr><td>32</td><td>CO(J=9-8) / CO(J=6-5)</td><td>CO_98/CO_65</td></tr>\n",
       "<tr><td>33</td><td>CO(J=10-9) / CO(J=5-4)</td><td>CO_109/CO_54</td></tr>\n",
       "<tr><td>34</td><td>CO(J=10-9) / CO(J=6-5)</td><td>CO_109/CO_65</td></tr>\n",
       "<tr><td>35</td><td>CO(J=10-9) / CO(J=7-6)</td><td>CO_109/CO_76</td></tr>\n",
       "<tr><td>36</td><td>CO(J=11-10) / CO(J=5-4)</td><td>CO_1110/CO_54</td></tr>\n",
       "<tr><td>37</td><td>CO(J=11-10) / CO(J=6-5)</td><td>CO_1110/CO_65</td></tr>\n",
       "<tr><td>38</td><td>CO(J=12-11) / CO(J=5-4)</td><td>CO_1211/CO_54</td></tr>\n",
       "<tr><td>39</td><td>CO(J=12-11) / CO(J=6-5)</td><td>CO_1211/CO_65</td></tr>\n",
       "<tr><td>40</td><td>CO(J=13-12) / CO(J=5-4)</td><td>CO_1312/CO_54</td></tr>\n",
       "<tr><td>41</td><td>CO(J=13-12) / CO(J=6-5)</td><td>CO_1312/CO_65</td></tr>\n",
       "<tr><td>42</td><td>CO(J=14-13) / CO(J=5-4)</td><td>CO_1413/CO_54</td></tr>\n",
       "<tr><td>43</td><td>CO(J=14-13) / CO(J=6-5)</td><td>CO_1413/CO_65</td></tr>\n",
       "<tr><td>44</td><td>CO(J=15-14) / CO(J=5-4)</td><td>CO_1514/CO_54</td></tr>\n",
       "<tr><td>45</td><td>CO(J=15-14) / CO(J=6-5)</td><td>CO_1514/CO_65</td></tr>\n",
       "<tr><td>46</td><td>CO(J=16-15) / CO(J=5-4)</td><td>CO_1615/CO_54</td></tr>\n",
       "<tr><td>47</td><td>CO(J=16-15) / CO(J=6-5)</td><td>CO_1615/CO_65</td></tr>\n",
       "<tr><td>48</td><td>CO(J=17-16) / CO(J=5-4)</td><td>CO_1716/CO_54</td></tr>\n",
       "<tr><td>49</td><td>CO(J=17-16) / CO(J=6-5)</td><td>CO_1716/CO_65</td></tr>\n",
       "<tr><td>50</td><td>CO(J=18-17) / CO(J=5-4)</td><td>CO_1817/CO_54</td></tr>\n",
       "<tr><td>51</td><td>CO(J=18-17) / CO(J=6-5)</td><td>CO_1817/CO_65</td></tr>\n",
       "<tr><td>52</td><td>$^{13}$CO(J=1-0) / CO(J=1-0)</td><td>13CO_10/CO_10</td></tr>\n",
       "<tr><td>53</td><td>$^{13}$CO(J=2-1) / CO(J=2-1)</td><td>13CO_21/CO_21</td></tr>\n",
       "<tr><td>54</td><td>$^{13}$CO(J=3-2) / CO(J=2-1)</td><td>13CO_32/CO_21</td></tr>\n",
       "<tr><td>55</td><td>$^{13}$CO(J=4-3) / CO(J=2-1)</td><td>13CO_43/CO_21</td></tr>\n",
       "<tr><td>56</td><td>$^{13}$CO(J=5-4) / CO(J=2-1)</td><td>13CO_54/CO_21</td></tr>\n",
       "<tr><td>57</td><td>$^{13}$CO(J=6-5) / CO(J=2-1)</td><td>13CO_65/CO_21</td></tr>\n",
       "<tr><td>58</td><td>$^{13}$CO(J=7-6) / CO(J=2-1)</td><td>13CO_76/CO_21</td></tr>\n",
       "<tr><td>59</td><td>$^{13}$CO(J=3-2) / $^{13}$CO(J=1-0)</td><td>13CO_32/13CO_10</td></tr>\n",
       "<tr><td>60</td><td>H$_2$0-0S(2) 12.3 $\\mu$m / H$_2$0-0S(0) 28.2 $\\mu$m</td><td>H200S2/H200S0</td></tr>\n",
       "<tr><td>61</td><td>H$_2$0-0S(2) 12.3 $\\mu$m / H$_2$0-0S(1) 17 $\\mu$m</td><td>H200S2/H200S1</td></tr>\n",
       "<tr><td>62</td><td>H$_2$0-0S(3) 9.7 $\\mu$m / H$_2$0-0S(0) 28.2 $\\mu$m</td><td>H200S3/H200S0</td></tr>\n",
       "<tr><td>63</td><td>H$_2$0-0S(3) 9.7 $\\mu$m / H$_2$0-0S(1) 17 $\\mu$m</td><td>H200S3/H200S1</td></tr>\n",
       "<tr><td>64</td><td>H$_2$0-0S(3) 9.7 $\\mu$m / H$_2$0-0S(2) 12.3 $\\mu$m</td><td>H200S3/H200S2</td></tr>\n",
       "<tr><td>65</td><td>[Fe II] 1.60 $\\mu$m/[Fe II] 1.64 $\\mu$m</td><td>FEII_1.60/FEII_1.64</td></tr>\n",
       "<tr><td>66</td><td>[Fe II] 1.64 $\\mu$m/[Fe II] 5.34 $\\mu$m</td><td>FEII_1.64/FEII_5.34</td></tr>\n",
       "<tr><td>67</td><td>[Fe II] 5.67 $\\mu$m/[Fe II] 5.34 $\\mu$m</td><td>FEII_5.67/FEII_5.34</td></tr>\n",
       "<tr><td>68</td><td>[Fe II] 17.94 $\\mu$m/[Fe II] 5.34 $\\mu$m</td><td>FEII_17.94/FEII_5.34</td></tr>\n",
       "<tr><td>69</td><td>[Fe II] 22.90 $\\mu$m/[Fe II] 5.34 $\\mu$m</td><td>FEII_22.90/FEII_5.34</td></tr>\n",
       "<tr><td>70</td><td>[Fe II] 25.99 $\\mu$m/[Fe II] 5.34 $\\mu$m</td><td>FEII_26/FEII_5.34</td></tr>\n",
       "<tr><td>71</td><td>[Ar III] 21.83 $\\mu$m/[Ar III] 8.99 $\\mu$m</td><td>ARIII_21.83/ARIII_8.99</td></tr>\n",
       "<tr><td>72</td><td>[Ar V] 13.07 $\\mu$m/[Ar V] 7.91 $\\mu$m</td><td>ARV_13.07/ARV_7.91</td></tr>\n",
       "<tr><td>73</td><td>[C II] 158 $\\mu$m / CO(J=4-3)</td><td>CII_158/CO_43</td></tr>\n",
       "</table><style>table.dataTable {clear: both; width: auto !important; margin: 0 !important;}\n",
       ".dataTables_info, .dataTables_length, .dataTables_filter, .dataTables_paginate{\n",
       "display: inline-block; margin-right: 1em; }\n",
       ".paginate_button { margin-right: 5px; }\n",
       "</style>\n",
       "<script>\n",
       "\n",
       "var astropy_sort_num = function(a, b) {\n",
       "    var a_num = parseFloat(a);\n",
       "    var b_num = parseFloat(b);\n",
       "\n",
       "    if (isNaN(a_num) && isNaN(b_num))\n",
       "        return ((a < b) ? -1 : ((a > b) ? 1 : 0));\n",
       "    else if (!isNaN(a_num) && !isNaN(b_num))\n",
       "        return ((a_num < b_num) ? -1 : ((a_num > b_num) ? 1 : 0));\n",
       "    else\n",
       "        return isNaN(a_num) ? -1 : 1;\n",
       "}\n",
       "\n",
       "require.config({paths: {\n",
       "    datatables: 'https://cdn.datatables.net/1.10.12/js/jquery.dataTables.min'\n",
       "}});\n",
       "require([\"datatables\"], function(){\n",
       "    console.log(\"$('#table140347712033600-754991').dataTable()\");\n",
       "    \n",
       "jQuery.extend( jQuery.fn.dataTableExt.oSort, {\n",
       "    \"optionalnum-asc\": astropy_sort_num,\n",
       "    \"optionalnum-desc\": function (a,b) { return -astropy_sort_num(a, b); }\n",
       "});\n",
       "\n",
       "    $('#table140347712033600-754991').dataTable({\n",
       "        order: [],\n",
       "        pageLength: 50,\n",
       "        lengthMenu: [[10, 25, 50, 100, 500, 1000, -1], [10, 25, 50, 100, 500, 1000, 'All']],\n",
       "        pagingType: \"full_numbers\",\n",
       "        columnDefs: [{targets: [0], type: \"optionalnum\"}]\n",
       "    });\n",
       "});\n",
       "</script>\n"
      ],
      "text/plain": [
       "<IPython.core.display.HTML object>"
      ]
     },
     "execution_count": 9,
     "metadata": {},
     "output_type": "execute_result"
    }
   ],
   "source": [
    "ms.supported_ratios.show_in_notebook()"
   ]
  },
  {
   "cell_type": "markdown",
   "id": "be570dee-d543-4f46-899f-8bfc106312de",
   "metadata": {},
   "source": [
    "### Write out the model so you can use it later"
   ]
  },
  {
   "cell_type": "code",
   "execution_count": 10,
   "id": "45642bbe-f954-4a87-a9e6-087e3c30e910",
   "metadata": {},
   "outputs": [],
   "source": [
    "ciico43.write(\"CII_CO43.fits\",overwrite=True)"
   ]
  },
  {
   "cell_type": "markdown",
   "id": "49b11bb4-1708-4588-b625-128d15261d1c",
   "metadata": {},
   "source": [
    "### You can retrieve it just like you do with other models"
   ]
  },
  {
   "cell_type": "code",
   "execution_count": 11,
   "id": "ba80ff20-3cfa-4ab0-a9fa-20c4fa29c103",
   "metadata": {},
   "outputs": [
    {
     "data": {
      "text/plain": [
       "[[3.4678601e+02 2.0818153e+02 1.0749241e+02 ... 1.7362282e-07\n",
       "  2.5683008e-07 3.9756594e-07]\n",
       " [4.9616333e+02 2.9232959e+02 1.4560727e+02 ... 2.4507924e-07\n",
       "  2.2378157e-07 2.4590031e-07]\n",
       " [8.0963776e+02 4.6750064e+02 2.2254070e+02 ... 4.0613224e-07\n",
       "  2.5959119e-07 1.8995189e-07]\n",
       " ...\n",
       " [4.3223555e+06 3.8011560e+06 3.1338668e+06 ... 2.0164965e+01\n",
       "  1.9100477e+01 1.8327578e+01]\n",
       " [5.7499820e+06 5.0302995e+06 4.1132158e+06 ... 2.1112997e+01\n",
       "  2.0044981e+01 1.9266415e+01]\n",
       " [6.9362080e+06 6.0495800e+06 4.9228095e+06 ... 2.1759483e+01\n",
       "  2.0691019e+01 1.9882364e+01]] +/- None "
      ]
     },
     "execution_count": 11,
     "metadata": {},
     "output_type": "execute_result"
    }
   ],
   "source": [
    "ms.get_model(\"CII_158/CO_43\")"
   ]
  },
  {
   "cell_type": "markdown",
   "id": "ddf652f1-9d85-4750-958d-e62c2f567a50",
   "metadata": {},
   "source": [
    "### Check what models have been added"
   ]
  },
  {
   "cell_type": "code",
   "execution_count": 12,
   "id": "58ddefb2-695a-48f7-baae-e4198a9e5517",
   "metadata": {},
   "outputs": [
    {
     "data": {
      "text/plain": [
       "['CII_158/CO_43']"
      ]
     },
     "execution_count": 12,
     "metadata": {},
     "output_type": "execute_result"
    }
   ],
   "source": [
    "ms.user_added_models"
   ]
  },
  {
   "cell_type": "markdown",
   "id": "6d3daa75-a7a7-4dca-8504-27e580fa9763",
   "metadata": {},
   "source": [
    "#### Once added, you can use [C II] 158 $\\mu$m / CO(J=4-3) in $(n,G_0)$ fitting as you would with any other model"
   ]
  },
  {
   "cell_type": "markdown",
   "id": "4193ed2e-f4f8-4a19-980f-e1735650ea56",
   "metadata": {},
   "source": [
    "-----------------------"
   ]
  },
  {
   "cell_type": "markdown",
   "id": "9ab83692-5c26-44d3-bc53-f7f173ed8b98",
   "metadata": {},
   "source": [
    "## 2. Replacing a model that is already in the `ModelSet`\n",
    "The procedure is similar, but you have to explicitly overwrite the existing model.\n",
    "In this example we take CO(J=2-1) from the ModelSet, scale it by 1.5 and write it back."
   ]
  },
  {
   "cell_type": "code",
   "execution_count": 13,
   "id": "a791ef0f-bfb0-4489-8494-888aa7cf4aea",
   "metadata": {},
   "outputs": [],
   "source": [
    "scaledciico21 =  ciico21 * 1.5\n",
    "scaledciico21.header = deepcopy(ciico21.header)\n",
    "scaledciico21.header[\"DATAMAX\"] = ciico21.data.max()\n",
    "scaledciico21.header[\"DATAMIN\"] = ciico21.data.min()\n",
    "scaledciico21.header[\"HISTORY\"] = \"Rescaled (CII_158/CO_21) * 1.5\"\n",
    "scaledciico21.header[\"DATE\"] = utils.now()"
   ]
  },
  {
   "cell_type": "markdown",
   "id": "ef7b7f12-549f-4296-8a55-be6ae14f30c1",
   "metadata": {},
   "source": [
    "If you don't specifiy `overwrite=True` an exception will be raised."
   ]
  },
  {
   "cell_type": "code",
   "execution_count": 14,
   "id": "fc9ce1a5-8a74-4a57-b562-7ea971cb802b",
   "metadata": {},
   "outputs": [
    {
     "name": "stdout",
     "output_type": "stream",
     "text": [
      "CII_158/CO_21 is already in the wk2020 ModelSet. If you wish to overwrite it, use overwrite=True\n"
     ]
    }
   ],
   "source": [
    "try:\n",
    "    ms.add_model(\"CII_158/CO_21\",scaledciico21,title=\"[C II] 158 $\\mu$m / CO(J=2-1)\")\n",
    "except Exception as exc:\n",
    "    print(exc)"
   ]
  },
  {
   "cell_type": "code",
   "execution_count": 15,
   "id": "f5349074-d7fd-43ec-9ffc-f2a93d2ea9ba",
   "metadata": {},
   "outputs": [
    {
     "name": "stdout",
     "output_type": "stream",
     "text": [
      "Adding user model CII_158/CO_21\n"
     ]
    },
    {
     "data": {
      "text/plain": [
       "\n",
       "PhotoDissociation Region Toolbox\n",
       "http://dustem.astro.umd.edu\n",
       "http://pdrtpy.readthedocs.io\n",
       "Rescaled (CII_158/CO_21) * 1.5"
      ]
     },
     "execution_count": 15,
     "metadata": {},
     "output_type": "execute_result"
    }
   ],
   "source": [
    "ms.add_model(\"CII_158/CO_21\",scaledciico21,title=\"[C II] 158 $\\mu$m / CO(J=2-1)\",overwrite=True)\n",
    "ms.get_model(\"CII_158/CO_21\").header[\"HISTORY\"]\n"
   ]
  },
  {
   "cell_type": "code",
   "execution_count": 16,
   "id": "6a7a9413-a4e1-4d51-87eb-7cb68f06520f",
   "metadata": {},
   "outputs": [
    {
     "data": {
      "text/html": [
       "<div><i>Table length=74</i>\n",
       "<table id=\"table140347712033600\" class=\"table-striped table-bordered table-condensed\">\n",
       "<thead><tr><th>title</th><th>ratio label</th></tr></thead>\n",
       "<thead><tr><th>str51</th><th>str22</th></tr></thead>\n",
       "<tr><td>[O I] 63 $\\mu$m / [C II] 158 $\\mu$m</td><td>OI_63/CII_158</td></tr>\n",
       "<tr><td>([O I] 63 $\\mu$m + [C II] 158 $\\mu$m) / I$_{FIR}$</td><td>OI_63+CII_158/FIR</td></tr>\n",
       "<tr><td>([O I] 145 $\\mu$m + [C II] 158 $\\mu$m) / I$_{FIR}$</td><td>OI_145+CII_158/FIR</td></tr>\n",
       "<tr><td>[O I] 145 $\\mu$m / [O I] 63 $\\mu$m</td><td>OI_145/OI_63</td></tr>\n",
       "<tr><td>[C I] 370 $\\mu$m / [C I] 609 $\\mu$m</td><td>CI_370/CI_609</td></tr>\n",
       "<tr><td>[C II] 158 $\\mu$m / [C I] 609 $\\mu$m</td><td>CII_158/CI_609</td></tr>\n",
       "<tr><td>[C II] 158 $\\mu$m / [O I] 145 $\\mu$m</td><td>CII_158/OI_145</td></tr>\n",
       "<tr><td>...</td><td>...</td></tr>\n",
       "<tr><td>[Fe II] 17.94 $\\mu$m/[Fe II] 5.34 $\\mu$m</td><td>FEII_17.94/FEII_5.34</td></tr>\n",
       "<tr><td>[Fe II] 22.90 $\\mu$m/[Fe II] 5.34 $\\mu$m</td><td>FEII_22.90/FEII_5.34</td></tr>\n",
       "<tr><td>[Fe II] 25.99 $\\mu$m/[Fe II] 5.34 $\\mu$m</td><td>FEII_26/FEII_5.34</td></tr>\n",
       "<tr><td>[Ar III] 21.83 $\\mu$m/[Ar III] 8.99 $\\mu$m</td><td>ARIII_21.83/ARIII_8.99</td></tr>\n",
       "<tr><td>[Ar V] 13.07 $\\mu$m/[Ar V] 7.91 $\\mu$m</td><td>ARV_13.07/ARV_7.91</td></tr>\n",
       "<tr><td>[C II] 158 $\\mu$m / CO(J=4-3)</td><td>CII_158/CO_43</td></tr>\n",
       "<tr><td>[C II] 158 $\\mu$m / CO(J=2-1)</td><td>CII_158/CO_21</td></tr>\n",
       "</table></div>"
      ],
      "text/plain": [
       "<Table length=74>\n",
       "                      title                             ratio label      \n",
       "                      str51                                str22         \n",
       "-------------------------------------------------- ----------------------\n",
       "               [O I] 63 $\\mu$m / [C II] 158 $\\mu$m          OI_63/CII_158\n",
       " ([O I] 63 $\\mu$m + [C II] 158 $\\mu$m) / I$_{FIR}$      OI_63+CII_158/FIR\n",
       "([O I] 145 $\\mu$m + [C II] 158 $\\mu$m) / I$_{FIR}$     OI_145+CII_158/FIR\n",
       "                [O I] 145 $\\mu$m / [O I] 63 $\\mu$m           OI_145/OI_63\n",
       "               [C I] 370 $\\mu$m / [C I] 609 $\\mu$m          CI_370/CI_609\n",
       "              [C II] 158 $\\mu$m / [C I] 609 $\\mu$m         CII_158/CI_609\n",
       "              [C II] 158 $\\mu$m / [O I] 145 $\\mu$m         CII_158/OI_145\n",
       "                                               ...                    ...\n",
       "          [Fe II] 17.94 $\\mu$m/[Fe II] 5.34 $\\mu$m   FEII_17.94/FEII_5.34\n",
       "          [Fe II] 22.90 $\\mu$m/[Fe II] 5.34 $\\mu$m   FEII_22.90/FEII_5.34\n",
       "          [Fe II] 25.99 $\\mu$m/[Fe II] 5.34 $\\mu$m      FEII_26/FEII_5.34\n",
       "        [Ar III] 21.83 $\\mu$m/[Ar III] 8.99 $\\mu$m ARIII_21.83/ARIII_8.99\n",
       "            [Ar V] 13.07 $\\mu$m/[Ar V] 7.91 $\\mu$m     ARV_13.07/ARV_7.91\n",
       "                     [C II] 158 $\\mu$m / CO(J=4-3)          CII_158/CO_43\n",
       "                     [C II] 158 $\\mu$m / CO(J=2-1)          CII_158/CO_21"
      ]
     },
     "execution_count": 16,
     "metadata": {},
     "output_type": "execute_result"
    }
   ],
   "source": [
    "ms.supported_ratios"
   ]
  },
  {
   "cell_type": "markdown",
   "id": "06147949-66ab-4f30-8201-03342ff8b734",
   "metadata": {},
   "source": [
    "### If you want to reset everything, just reinstantiate the `ModelSet`"
   ]
  },
  {
   "cell_type": "code",
   "execution_count": 17,
   "id": "1e5a40db-3329-4a33-ac76-6394da7bb688",
   "metadata": {},
   "outputs": [],
   "source": [
    "ms = ModelSet(\"wk2020\",z=1)"
   ]
  },
  {
   "cell_type": "markdown",
   "id": "9e5b7f23-f4e9-4747-8ae7-a59eb19f32e6",
   "metadata": {
    "tags": []
   },
   "source": [
    "### If you wanted to add it later, you can give the path to the file in `add_model`"
   ]
  },
  {
   "cell_type": "code",
   "execution_count": 18,
   "id": "64c3a1e4-0b97-4f9f-976c-bda9bca3c10d",
   "metadata": {},
   "outputs": [
    {
     "name": "stdout",
     "output_type": "stream",
     "text": [
      "Adding user model CII_158/CO_43\n"
     ]
    }
   ],
   "source": [
    "ms.add_model(\"CII_158/CO_43\",\"CII_CO43.fits\",title=\"[C II] 158 $\\mu$m / CO(J=4-3)\")"
   ]
  },
  {
   "cell_type": "code",
   "execution_count": 19,
   "id": "516792ae-2054-4312-a830-f7b4fe5b776a",
   "metadata": {},
   "outputs": [
    {
     "data": {
      "text/html": [
       "<div><i>Table length=74</i>\n",
       "<table id=\"table140346709239072\" class=\"table-striped table-bordered table-condensed\">\n",
       "<thead><tr><th>title</th><th>ratio label</th></tr></thead>\n",
       "<thead><tr><th>str51</th><th>str22</th></tr></thead>\n",
       "<tr><td>[O I] 63 $\\mu$m / [C II] 158 $\\mu$m</td><td>OI_63/CII_158</td></tr>\n",
       "<tr><td>([O I] 63 $\\mu$m + [C II] 158 $\\mu$m) / I$_{FIR}$</td><td>OI_63+CII_158/FIR</td></tr>\n",
       "<tr><td>([O I] 145 $\\mu$m + [C II] 158 $\\mu$m) / I$_{FIR}$</td><td>OI_145+CII_158/FIR</td></tr>\n",
       "<tr><td>[O I] 145 $\\mu$m / [O I] 63 $\\mu$m</td><td>OI_145/OI_63</td></tr>\n",
       "<tr><td>[C I] 370 $\\mu$m / [C I] 609 $\\mu$m</td><td>CI_370/CI_609</td></tr>\n",
       "<tr><td>[C II] 158 $\\mu$m / [C I] 609 $\\mu$m</td><td>CII_158/CI_609</td></tr>\n",
       "<tr><td>[C II] 158 $\\mu$m / [O I] 145 $\\mu$m</td><td>CII_158/OI_145</td></tr>\n",
       "<tr><td>...</td><td>...</td></tr>\n",
       "<tr><td>[Fe II] 5.67 $\\mu$m/[Fe II] 5.34 $\\mu$m</td><td>FEII_5.67/FEII_5.34</td></tr>\n",
       "<tr><td>[Fe II] 17.94 $\\mu$m/[Fe II] 5.34 $\\mu$m</td><td>FEII_17.94/FEII_5.34</td></tr>\n",
       "<tr><td>[Fe II] 22.90 $\\mu$m/[Fe II] 5.34 $\\mu$m</td><td>FEII_22.90/FEII_5.34</td></tr>\n",
       "<tr><td>[Fe II] 25.99 $\\mu$m/[Fe II] 5.34 $\\mu$m</td><td>FEII_26/FEII_5.34</td></tr>\n",
       "<tr><td>[Ar III] 21.83 $\\mu$m/[Ar III] 8.99 $\\mu$m</td><td>ARIII_21.83/ARIII_8.99</td></tr>\n",
       "<tr><td>[Ar V] 13.07 $\\mu$m/[Ar V] 7.91 $\\mu$m</td><td>ARV_13.07/ARV_7.91</td></tr>\n",
       "<tr><td>[C II] 158 $\\mu$m / CO(J=4-3)</td><td>CII_158/CO_43</td></tr>\n",
       "</table></div>"
      ],
      "text/plain": [
       "<Table length=74>\n",
       "                      title                             ratio label      \n",
       "                      str51                                str22         \n",
       "-------------------------------------------------- ----------------------\n",
       "               [O I] 63 $\\mu$m / [C II] 158 $\\mu$m          OI_63/CII_158\n",
       " ([O I] 63 $\\mu$m + [C II] 158 $\\mu$m) / I$_{FIR}$      OI_63+CII_158/FIR\n",
       "([O I] 145 $\\mu$m + [C II] 158 $\\mu$m) / I$_{FIR}$     OI_145+CII_158/FIR\n",
       "                [O I] 145 $\\mu$m / [O I] 63 $\\mu$m           OI_145/OI_63\n",
       "               [C I] 370 $\\mu$m / [C I] 609 $\\mu$m          CI_370/CI_609\n",
       "              [C II] 158 $\\mu$m / [C I] 609 $\\mu$m         CII_158/CI_609\n",
       "              [C II] 158 $\\mu$m / [O I] 145 $\\mu$m         CII_158/OI_145\n",
       "                                               ...                    ...\n",
       "           [Fe II] 5.67 $\\mu$m/[Fe II] 5.34 $\\mu$m    FEII_5.67/FEII_5.34\n",
       "          [Fe II] 17.94 $\\mu$m/[Fe II] 5.34 $\\mu$m   FEII_17.94/FEII_5.34\n",
       "          [Fe II] 22.90 $\\mu$m/[Fe II] 5.34 $\\mu$m   FEII_22.90/FEII_5.34\n",
       "          [Fe II] 25.99 $\\mu$m/[Fe II] 5.34 $\\mu$m      FEII_26/FEII_5.34\n",
       "        [Ar III] 21.83 $\\mu$m/[Ar III] 8.99 $\\mu$m ARIII_21.83/ARIII_8.99\n",
       "            [Ar V] 13.07 $\\mu$m/[Ar V] 7.91 $\\mu$m     ARV_13.07/ARV_7.91\n",
       "                     [C II] 158 $\\mu$m / CO(J=4-3)          CII_158/CO_43"
      ]
     },
     "execution_count": 19,
     "metadata": {},
     "output_type": "execute_result"
    }
   ],
   "source": [
    "ms.supported_ratios"
   ]
  }
 ],
 "metadata": {
  "kernelspec": {
   "display_name": "Python 3 (ipykernel)",
   "language": "python",
   "name": "python3"
  },
  "language_info": {
   "codemirror_mode": {
    "name": "ipython",
    "version": 3
   },
   "file_extension": ".py",
   "mimetype": "text/x-python",
   "name": "python",
   "nbconvert_exporter": "python",
   "pygments_lexer": "ipython3",
   "version": "3.9.7"
  }
 },
 "nbformat": 4,
 "nbformat_minor": 5
}
