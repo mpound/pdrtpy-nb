{
 "cells": [
  {
   "cell_type": "markdown",
   "metadata": {},
   "source": [
    "### *PhotoDissociation Region Toolbox Notebooks*\n",
    "-------------------------------------------------------------\n",
    "\n",
    "# Example 3: Determining Radiation Field and Density\n",
    "\n",
    "This Example shows use the PDRT Toolbox to determine the PDR radiation field $G_0$ and hydrogen nucleus volume density $n$ from your spectral line and far-infrared (FIR) data into the PDR Toolbox.  The example shows how to make maps of $G_0$ and $n$ from your maps of observables. If you have not gone through the Measurements and ModelSets examples, you should do them first."
   ]
  },
  {
   "cell_type": "markdown",
   "metadata": {},
   "source": [
    "### 3b. Determining Radiation Field and Density from Image Measurements\n",
    "Following the example on how to use Measurements, create Measurements for your image observations. Here we use the N22 [C II], [O I], and FIR maps from [Jameson et al. 2018](https://ui.adsabs.harvard.edu/abs/2018ApJ...853..111J/abstract). "
   ]
  },
  {
   "cell_type": "code",
   "execution_count": null,
   "metadata": {},
   "outputs": [],
   "source": [
    "from pdrtpy.measurement import Measurement\n",
    "from pdrtpy.modelset import ModelSet\n",
    "import pdrtpy.pdrutils as utils\n",
    "from pdrtpy.tool.lineratiofit import LineRatioFit\n",
    "from pdrtpy.plot.lineratioplot import LineRatioPlot\n",
    "import astropy.units as u\n",
    "import numpy as np"
   ]
  },
  {
   "cell_type": "code",
   "execution_count": 2,
   "metadata": {},
   "outputs": [
    {
     "name": "stdout",
     "output_type": "stream",
     "text": [
      "WARNING: Your version of the PDRT notebooks does [2.1.0] not match your version of pdrtpy [2.1.0+h2+mm]. You may be missing some functionality.  For best results, upgrade both pdtpry and pdrtpy-nb to the latest version. See https://pdrtpy.readthedocs.io\n"
     ]
    }
   ],
   "source": [
    "# check that your notebooks align with your pdrtpy version\n",
    "utils.check_nb()"
   ]
  },
  {
   "cell_type": "code",
   "execution_count": null,
   "metadata": {
    "scrolled": true
   },
   "outputs": [],
   "source": [
    "# Get the input filenames of the FITS files in the testdata directory\n",
    "# These are maps from Jameson et al 2018.\n",
    "print(\"Test FITS files are in: %s\"%utils.testdata_dir())\n",
    "cii_flux = utils.get_testdata(\"n22_cii_flux.fits\")  # [C II] flux\n",
    "cii_err = utils.get_testdata(\"n22_cii_error.fits\")  # [C II] error\n",
    "oi_flux = utils.get_testdata(\"n22_oi_flux.fits\")    # [O I] flux \n",
    "oi_err = utils.get_testdata(\"n22_oi_error.fits\")    # [O I] error\n",
    "FIR_flux = utils.get_testdata(\"n22_FIR.fits\")       # FIR flux\n",
    "\n",
    "# Output file names\n",
    "cii_combined = \"n22_cii_flux_error.fits\"\n",
    "oi_combined = \"n22_oi_flux_error.fits\"\n",
    "FIR_combined = \"n22_FIR_flux_error.fits\"\n",
    "\n",
    "# create the Measurements and write out the FITS files.\n",
    "# Set overwrite=True to allow multiple runs of this notebook.\n",
    "Measurement.make_measurement(cii_flux, cii_err, cii_combined,overwrite=True)\n",
    "Measurement.make_measurement(oi_flux, oi_err, oi_combined,overwrite=True)\n",
    "# Assign a 10% error in FIR flux\n",
    "Measurement.make_measurement(FIR_flux, error='10%', outfile=FIR_combined,overwrite=True)\n",
    "\n",
    "# Read in the FITS files to Measurements\n",
    "cii_meas = Measurement.read(cii_combined, identifier=\"CII_158\")\n",
    "FIR_meas = Measurement.read(FIR_combined, identifier=\"FIR\")\n",
    "oi_meas = Measurement.read(oi_combined, identifier=\"OI_63\")"
   ]
  },
  {
   "cell_type": "markdown",
   "metadata": {},
   "source": [
    "#### Import them into the LineRatioFit tool\n",
    "Here we will use the SMC models that have Z=0.1 rather than the standard set. Note these are a limited set of models with just a few lines covered."
   ]
  },
  {
   "cell_type": "code",
   "execution_count": null,
   "metadata": {
    "scrolled": true
   },
   "outputs": [],
   "source": [
    "smcmod = ModelSet(\"smc\",z=0.1)\n",
    "p = LineRatioFit(modelset=smcmod,measurements=[cii_meas,FIR_meas,oi_meas])\n",
    "smcmod.table"
   ]
  },
  {
   "cell_type": "markdown",
   "metadata": {},
   "source": [
    "### Now run it! \n",
    "This example sets no data mask. However the default behavior is to compute the standard deviation of the data using the median absolute deviation, and then masking out values between $\\pm 1 \\sigma$. (`mask=['mad',1.0]`).   You can try running this notebook without the mask keyword given, i.e., `p.run()`,to see how this works."
   ]
  },
  {
   "cell_type": "code",
   "execution_count": null,
   "metadata": {
    "scrolled": true
   },
   "outputs": [],
   "source": [
    "p.run(mask=None)"
   ]
  },
  {
   "cell_type": "markdown",
   "metadata": {},
   "source": [
    "### The results are stored in member variables as Measurements.\n",
    "In this case they are two-dimensional maps with NaN in the blank pixels."
   ]
  },
  {
   "cell_type": "code",
   "execution_count": null,
   "metadata": {},
   "outputs": [],
   "source": [
    "print(p.density.shape,p.radiation_field.shape)\n",
    "print(\"Mean density: %.1E %s\"%(np.nanmean(p.density),p.density.unit))\n",
    "print(\"Mean radiation field: %.1E %s\"%(np.nanmean(p.radiation_field),p.radiation_field.unit))"
   ]
  },
  {
   "cell_type": "markdown",
   "metadata": {},
   "source": [
    "### OK let's plot some maps!\n",
    "Instantiate a plotter and call the same methods as in the single pixel case."
   ]
  },
  {
   "cell_type": "code",
   "execution_count": null,
   "metadata": {
    "scrolled": true
   },
   "outputs": [],
   "source": [
    "plot = LineRatioPlot(p)\n",
    "plot.density()\n",
    "plot.radiation_field()"
   ]
  },
  {
   "cell_type": "code",
   "execution_count": null,
   "metadata": {},
   "outputs": [],
   "source": [
    "plot._axis[0].coords[1].display_minor_ticks(True)"
   ]
  },
  {
   "cell_type": "markdown",
   "metadata": {},
   "source": [
    " #### You can change the units of the image."
   ]
  },
  {
   "cell_type": "code",
   "execution_count": null,
   "metadata": {},
   "outputs": [],
   "source": [
    "plot.radiation_field(units='Draine',contours=True)"
   ]
  },
  {
   "cell_type": "markdown",
   "metadata": {},
   "source": [
    "### The minimum reduced $\\chi^2$ as a function of RA-DEC"
   ]
  },
  {
   "cell_type": "code",
   "execution_count": null,
   "metadata": {
    "scrolled": true
   },
   "outputs": [],
   "source": [
    "plot.reduced_chisq(contours=False,norm='simple')"
   ]
  },
  {
   "cell_type": "markdown",
   "metadata": {},
   "source": [
    "## You can easily write out radiation field, density, and   $\\chi^2$ as FITS files.\n",
    "This uses the standard astropy fits I/O."
   ]
  },
  {
   "cell_type": "code",
   "execution_count": null,
   "metadata": {
    "scrolled": true
   },
   "outputs": [],
   "source": [
    "# use overwrite to make re-running this notbook easier\n",
    "p.radiation_field.write(\"myradiationfield.fits\",overwrite=True)\n",
    "p.density.write(\"mydensity.fits\",overwrite=True)\n",
    "p.write_chisq(chi=\"chisq.fits\",rchi=\"reduced_chisq.fits\",overwrite=True)"
   ]
  },
  {
   "cell_type": "markdown",
   "metadata": {},
   "source": [
    "#### You can show both $G_0$ and $n$ side by side with `show_both`."
   ]
  },
  {
   "cell_type": "code",
   "execution_count": null,
   "metadata": {
    "scrolled": true
   },
   "outputs": [],
   "source": [
    "plot.show_both(cmap='rainbow',norm=None)"
   ]
  },
  {
   "cell_type": "markdown",
   "metadata": {},
   "source": [
    "Compare these to the rightmost panels of [Figure 14](https://iopscience.iop.org/article/10.3847/1538-4357/aaa4bb#apjaaa4bbf14) of  [Jameson et al. 2018](https://ui.adsabs.harvard.edu/abs/2018ApJ...853..111J/abstract) (ignoring colormap differences which aren't a one-to-one match).\n",
    "\n",
    "![G0 and n from Jameson et al. 2018](jameson.png)"
   ]
  },
  {
   "cell_type": "markdown",
   "metadata": {},
   "source": [
    "Now, Jameson et al. massaged their maps to decimate oversampled pixels and fix jumps in adjacent pixels.  We can get closer to that with a bit of smoothing."
   ]
  },
  {
   "cell_type": "code",
   "execution_count": null,
   "metadata": {},
   "outputs": [],
   "source": [
    "from astropy.convolution import Box2DKernel, convolve\n",
    "kernel = Box2DKernel(9,mode='center')\n",
    "convrf = convolve(p.radiation_field, kernel)\n",
    "convn = convolve(p.density,kernel)"
   ]
  },
  {
   "cell_type": "markdown",
   "metadata": {},
   "source": [
    "#### Replace the data with the convolved data and replot. "
   ]
  },
  {
   "cell_type": "code",
   "execution_count": null,
   "metadata": {},
   "outputs": [],
   "source": [
    "p.radiation_field.data = convrf\n",
    "p.density.data = convn"
   ]
  },
  {
   "cell_type": "code",
   "execution_count": null,
   "metadata": {
    "scrolled": true
   },
   "outputs": [],
   "source": [
    "xx=plot.show_both(cmap='rainbow',norm='zscale')\n",
    "plot.savefig(\"both.png\",bbox_inches='tight')"
   ]
  },
  {
   "cell_type": "markdown",
   "metadata": {},
   "source": [
    "#### That's closer to the published result."
   ]
  },
  {
   "cell_type": "code",
   "execution_count": null,
   "metadata": {
    "scrolled": true
   },
   "outputs": [],
   "source": [
    "# Don't like the result? Just run the tool again to reset it!\n",
    "p.run(mask=None)"
   ]
  },
  {
   "cell_type": "code",
   "execution_count": null,
   "metadata": {},
   "outputs": [],
   "source": []
  }
 ],
 "metadata": {
  "kernelspec": {
   "display_name": "Python 3",
   "language": "python",
   "name": "python3"
  },
  "language_info": {
   "codemirror_mode": {
    "name": "ipython",
    "version": 3
   },
   "file_extension": ".py",
   "mimetype": "text/x-python",
   "name": "python",
   "nbconvert_exporter": "python",
   "pygments_lexer": "ipython3",
   "version": "3.7.10"
  }
 },
 "nbformat": 4,
 "nbformat_minor": 4
}
