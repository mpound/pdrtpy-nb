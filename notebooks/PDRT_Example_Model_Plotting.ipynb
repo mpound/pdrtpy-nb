{
 "cells": [
  {
   "cell_type": "markdown",
   "metadata": {},
   "source": [
    "### *PhotoDissociation Region Toolbox Notebooks*\n",
    "-------------------------------------------------------------\n",
    "\n",
    "# Example 5: Exploring Models\n",
    "\n",
    "This example shows use the PDRT Toolbox to explore models of ratio or intensity and optionally plot your observations on top. The main class for this is ModelPlot.\n"
   ]
  },
  {
   "cell_type": "code",
   "execution_count": null,
   "metadata": {},
   "outputs": [],
   "source": [
    "from pdrtpy.modelset import ModelSet\n",
    "from pdrtpy.plot.modelplot import ModelPlot\n",
    "from pdrtpy.measurement import Measurement\n",
    "import pdrtpy.pdrutils as utils\n",
    "from astropy.nddata import StdDevUncertainty\n",
    "import astropy.units as u"
   ]
  },
  {
   "cell_type": "code",
   "execution_count": null,
   "metadata": {},
   "outputs": [],
   "source": [
    "# check that your notebooks align with your pdrtpy version\n",
    "utils.check_nb()"
   ]
  },
  {
   "cell_type": "markdown",
   "metadata": {},
   "source": [
    "### First, load up a set of models. Here we use the Wolfire/Kaufman 2006 models."
   ]
  },
  {
   "cell_type": "code",
   "execution_count": null,
   "metadata": {},
   "outputs": [],
   "source": [
    "m = ModelSet(name=\"wk2006\",z=1)\n",
    "# Display all the available ratio and intensity model files. Files that have denominator = 1 are intensities. \n",
    "m.table.show_in_notebook()"
   ]
  },
  {
   "cell_type": "markdown",
   "metadata": {},
   "source": [
    "### Instantiate a ModelPlot class using the ModelSet you just created."
   ]
  },
  {
   "cell_type": "code",
   "execution_count": null,
   "metadata": {},
   "outputs": [],
   "source": [
    "mp = ModelPlot(m)"
   ]
  },
  {
   "cell_type": "markdown",
   "metadata": {},
   "source": [
    "###  Plot a particular model. \n",
    "You identify the model you want using the 'ratio' label in the table above"
   ]
  },
  {
   "cell_type": "code",
   "execution_count": null,
   "metadata": {},
   "outputs": [],
   "source": [
    "mp.plot(\"CI_609\",legend=False,contours=True,label=True)"
   ]
  },
  {
   "cell_type": "markdown",
   "metadata": {},
   "source": [
    "### The same plot with LaTeX formatting\n",
    "This is how to enable LaTeX formatting in text components.  All PDRT plotting tools have this option.  It changes the font and the way the colorbar scale factor is shown."
   ]
  },
  {
   "cell_type": "code",
   "execution_count": null,
   "metadata": {},
   "outputs": [],
   "source": [
    "mp.usetex(True)\n",
    "mp.plot(\"CI_609\",legend=False,contours=True,label=True,yaxis_unit=\"Draine\")"
   ]
  },
  {
   "cell_type": "markdown",
   "metadata": {},
   "source": [
    "### Plot another one.  Add a few keywords for fancification."
   ]
  },
  {
   "cell_type": "code",
   "execution_count": null,
   "metadata": {},
   "outputs": [],
   "source": [
    "mp.plot(\"H200S2/H200S1\",legend=True,cmap='rainbow',norm='log',contours=False)"
   ]
  },
  {
   "cell_type": "markdown",
   "metadata": {},
   "source": [
    "### Get all the models that match CO(2-1), CO(4-3), and CI 609 micron and plot them. \n",
    "The `model_type` 'both' means get both ratios and intensities.  You could also ask for just 'ratio' or 'intensity'"
   ]
  },
  {
   "cell_type": "code",
   "execution_count": null,
   "metadata": {},
   "outputs": [],
   "source": [
    "mp.usetex(False)\n",
    "\n",
    "z=m.get_models([\"CI_609\",\"CO_21\",\"CO_43\"],model_type=\"both\")\n",
    "print(\"Found models: \",z.keys())\n",
    "for j in z:\n",
    "    mp.plot(j,label=True,norm='zscale')"
   ]
  },
  {
   "cell_type": "markdown",
   "metadata": {},
   "source": [
    "### What if you want to plot observations on the models?\n",
    "First create some Measurements to represent your observations."
   ]
  },
  {
   "cell_type": "code",
   "execution_count": null,
   "metadata": {},
   "outputs": [],
   "source": [
    "myunit = \"erg s-1 cm-2 sr-1\"\n",
    "mx=Measurement(data=[1.5E-6],uncertainty = StdDevUncertainty(0.5E-6),identifier=\"CI_609\",unit=myunit)\n",
    "my=Measurement(data=[2],uncertainty = StdDevUncertainty(1),identifier=\"CII_158/CI_609\",unit=myunit)\n",
    "mz=Measurement(data=[3E-6],uncertainty = StdDevUncertainty(0.5E-6),identifier=\"CII_158\",unit=myunit)\n",
    "mq=Measurement(data=[2.3],uncertainty=StdDevUncertainty(0.5),identifier='CO_43/CO_21')\n",
    "a = [mx,my,mz,mq]"
   ]
  },
  {
   "cell_type": "markdown",
   "metadata": {},
   "source": [
    "## The `overlay` method will plot one or more Measurements in the density-radiation field space.  \n",
    "The errors are indicated with shading. Note you can pass it both ratios and intensities for the Measurements. The keywords `xlim` and `ylim` allow control of axis limits."
   ]
  },
  {
   "cell_type": "code",
   "execution_count": null,
   "metadata": {},
   "outputs": [],
   "source": [
    "mp.overlay(measurements=a,yaxis_unit=\"erg s-1 cm-2\",ylim=[3E-3,1E2],xlim=[1E3,1E6])"
   ]
  },
  {
   "cell_type": "markdown",
   "metadata": {},
   "source": [
    "### You can overlay a observation on a model.\n",
    "Simply pass a Measurement into the `plot` method."
   ]
  },
  {
   "cell_type": "code",
   "execution_count": null,
   "metadata": {},
   "outputs": [],
   "source": [
    "mp.plot(\"CII_158/CI_609\",image=False,measurements=[my],legend=True,label=True)"
   ]
  },
  {
   "cell_type": "markdown",
   "metadata": {},
   "source": [
    "### Don't like the default colors?  Use your own!"
   ]
  },
  {
   "cell_type": "code",
   "execution_count": null,
   "metadata": {},
   "outputs": [],
   "source": [
    "mp.plot(\"CII_158/CI_609\",image=False,measurements=[my],legend=True,label=True,meas_color='red',shading=0.3)"
   ]
  },
  {
   "cell_type": "markdown",
   "metadata": {},
   "source": [
    "### Here is an example plotting only intensities.\n",
    "The code is smart enough to convert $K~km~s^{-1}$ to intensity units (as long as the Measurement has a RESTFREQ in the FITS header or given during creation) and change the legend label as appropriate."
   ]
  },
  {
   "cell_type": "code",
   "execution_count": null,
   "metadata": {},
   "outputs": [],
   "source": [
    "ma=Measurement(data=[0.75],uncertainty = StdDevUncertainty(0.3),identifier=\"CO_65\",unit=\"K km s-1\",restfreq=692*u.GHz)\n",
    "mb=Measurement(data=[1E-6],uncertainty = StdDevUncertainty(0.25E-6),identifier=\"H200S3\",unit=myunit)\n",
    "mc=Measurement(data=[2E-6],uncertainty = StdDevUncertainty(0.5E-6),identifier=\"H200S2\",unit=myunit)\n",
    "md=Measurement(data=[1.25E-4],uncertainty = StdDevUncertainty(0.5E-4),identifier=\"OI_145\",unit=myunit)\n",
    "a = [ma,mb,mc,md]\n",
    "mp.overlay(measurements=a,shading=0.5)"
   ]
  },
  {
   "cell_type": "markdown",
   "metadata": {},
   "source": [
    "### Finally, plot them using Draine units on the Y-axis and with dashed lines indicating errors rather than shading."
   ]
  },
  {
   "cell_type": "code",
   "execution_count": null,
   "metadata": {},
   "outputs": [],
   "source": [
    "mp.overlay(measurements=a,yaxis_unit='Draine',shading=0)"
   ]
  },
  {
   "cell_type": "markdown",
   "metadata": {},
   "source": [
    "## You can plot the phase space coverage of model intensities and ratios.\n",
    "These show lines of constant density and radiation field as a function of line intensity or intensity ratio from the models. These can be useful for making predictions of line strength or estimating density and radiation field when you don't have enough lines to fit with the LineRatioFit tool. The <code>phasespace</code> method takes two identifier strings and plots the (density, radiation field) model phase space for those lines.  Below are 3 examples."
   ]
  },
  {
   "cell_type": "code",
   "execution_count": null,
   "metadata": {},
   "outputs": [],
   "source": [
    "# Two ratios\n",
    "identifiers1 = [\"OI_63+CII_158/FIR\",\"OI_63/CII_158\"]\n",
    "# Two intensities\n",
    "identifiers2 = [\"CO_21\",\"OI_63\"]\n",
    "# An intensity and a ratio\n",
    "identifiers3 = [\"CI_609/CO_43\",\"FEII_26\"]"
   ]
  },
  {
   "cell_type": "markdown",
   "metadata": {},
   "source": [
    "### Use keywords to control the plots\n",
    "The `reciprocal` keyword controls whether to invert a model ratio before plotting, one boolean per axis.  In this case, the model is stored as OI 63$\\mu$m/CII 158$\\mu$m but we want CII 158$\\mu$m/OI 63$\\mu$m, so we set the y-axis `reciprocal` value to `True`.  You can limit the range of $n$ and $G_0$ plotted with the `nax1_clip` (NAXIS1) and `nax2_clip` (NAXIS2) keywords, which take astropy Quantities as their values.  Figures can be saved in common formats with `savefig`. "
   ]
  },
  {
   "cell_type": "code",
   "execution_count": null,
   "metadata": {},
   "outputs": [],
   "source": [
    "mp.phasespace(identifiers1,reciprocal=[False,True],nax1_clip=[100,1E6]*u.Unit(\"cm-3\"),nax2_clip=[10,1E6]*utils.habing_unit,)\n",
    "mp.savefig(\"CII_OI_FIR.png\",bbox_inches='tight',transparent=False,facecolor='white')"
   ]
  },
  {
   "cell_type": "code",
   "execution_count": null,
   "metadata": {},
   "outputs": [],
   "source": [
    "mp.phasespace(identifiers1,reciprocal=[False,True],nax1_clip=[100,1E6]*u.Unit(\"cm-3\"),nax2_clip=[10,1E6]*utils.habing_unit,)\n",
    "mp.savefig(\"CII_OI_FIR.png\",bbox_inches='tight',transparent=False,facecolor='white')"
   ]
  },
  {
   "cell_type": "markdown",
   "metadata": {},
   "source": [
    "### Displayed model units are controlled by the clipping keywords.\n",
    "In this example, setting the `nax2_clip` Quantity units to erg s$^{-1}$ cm$^{-2}$ changes the units of the model radiation field."
   ]
  },
  {
   "cell_type": "code",
   "execution_count": null,
   "metadata": {},
   "outputs": [],
   "source": [
    "mp.phasespace(identifiers2,reciprocal=[False,False],nax1_clip=[100,1E6]*u.Unit(\"cm-3\"),nax2_clip=[1,1E4]*utils._RFS_UNIT_)\n",
    "mp.savefig(\"OI_CO21.png\",bbox_inches='tight',facecolor='white')"
   ]
  },
  {
   "cell_type": "markdown",
   "metadata": {},
   "source": [
    "### You can mix ratios and intensities in phase space plots.\n",
    "Note here we also use Draine units for the radiation field."
   ]
  },
  {
   "cell_type": "code",
   "execution_count": null,
   "metadata": {},
   "outputs": [],
   "source": [
    "mp.phasespace(identifiers3,reciprocal=[False,False],nax1_clip=[100,1E6]*u.Unit(\"cm-3\"),nax2_clip=[10,1E6]*utils.draine_unit)\n",
    "mp.savefig(\"CI_CO.png\",bbox_inches='tight',transparent=False,facecolor='white')"
   ]
  },
  {
   "cell_type": "markdown",
   "metadata": {},
   "source": [
    "#### Here's an example showing that surface temperature is an available model.\n",
    "$H_2$ line intensity vs. $T_{surface}$"
   ]
  },
  {
   "cell_type": "code",
   "execution_count": null,
   "metadata": {
    "scrolled": true
   },
   "outputs": [],
   "source": [
    "mp.phasespace([\"H200S3\",\"TS\"])"
   ]
  },
  {
   "cell_type": "markdown",
   "metadata": {},
   "source": [
    "### Phase space plots also work for ionized gas models\n",
    "The ionized gas models are computed as a function of electron temperature $T_e$ and electron density $n_e$.  This example also shows how to add a single data point to the plot using the `measurements` keyword. "
   ]
  },
  {
   "cell_type": "code",
   "execution_count": null,
   "metadata": {},
   "outputs": [],
   "source": [
    "m1 = Measurement(data=[0.1],uncertainty = StdDevUncertainty(0.025),identifier=\"FEII_1.60/FEII_1.64\",unit=\"\")\n",
    "m2 = Measurement(data=[0.3],uncertainty = StdDevUncertainty(0.05),identifier=\"FEII_1.64/FEII_5.34\",unit=\"\")\n",
    "mp.phasespace(['FEII_1.60/FEII_1.64','FEII_1.64/FEII_5.34'],nax2_clip=[10,1E6]*u.Unit(\"cm-3\"),nax1_clip=[2E3,1E4]*u.Unit(\"K\"),measurements=[m1,m2],errorbar=True)\n",
    "mp.savefig(\"Ironlines.png\")"
   ]
  },
  {
   "cell_type": "markdown",
   "metadata": {},
   "source": [
    "### You can modify any figure through `matplotlib` methods\n",
    "All plot classes provide access to the underlying matplotlib Figure and AxesSubplot references in the`figure` and `axis` member variables. This is useful to change things that are not accessible through class plot keywords. In this example, we change the axes labels and move the legend.  To replot the figure, simply reference it in a cell. Note the use of \"r\" in the strings to correctly process LaTeX."
   ]
  },
  {
   "cell_type": "code",
   "execution_count": null,
   "metadata": {},
   "outputs": [],
   "source": [
    "mp.axis.set_ylabel(r\"Iron line 1.64/5.34 $\\mu$m ratio\")\n",
    "mp.axis.set_xlabel(r\"Iron line 1.60/1.64 $\\mu$m ratio\")\n",
    "mp.axis.legend_.set_bbox_to_anchor((1.01,0.77))"
   ]
  },
  {
   "cell_type": "code",
   "execution_count": null,
   "metadata": {},
   "outputs": [],
   "source": [
    "mp.figure"
   ]
  },
  {
   "cell_type": "markdown",
   "metadata": {},
   "source": [
    "## Adding data points to a phase space plot\n",
    "To plot many data points on a phase space diagram, you need to have your data as `Measurements.` Recall that a single `Measurement` instance can contain a data and uncertainty arrays.  The `measurement` keyword in `phasespace()` can take pairs of Measurements that contain data for the `x` and `y` axes of the plot.  For each `x,y` pair of Measurements, you can also supply a data label and plot point [matplotlib format specifier.](https://matplotlib.org/stable/api/_as_gen/matplotlib.axes.Axes.plot.html)\n",
    "\n",
    "The easiest way to create a `Measurement` containing a 1-D array of data points is to read them in from an [Astropy Table](https://docs.astropy.org/en/stable/table/index.html) using [*Measurement.from_table()*.](http://pdrtpy.readthedocs.io/en/latest/pdrtpy.measurement.html#pdrtpy.measurement.Measurement.from_table)  \n",
    "\n",
    "Below is an example using \\[C II\\], CO(3-2), and FIR data on the source RCW 49 from [Tiwari et al. 2021.](https://ui.adsabs.harvard.edu/abs/2021ApJ...914..117T/abstract)  First we read in the data from files containing \\[C II\\]/FIR and \\[C II\\]/CO(3-2) intensity ratios and uncertainties for 4 regions in RCW 49, placing the Measurements in a Python `list`. The order in which you add them to the list doesn't matter: `phasespace()` will assign them to the correct axes based on the `identifier` columns in the tables. In this example, the tables are in IPAC format, but any Astropy supported table format is acceptable.  We also set the data labels and plot format specifiers."
   ]
  },
  {
   "cell_type": "code",
   "execution_count": null,
   "metadata": {},
   "outputs": [],
   "source": [
    "rcw49 = []\n",
    "label = [\"shell\",\"pillar\",\"northern cloud\",\"ridge\"]\n",
    "format_ = [\"k+\",\"b+\",\"g+\",\"r+\"]\n",
    "for region in [\"shell\",\"pil\",\"nc\",\"rid\"]:\n",
    "    f1 = f\"../data/cii-fir-{region}.txt\"\n",
    "    f2 = f\"../data/cii-co-{region}.txt\"\n",
    "    rcw49.append(Measurement.from_table(f1))\n",
    "    rcw49.append(Measurement.from_table(f2))"
   ]
  },
  {
   "cell_type": "markdown",
   "metadata": {},
   "source": [
    "Then we create the phase space diagram passing in the `list` of `Measurements `, the labels and formats."
   ]
  },
  {
   "cell_type": "code",
   "execution_count": null,
   "metadata": {},
   "outputs": [],
   "source": [
    "mp.phasespace(['CII_158/FIR','CII_158/CO_32'],nax1_clip=[1E2,1E5]*u.Unit(\"cm-3\"),\n",
    "               nax2_clip=[1E1,1E6]*utils.habing_unit, measurements=rcw49,label=label,\n",
    "               fmt=format_,title=\"RCW 49 Regions\")\n",
    "\n",
    "mp.savefig(\"cii_co_fir_pdrt_fixedG0.png\")"
   ]
  },
  {
   "cell_type": "markdown",
   "metadata": {},
   "source": [
    "#### Don't like the default color scheme? Change it!"
   ]
  },
  {
   "cell_type": "code",
   "execution_count": null,
   "metadata": {},
   "outputs": [],
   "source": [
    "newcycle = ['r', 'g', 'b', 'y','c','m','y','k']\n",
    "mp.colorcycle(newcycle)\n",
    "mp.phasespace(['CII_158/FIR','CII_158/CO_32'],nax1_clip=[1E2,1E5]*u.Unit(\"cm-3\"),\n",
    "               nax2_clip=[1E1,1E6]*utils.habing_unit, measurements=rcw49,label=label,\n",
    "               fmt=format_,title=\"RCW 49 Regions\")"
   ]
  }
 ],
 "metadata": {
  "kernelspec": {
   "display_name": "Python 3",
   "language": "python",
   "name": "python3"
  },
  "language_info": {
   "codemirror_mode": {
    "name": "ipython",
    "version": 3
   },
   "file_extension": ".py",
   "mimetype": "text/x-python",
   "name": "python",
   "nbconvert_exporter": "python",
   "pygments_lexer": "ipython3",
   "version": "3.7.10"
  }
 },
 "nbformat": 4,
 "nbformat_minor": 4
}
