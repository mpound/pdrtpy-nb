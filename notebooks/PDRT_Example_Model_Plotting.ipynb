{
 "cells": [
  {
   "cell_type": "markdown",
   "metadata": {},
   "source": [
    "### *PhotoDissociation Region Toolbox Notebooks*\n",
    "-------------------------------------------------------------\n",
    "\n",
    "# Example 4: Exploring Models\n",
    "\n",
    "This example shows use the PDRT Toolbox to explore models of ratio or intensity and optionally plot your observations on top. The main class for this is ModelPlot.\n"
   ]
  },
  {
   "cell_type": "code",
   "execution_count": 1,
   "metadata": {},
   "outputs": [
    {
     "name": "stderr",
     "output_type": "stream",
     "text": [
      "/home/mpound/anaconda3/lib/python3.7/site-packages/astropy/table/column.py:1020: FutureWarning: elementwise comparison failed; returning scalar instead, but in the future will perform elementwise comparison\n",
      "  result = getattr(super(), op)(other)\n"
     ]
    }
   ],
   "source": [
    "from pdrtpy.modelset import ModelSet\n",
    "from pdrtpy.plot.modelplot import ModelPlot\n",
    "from pdrtpy.measurement import Measurement\n",
    "import pdrtpy.pdrutils as utils\n",
    "from astropy.nddata import StdDevUncertainty\n",
    "import astropy.units as u"
   ]
  },
  {
   "cell_type": "markdown",
   "metadata": {},
   "source": [
    "### First, load up a set of models. Here we use the Wolfire/Kaufman 2006 models."
   ]
  },
  {
   "cell_type": "code",
   "execution_count": 2,
   "metadata": {},
   "outputs": [
    {
     "data": {
      "text/html": [
       "<i>Table length=72</i>\n",
       "<table id=\"table139718352472336-17687\" class=\"table-striped table-bordered table-condensed\">\n",
       "<thead><tr><th>idx</th><th>numerator</th><th>denominator</th><th>ratio</th><th>filename</th><th>z</th><th>title</th></tr></thead>\n",
       "<thead><tr><th></th><th></th><th></th><th></th><th></th><th></th><th>null</th></tr></thead>\n",
       "<tr><td>0</td><td>OI_145</td><td>OI_63</td><td>OI_145/OI_63</td><td>oioiweb</td><td>1.0</td><td>[O I] 145 $\\mu$m / [O I] 63 $\\mu$m</td></tr>\n",
       "<tr><td>1</td><td>OI_145</td><td>CII_158</td><td>OI_145/CII_158</td><td>o145ciiweb</td><td>1.0</td><td>[O I] 145 $\\mu$m / [C II] 158 $\\mu$m</td></tr>\n",
       "<tr><td>2</td><td>OI_63</td><td>CII_158</td><td>OI_63/CII_158</td><td>oicpweb</td><td>1.0</td><td>[O I] 63 $\\mu$m / [C II] 158 $\\mu$m</td></tr>\n",
       "<tr><td>3</td><td>CII_158</td><td>CI_609</td><td>CII_158/CI_609</td><td>ciici609web</td><td>1.0</td><td>[C II] 158 $\\mu$m / [C I] 609 $\\mu$m</td></tr>\n",
       "<tr><td>4</td><td>CI_370</td><td>CI_609</td><td>CI_370/CI_609</td><td>ciciweb</td><td>1.0</td><td>[C I] 370 $\\mu$m / [C I] 609 $\\mu$m</td></tr>\n",
       "<tr><td>5</td><td>CII_158</td><td>CO_10</td><td>CII_158/CO_10</td><td>ciicoweb</td><td>1.0</td><td>[C II] 158 $\\mu$m / CO(J=1-0)</td></tr>\n",
       "<tr><td>6</td><td>CII_158</td><td>CO_32</td><td>CII_158/CO_32</td><td>ciico32web</td><td>1.0</td><td>[C II] 158 $\\mu$m / CO(J=3-2)</td></tr>\n",
       "<tr><td>7</td><td>CI_609</td><td>CO_10</td><td>CI_609/CO_10</td><td>cicoweb</td><td>1.0</td><td>[C I] 609 $\\mu$m / CO(J=1-0)</td></tr>\n",
       "<tr><td>8</td><td>CI_609</td><td>CO_21</td><td>CI_609/CO_21</td><td>cico21web</td><td>1.0</td><td>[C I] 609 $\\mu$m / CO(J=2-1)</td></tr>\n",
       "<tr><td>9</td><td>CI_609</td><td>CO_32</td><td>CI_609/CO_32</td><td>cico32web</td><td>1.0</td><td>[C I] 609 $\\mu$m / CO(J=3-2)</td></tr>\n",
       "<tr><td>10</td><td>CI_609</td><td>CO_43</td><td>CI_609/CO_43</td><td>cico43web</td><td>1.0</td><td>[C I] 609 $\\mu$m / CO(J=4-3)</td></tr>\n",
       "<tr><td>11</td><td>CI_609</td><td>CO_54</td><td>CI_609/CO_54</td><td>cico54web</td><td>1.0</td><td>[C I] 609 $\\mu$m / CO(J=5-4)</td></tr>\n",
       "<tr><td>12</td><td>CI_609</td><td>CO_65</td><td>CI_609/CO_65</td><td>cico65web</td><td>1.0</td><td>[C I] 609 $\\mu$m / CO(J=6-5)</td></tr>\n",
       "<tr><td>13</td><td>CO_21</td><td>CO_10</td><td>CO_21/CO_10</td><td>co2110web</td><td>1.0</td><td>CO(J=2-1) / CO(J=1-0)</td></tr>\n",
       "<tr><td>14</td><td>CO_32</td><td>CO_10</td><td>CO_32/CO_10</td><td>co3210web</td><td>1.0</td><td>CO(J=3-2) / CO(J=1-0)</td></tr>\n",
       "<tr><td>15</td><td>CO_32</td><td>CO_21</td><td>CO_32/CO_21</td><td>co3221web</td><td>1.0</td><td>CO(J=3-2) / CO(J=2-1)</td></tr>\n",
       "<tr><td>16</td><td>CO_43</td><td>CO_10</td><td>CO_43/CO_10</td><td>co4310web</td><td>1.0</td><td>CO(J=4-3) / CO(J=1-0)</td></tr>\n",
       "<tr><td>17</td><td>CO_43</td><td>CO_21</td><td>CO_43/CO_21</td><td>co4321web</td><td>1.0</td><td>CO(J=4-3) / CO(J=2-1)</td></tr>\n",
       "<tr><td>18</td><td>CO_65</td><td>CO_10</td><td>CO_65/CO_10</td><td>co6510web</td><td>1.0</td><td>CO(J=6-5) / CO(J=1-0)</td></tr>\n",
       "<tr><td>19</td><td>CO_65</td><td>CO_21</td><td>CO_65/CO_21</td><td>co6521web</td><td>1.0</td><td>CO(J=6-5) / CO(J=2-1)</td></tr>\n",
       "<tr><td>20</td><td>CO_65</td><td>CO_54</td><td>CO_65/CO_54</td><td>co6554web</td><td>1.0</td><td>CO(J=6-5) / CO(J=5-4)</td></tr>\n",
       "<tr><td>21</td><td>CO_76</td><td>CO_10</td><td>CO_76/CO_10</td><td>co7610web</td><td>1.0</td><td>CO(J=7-6) / CO(J=1-0)</td></tr>\n",
       "<tr><td>22</td><td>CO_76</td><td>CO_21</td><td>CO_76/CO_21</td><td>co7621web</td><td>1.0</td><td>CO(J=7-6) / CO(J=2-1)</td></tr>\n",
       "<tr><td>23</td><td>CO_76</td><td>CO_43</td><td>CO_76/CO_43</td><td>co7643web</td><td>1.0</td><td>CO(J=7-6) / CO(J=4-3)</td></tr>\n",
       "<tr><td>24</td><td>CO_76</td><td>CO_54</td><td>CO_76/CO_54</td><td>co7654web</td><td>1.0</td><td>CO(J=7-6) / CO(J=5-4)</td></tr>\n",
       "<tr><td>25</td><td>CO_76</td><td>CO_65</td><td>CO_76/CO_65</td><td>co7665web</td><td>1.0</td><td>CO(J=7-6) / CO(J=6-5)</td></tr>\n",
       "<tr><td>26</td><td>CO_87</td><td>CO_54</td><td>CO_87/CO_54</td><td>co8754web</td><td>1.0</td><td>CO(J=8-7) / CO(J=5-4)</td></tr>\n",
       "<tr><td>27</td><td>CO_87</td><td>CO_65</td><td>CO_87/CO_65</td><td>co8765web</td><td>1.0</td><td>CO(J=8-7) / CO(J=6-5)</td></tr>\n",
       "<tr><td>28</td><td>CO_98</td><td>CO_54</td><td>CO_98/CO_54</td><td>co9854web</td><td>1.0</td><td>CO(J=9-8) / CO(J=5-4)</td></tr>\n",
       "<tr><td>29</td><td>CO_98</td><td>CO_65</td><td>CO_98/CO_65</td><td>co9865web</td><td>1.0</td><td>CO(J=9-8) / CO(J=6-5)</td></tr>\n",
       "<tr><td>30</td><td>CO_109</td><td>CO_54</td><td>CO_109/CO_54</td><td>co10954web</td><td>1.0</td><td>CO(J=10-9) / CO(J=5-4)</td></tr>\n",
       "<tr><td>31</td><td>CO_109</td><td>CO_65</td><td>CO_109/CO_65</td><td>co10965web</td><td>1.0</td><td>CO(J=10-9) / CO(J=6-5)</td></tr>\n",
       "<tr><td>32</td><td>CO_109</td><td>CO_76</td><td>CO_109/CO_76</td><td>co10976web</td><td>1.0</td><td>CO(J=10-9) / CO(J=7-6)</td></tr>\n",
       "<tr><td>33</td><td>CO_1110</td><td>CO_54</td><td>CO_1110/CO_54</td><td>co111054web</td><td>1.0</td><td>CO(J=11-10) / CO(J=5-4)</td></tr>\n",
       "<tr><td>34</td><td>CO_1110</td><td>CO_65</td><td>CO_1110/CO_65</td><td>co111065web</td><td>1.0</td><td>CO(J=11-10) / CO(J=6-5)</td></tr>\n",
       "<tr><td>35</td><td>CO_1211</td><td>CO_54</td><td>CO_1211/CO_54</td><td>co121154web</td><td>1.0</td><td>CO(J=12-11) / CO(J=5-4)</td></tr>\n",
       "<tr><td>36</td><td>CO_1211</td><td>CO_65</td><td>CO_1211/CO_65</td><td>co121165web</td><td>1.0</td><td>CO(J=12-11) / CO(J=6-5)</td></tr>\n",
       "<tr><td>37</td><td>CO_1312</td><td>CO_54</td><td>CO_1312/CO_54</td><td>co131254web</td><td>1.0</td><td>CO(J=13-12) / CO(J=5-4)</td></tr>\n",
       "<tr><td>38</td><td>CO_1312</td><td>CO_65</td><td>CO_1312/CO_65</td><td>co131265web</td><td>1.0</td><td>CO(J=13-12) / CO(J=6-5)</td></tr>\n",
       "<tr><td>39</td><td>CO_1413</td><td>CO_54</td><td>CO_1413/CO_54</td><td>co141354web</td><td>1.0</td><td>CO(J=14-13) / CO(J=5-4)</td></tr>\n",
       "<tr><td>40</td><td>CO_1413</td><td>CO_65</td><td>CO_1413/CO_65</td><td>co141365web</td><td>1.0</td><td>CO(J=14-13) / CO(J=6-5)</td></tr>\n",
       "<tr><td>41</td><td>CI_609</td><td>FIR</td><td>CI_609/FIR</td><td>ci609firweb</td><td>1.0</td><td>[C I] 609 $\\mu$m / I$_{FIR}$</td></tr>\n",
       "<tr><td>42</td><td>OI_63+CII_158</td><td>FIR</td><td>OI_63+CII_158/FIR</td><td>firweb</td><td>1.0</td><td>([O I] 63 $\\mu$m + [C II] 158 $\\mu$m) / I$_{FIR}$</td></tr>\n",
       "<tr><td>43</td><td>OI_145+CII_158</td><td>FIR</td><td>OI_145+CII_158/FIR</td><td>firoi145web</td><td>1.0</td><td>([O I] 145 $\\mu$m + [C II] 158 $\\mu$m) / I$_{FIR}$</td></tr>\n",
       "<tr><td>44</td><td>SIII_35</td><td>FEII_26</td><td>SIII_35/FEII_26</td><td>siii35feii26z1web</td><td>1.0</td><td>[S III] 35 $\\mu$m / [Fe II] 26 $\\mu$m</td></tr>\n",
       "<tr><td>45</td><td>H200S1</td><td>H200S0</td><td>H200S1/H200S0</td><td>h200s1s0z1web</td><td>1.0</td><td>H$_2$0-0S(1) 17 $\\mu$m / H$_2$0-0S(0) 28.2$ \\mu$m</td></tr>\n",
       "<tr><td>46</td><td>H200S2</td><td>H200S0</td><td>H200S2/H200S0</td><td>h200s2s0z1web</td><td>1.0</td><td>H$_2$0-0S(2) 12.3 $\\mu$m / H$_2$0-0S(0) 28.2$ \\mu$m</td></tr>\n",
       "<tr><td>47</td><td>H200S2</td><td>H200S1</td><td>H200S2/H200S1</td><td>h200s2s1z1web</td><td>1.0</td><td>H$_2$0-0S(2) 12.3 $\\mu$m / H$_2$0-0S(1) 17$ \\mu$m</td></tr>\n",
       "<tr><td>48</td><td>H200S3</td><td>H200S1</td><td>H200S3/H200S1</td><td>h200s3s1z1web</td><td>1.0</td><td>H$_2$0-0S(3) 9.7 $\\mu$m / H$_2$0-0S(1) 17$ \\mu$m</td></tr>\n",
       "<tr><td>49</td><td>H200S1</td><td>SIII_35</td><td>H200S1/SIII_35</td><td>h200s1siiiz1web</td><td>1.0</td><td>H$_2$0-0S(1) 17 $\\mu$m / [S III] 35 $\\mu$m</td></tr>\n",
       "<tr><td>50</td><td>H200S2</td><td>SIII_35</td><td>H200S2/SIII_35</td><td>h200s2siiiz1web</td><td>1.0</td><td>H$_2$0-0S(2) 12.3 $\\mu$m / [S III] 35 $\\mu$m</td></tr>\n",
       "<tr><td>51</td><td>H264Q1</td><td>H210S1</td><td>H264Q11/H210S1</td><td>h264q110s1z1web</td><td>1.0</td><td>H$_2$6-5Q(1) 1.6 $\\mu$m / H$_2$1-0S(1) 2.12 $\\mu$m</td></tr>\n",
       "<tr><td>52</td><td>CI_609</td><td>1</td><td>CI_609</td><td>ciweb</td><td>1.0</td><td>[C I] 609 $\\mu$m</td></tr>\n",
       "<tr><td>53</td><td>CII_158</td><td>1</td><td>CII_158</td><td>cpweb</td><td>1.0</td><td>[C II] 158 $\\mu$m</td></tr>\n",
       "<tr><td>54</td><td>OI_145</td><td>1</td><td>OI_145</td><td>oi145web</td><td>1.0</td><td>[O I] 145 $\\mu$m</td></tr>\n",
       "<tr><td>55</td><td>OI_63</td><td>1</td><td>OI_63</td><td>oi63web</td><td>1.0</td><td>[O I] 63 $\\mu$m</td></tr>\n",
       "<tr><td>56</td><td>CO_10</td><td>1</td><td>CO_10</td><td>coweb</td><td>1.0</td><td>CO(J=1-0)</td></tr>\n",
       "<tr><td>57</td><td>CO_21</td><td>1</td><td>CO_21</td><td>co21web</td><td>1.0</td><td>CO(J=2-1)</td></tr>\n",
       "<tr><td>58</td><td>CO_43</td><td>1</td><td>CO_43</td><td>co43web</td><td>1.0</td><td>CO(J=4-3)</td></tr>\n",
       "<tr><td>59</td><td>CO_54</td><td>1</td><td>CO_54</td><td>co54web</td><td>1.0</td><td>CO(J=5-4)</td></tr>\n",
       "<tr><td>60</td><td>CO_65</td><td>1</td><td>CO_65</td><td>co65web</td><td>1.0</td><td>CO(J=6-5)</td></tr>\n",
       "<tr><td>61</td><td>CO_76</td><td>1</td><td>CO_76</td><td>co76web</td><td>1.0</td><td>CO(J=7-6)</td></tr>\n",
       "<tr><td>62</td><td>H200S0</td><td>1</td><td>H200S0</td><td>h200s0z1web</td><td>1.0</td><td>H$_2$0-0S(0) 28.2$ \\mu$m</td></tr>\n",
       "<tr><td>63</td><td>H200S1</td><td>1</td><td>H200S1</td><td>h200s1z1web</td><td>1.0</td><td>H$_2$0-0S(1) 17 $\\mu$m</td></tr>\n",
       "<tr><td>64</td><td>H200S2</td><td>1</td><td>H200S2</td><td>h200s2z1web</td><td>1.0</td><td>H$_2$0-0S(2) 12.3 $\\mu$m</td></tr>\n",
       "<tr><td>65</td><td>H200S3</td><td>1</td><td>H200S3</td><td>h200s3z1web</td><td>1.0</td><td>H$_2$0-0S(3) 9.7 $\\mu$m</td></tr>\n",
       "<tr><td>66</td><td>H210S1</td><td>1</td><td>H210S1</td><td>h210s1z1web</td><td>1.0</td><td>H$_2$1-0S(1) 2.12 $\\mu$m</td></tr>\n",
       "<tr><td>67</td><td>FEII_26</td><td>1</td><td>FEII_26</td><td>feii26z1web</td><td>1.0</td><td>[Fe II] 26 $\\mu$m</td></tr>\n",
       "<tr><td>68</td><td>SIII_35</td><td>1</td><td>SIII_35</td><td>siii35z1web</td><td>1.0</td><td>[S III] 35 $\\mu$m</td></tr>\n",
       "<tr><td>69</td><td>TS</td><td>1</td><td>TS</td><td>tsweb</td><td>1.0</td><td>Surface Temperature</td></tr>\n",
       "<tr><td>70</td><td>FEII_1.60</td><td>FEII_1.64</td><td>FEII_1.60/FEII_1.64</td><td>FEII1p60_FEII1p64</td><td>1.0</td><td>[Fe II] 1.60 $\\mu$m/[Fe II] 1.64 $\\mu$m</td></tr>\n",
       "<tr><td>71</td><td>FEII_1.64</td><td>FEII_5.34</td><td>FEII_1.64/FEII_5.34</td><td>FEII1p64_FEII5p34</td><td>1.0</td><td>[Fe II] 1.64 $\\mu$m/[Fe II] 5.34 $\\mu$m</td></tr>\n",
       "</table><style>table.dataTable {clear: both; width: auto !important; margin: 0 !important;}\n",
       ".dataTables_info, .dataTables_length, .dataTables_filter, .dataTables_paginate{\n",
       "display: inline-block; margin-right: 1em; }\n",
       ".paginate_button { margin-right: 5px; }\n",
       "</style>\n",
       "<script>\n",
       "\n",
       "var astropy_sort_num = function(a, b) {\n",
       "    var a_num = parseFloat(a);\n",
       "    var b_num = parseFloat(b);\n",
       "\n",
       "    if (isNaN(a_num) && isNaN(b_num))\n",
       "        return ((a < b) ? -1 : ((a > b) ? 1 : 0));\n",
       "    else if (!isNaN(a_num) && !isNaN(b_num))\n",
       "        return ((a_num < b_num) ? -1 : ((a_num > b_num) ? 1 : 0));\n",
       "    else\n",
       "        return isNaN(a_num) ? -1 : 1;\n",
       "}\n",
       "\n",
       "require.config({paths: {\n",
       "    datatables: 'https://cdn.datatables.net/1.10.12/js/jquery.dataTables.min'\n",
       "}});\n",
       "require([\"datatables\"], function(){\n",
       "    console.log(\"$('#table139718352472336-17687').dataTable()\");\n",
       "    \n",
       "jQuery.extend( jQuery.fn.dataTableExt.oSort, {\n",
       "    \"optionalnum-asc\": astropy_sort_num,\n",
       "    \"optionalnum-desc\": function (a,b) { return -astropy_sort_num(a, b); }\n",
       "});\n",
       "\n",
       "    $('#table139718352472336-17687').dataTable({\n",
       "        order: [],\n",
       "        pageLength: 50,\n",
       "        lengthMenu: [[10, 25, 50, 100, 500, 1000, -1], [10, 25, 50, 100, 500, 1000, 'All']],\n",
       "        pagingType: \"full_numbers\",\n",
       "        columnDefs: [{targets: [0, 5], type: \"optionalnum\"}]\n",
       "    });\n",
       "});\n",
       "</script>\n"
      ],
      "text/plain": [
       "<IPython.core.display.HTML object>"
      ]
     },
     "execution_count": 2,
     "metadata": {},
     "output_type": "execute_result"
    }
   ],
   "source": [
    "m = ModelSet(name=\"wk2006\",z=1)\n",
    "# Display all the available ratio and intensity model files. Files that have denominator = 1 are intensities. \n",
    "m.table.show_in_notebook()"
   ]
  },
  {
   "cell_type": "markdown",
   "metadata": {},
   "source": [
    "### Instantiate a ModelPlot class using the ModelSet you just created."
   ]
  },
  {
   "cell_type": "code",
   "execution_count": 3,
   "metadata": {},
   "outputs": [
    {
     "ename": "NameError",
     "evalue": "name 'cycler' is not defined",
     "output_type": "error",
     "traceback": [
      "\u001b[0;31m---------------------------------------------------------------------------\u001b[0m",
      "\u001b[0;31mNameError\u001b[0m                                 Traceback (most recent call last)",
      "\u001b[0;32m<ipython-input-3-f961f6cedfda>\u001b[0m in \u001b[0;36m<module>\u001b[0;34m\u001b[0m\n\u001b[0;32m----> 1\u001b[0;31m \u001b[0mmp\u001b[0m \u001b[0;34m=\u001b[0m \u001b[0mModelPlot\u001b[0m\u001b[0;34m(\u001b[0m\u001b[0mm\u001b[0m\u001b[0;34m)\u001b[0m\u001b[0;34m\u001b[0m\u001b[0;34m\u001b[0m\u001b[0m\n\u001b[0m",
      "\u001b[0;32m~/src/pdrtpy/pdrtpy/plot/modelplot.py\u001b[0m in \u001b[0;36m__init__\u001b[0;34m(self, modelset, figure, axis)\u001b[0m\n\u001b[1;32m     36\u001b[0m            \u001b[0;34m:\u001b[0m\u001b[0mtype\u001b[0m \u001b[0mmodelset\u001b[0m\u001b[0;34m:\u001b[0m\u001b[0;31m \u001b[0m\u001b[0;31m`\u001b[0m\u001b[0;34m~\u001b[0m\u001b[0mpdrtpy\u001b[0m\u001b[0;34m.\u001b[0m\u001b[0mmodelset\u001b[0m\u001b[0;34m.\u001b[0m\u001b[0mModelSet\u001b[0m\u001b[0;31m`\u001b[0m\u001b[0;34m\u001b[0m\u001b[0;34m\u001b[0m\u001b[0m\n\u001b[1;32m     37\u001b[0m         \"\"\"\n\u001b[0;32m---> 38\u001b[0;31m         \u001b[0msuper\u001b[0m\u001b[0;34m(\u001b[0m\u001b[0;34m)\u001b[0m\u001b[0;34m.\u001b[0m\u001b[0m__init__\u001b[0m\u001b[0;34m(\u001b[0m\u001b[0mtool\u001b[0m\u001b[0;34m=\u001b[0m\u001b[0;32mNone\u001b[0m\u001b[0;34m)\u001b[0m\u001b[0;34m\u001b[0m\u001b[0;34m\u001b[0m\u001b[0m\n\u001b[0m\u001b[1;32m     39\u001b[0m         \u001b[0mself\u001b[0m\u001b[0;34m.\u001b[0m\u001b[0m_modelset\u001b[0m \u001b[0;34m=\u001b[0m \u001b[0mmodelset\u001b[0m\u001b[0;34m\u001b[0m\u001b[0;34m\u001b[0m\u001b[0m\n\u001b[1;32m     40\u001b[0m         \u001b[0mself\u001b[0m\u001b[0;34m.\u001b[0m\u001b[0m_figure\u001b[0m \u001b[0;34m=\u001b[0m \u001b[0mfigure\u001b[0m\u001b[0;34m\u001b[0m\u001b[0;34m\u001b[0m\u001b[0m\n",
      "\u001b[0;32m~/src/pdrtpy/pdrtpy/plot/plotbase.py\u001b[0m in \u001b[0;36m__init__\u001b[0;34m(self, tool)\u001b[0m\n\u001b[1;32m     32\u001b[0m                   \u001b[0;34m'#f781bf'\u001b[0m\u001b[0;34m,\u001b[0m \u001b[0;34m'#a65628'\u001b[0m\u001b[0;34m,\u001b[0m \u001b[0;34m'#984ea3'\u001b[0m\u001b[0;34m,\u001b[0m\u001b[0;34m\u001b[0m\u001b[0;34m\u001b[0m\u001b[0m\n\u001b[1;32m     33\u001b[0m                   '#999999', '#e41a1c', '#dede00']\n\u001b[0;32m---> 34\u001b[0;31m         \u001b[0mself\u001b[0m\u001b[0;34m.\u001b[0m\u001b[0m_plt\u001b[0m\u001b[0;34m.\u001b[0m\u001b[0mrc\u001b[0m\u001b[0;34m(\u001b[0m\u001b[0;34m'axes'\u001b[0m\u001b[0;34m,\u001b[0m \u001b[0mprop_cycle\u001b[0m\u001b[0;34m=\u001b[0m\u001b[0;34m(\u001b[0m\u001b[0mcycler\u001b[0m\u001b[0;34m(\u001b[0m\u001b[0;34m'color'\u001b[0m\u001b[0;34m,\u001b[0m  \u001b[0mself\u001b[0m\u001b[0;34m.\u001b[0m\u001b[0m_CB_color_cycle\u001b[0m\u001b[0;34m)\u001b[0m\u001b[0;34m)\u001b[0m\u001b[0;34m)\u001b[0m\u001b[0;34m\u001b[0m\u001b[0;34m\u001b[0m\u001b[0m\n\u001b[0m\u001b[1;32m     35\u001b[0m         \u001b[0;31m#print(\"Done PlotBase\")\u001b[0m\u001b[0;34m\u001b[0m\u001b[0;34m\u001b[0m\u001b[0;34m\u001b[0m\u001b[0m\n\u001b[1;32m     36\u001b[0m \u001b[0;34m\u001b[0m\u001b[0m\n",
      "\u001b[0;31mNameError\u001b[0m: name 'cycler' is not defined"
     ]
    }
   ],
   "source": [
    "mp = ModelPlot(m)"
   ]
  },
  {
   "cell_type": "markdown",
   "metadata": {},
   "source": [
    "##  Plot a particular model. You identify the model you want using the 'ratio' label in the table above"
   ]
  },
  {
   "cell_type": "code",
   "execution_count": null,
   "metadata": {},
   "outputs": [],
   "source": [
    "mp.plot(\"CI_609\",legend=False,contours=True,label=True)"
   ]
  },
  {
   "cell_type": "markdown",
   "metadata": {},
   "source": [
    "### The same plot with LaTeX formatting\n",
    "This is how to enable LaTeX formatting in text components.  All PDRT plotting tools have this option.  It changes the font and the way the colorbar scale factor is shown."
   ]
  },
  {
   "cell_type": "code",
   "execution_count": null,
   "metadata": {},
   "outputs": [],
   "source": [
    "mp.usetex(True)\n",
    "mp.plot(\"CI_609\",legend=False,contours=True,label=True)"
   ]
  },
  {
   "cell_type": "markdown",
   "metadata": {},
   "source": [
    "### Plot another one.  Add a few keywords for fancification."
   ]
  },
  {
   "cell_type": "code",
   "execution_count": null,
   "metadata": {},
   "outputs": [],
   "source": [
    "mp.plot(\"H200S2/H200S1\",legend=True,cmap='rainbow',norm='log',contours=False)"
   ]
  },
  {
   "cell_type": "markdown",
   "metadata": {},
   "source": [
    "### Get all the models that match CO(2-1), CO(4-3), and CI 609 micron and plot them. \n",
    "The `model_type` 'both' means get both ratios and intensities.  You could also ask for just 'ratio' or 'intensity'"
   ]
  },
  {
   "cell_type": "code",
   "execution_count": null,
   "metadata": {},
   "outputs": [],
   "source": [
    "mp.usetex(False)\n",
    "\n",
    "z=m.get_models([\"CI_609\",\"CO_21\",\"CO_43\"],model_type=\"both\")\n",
    "print(\"Found models: \",z.keys())\n",
    "for j in z:\n",
    "    mp.plot(j,label=True,norm='zscale')"
   ]
  },
  {
   "cell_type": "markdown",
   "metadata": {},
   "source": [
    "### What if you want to plot observations on the models?\n",
    "First create some Measurements to represent your observations."
   ]
  },
  {
   "cell_type": "code",
   "execution_count": null,
   "metadata": {},
   "outputs": [],
   "source": [
    "myunit = \"erg s-1 cm-2 sr-1\"\n",
    "mx=Measurement(data=[1.5E-6],uncertainty = StdDevUncertainty(0.5E-6),identifier=\"CI_609\",unit=myunit)\n",
    "my=Measurement(data=[2],uncertainty = StdDevUncertainty(1),identifier=\"CII_158/CI_609\",unit=myunit)\n",
    "mz=Measurement(data=[3E-6],uncertainty = StdDevUncertainty(0.5E-6),identifier=\"CII_158\",unit=myunit)\n",
    "mq=Measurement(data=[2.3],uncertainty=StdDevUncertainty(0.5),identifier='CO_43/CO_21')\n",
    "a = [mx,my,mz,mq]"
   ]
  },
  {
   "cell_type": "markdown",
   "metadata": {},
   "source": [
    "## The `overlay` method will plot one or more Measurements in the density-radiation field space.  \n",
    "The errors are indicated with shading. Note you can pass it both ratios and intensities for the Measurements. The keywords `xlim` and `ylim` allow control of axis limits."
   ]
  },
  {
   "cell_type": "code",
   "execution_count": null,
   "metadata": {},
   "outputs": [],
   "source": [
    "mp.overlay(measurements=a,yaxis_unit=\"erg s-1 cm-2\",ylim=[3E-3,1E2],xlim=[1E3,1E6])"
   ]
  },
  {
   "cell_type": "markdown",
   "metadata": {},
   "source": [
    "### You can overlay a observation on a model.\n",
    "Simply pass a Measurement into the `plot` method."
   ]
  },
  {
   "cell_type": "code",
   "execution_count": null,
   "metadata": {},
   "outputs": [],
   "source": [
    "mp.plot(\"CII_158/CI_609\",image=False,measurements=[my],legend=True,label=True)"
   ]
  },
  {
   "cell_type": "markdown",
   "metadata": {},
   "source": [
    "### Don't like the default colors?  Use your own!"
   ]
  },
  {
   "cell_type": "code",
   "execution_count": null,
   "metadata": {},
   "outputs": [],
   "source": [
    "mp.plot(\"CII_158/CI_609\",image=False,measurements=[my],legend=True,label=True,meas_color='red',shading=0.3)"
   ]
  },
  {
   "cell_type": "markdown",
   "metadata": {},
   "source": [
    "### Here is an example plotting only intensities.\n",
    "The code is smart enough to convert $K~km~s^{-1}$ to intensity units (as long as the Measurement has a RESTFREQ in the FITS header or given during creation) and change the legend label as appropriate."
   ]
  },
  {
   "cell_type": "code",
   "execution_count": null,
   "metadata": {},
   "outputs": [],
   "source": [
    "ma=Measurement(data=[0.75],uncertainty = StdDevUncertainty(0.3),identifier=\"CO_65\",unit=\"K km s-1\",restfreq=692*u.GHz)\n",
    "mb=Measurement(data=[1E-6],uncertainty = StdDevUncertainty(0.25E-6),identifier=\"H200S3\",unit=myunit)\n",
    "mc=Measurement(data=[2E-6],uncertainty = StdDevUncertainty(0.5E-6),identifier=\"H200S2\",unit=myunit)\n",
    "md=Measurement(data=[1.25E-4],uncertainty = StdDevUncertainty(0.5E-4),identifier=\"OI_145\",unit=myunit)\n",
    "a = [ma,mb,mc,md]\n",
    "mp.overlay(measurements=a,shading=0.5)"
   ]
  },
  {
   "cell_type": "markdown",
   "metadata": {},
   "source": [
    "### Finally, plot them using Draine units on the Y-axis and with dashed lines indicating errors rather than shading."
   ]
  },
  {
   "cell_type": "code",
   "execution_count": null,
   "metadata": {},
   "outputs": [],
   "source": [
    "mp.overlay(measurements=a,yaxis_unit='Draine',shading=0)"
   ]
  },
  {
   "cell_type": "markdown",
   "metadata": {},
   "source": [
    "## You can plot the phase space coverage of model intensities and ratios.\n",
    "These show lines of constant density and radiation field as a function of line intensity or intensity ratio from the models. These can be useful for making predictions of line strength or estimating density and radiation field when you don't have enough lines to fit with the LineRatioFit tool. The <code>phasespace</code> method takes two identifier strings and plots the (density, radiation field) model phase space for those lines.  Below are 3 examples."
   ]
  },
  {
   "cell_type": "code",
   "execution_count": null,
   "metadata": {},
   "outputs": [],
   "source": [
    "# Two ratios\n",
    "identifiers1 = [\"OI_63+CII_158/FIR\",\"OI_63/CII_158\"]\n",
    "# Two intensities\n",
    "identifiers2 = [\"CO_21\",\"OI_63\"]\n",
    "# An intensity and a ratio\n",
    "identifiers3 = [\"FEII_26\",\"CI_609/CO_43\"]"
   ]
  },
  {
   "cell_type": "markdown",
   "metadata": {},
   "source": [
    "### Use keywords to control the plots\n",
    "The `reciprocal` keyword controls whether to invert a model ratio before plotting, one boolean per axis.  In this case, the model is stored as OI 63$\\mu$m/CII 158$\\mu$m but we want CII 158$\\mu$m/OI 63$\\mu$m, so we set the y-axis `reciprocal` value to `True`.  You can limit the range of $n$ and $G_0$ plotted with the `dens_clip` and `rad_clip` keywords, which take astropy Quantities as their values.  Figures can be saved in common formats with `savefig`. "
   ]
  },
  {
   "cell_type": "code",
   "execution_count": null,
   "metadata": {},
   "outputs": [],
   "source": [
    "mp.phasespace(identifiers1,reciprocal=[False,True],nax1_clip=[100,1E6]*u.Unit(\"cm-3\"),nax2_clip=[10,1E6]*utils.habing_unit,)\n",
    "mp.savefig(\"CII_OI_FIR.png\",bbox_inches='tight',transparent=False,facecolor='white')"
   ]
  },
  {
   "cell_type": "markdown",
   "metadata": {},
   "source": [
    "### Model units are controlled by the clipping keywords.\n",
    "In this example, setting the `rad_clip` Quantity units to erg s$^{-1}$ cm$^{-2}$ changes the units of the model radiation field."
   ]
  },
  {
   "cell_type": "code",
   "execution_count": null,
   "metadata": {},
   "outputs": [],
   "source": [
    "mp.phasespace(identifiers2,reciprocal=[False,False],nax1_clip=[100,1E6]*u.Unit(\"cm-3\"),nax2_clip=[1,1E4]*utils._RFS_UNIT_)\n",
    "mp.savefig(\"OI_CO21.png\",bbox_inches='tight',facecolor='white')"
   ]
  },
  {
   "cell_type": "markdown",
   "metadata": {},
   "source": [
    "### You can mix ratios and intensities in phase space plots.\n",
    "Note here we also use Draine units for the radiation field."
   ]
  },
  {
   "cell_type": "code",
   "execution_count": null,
   "metadata": {},
   "outputs": [],
   "source": [
    "mp.phasespace(identifiers3,reciprocal=[False,False],nax1_clip=[100,1E6]*u.Unit(\"cm-3\"),nax2_clip=[10,1E6]*utils.draine_unit)\n",
    "mp.savefig(\"CI_CO.png\",bbox_inches='tight',transparent=False,facecolor='white')"
   ]
  },
  {
   "cell_type": "markdown",
   "metadata": {},
   "source": [
    "#### Here's an example showing that surface temperature is an available model.\n",
    "$H_2$ line intensity vs. $T_{surface}$"
   ]
  },
  {
   "cell_type": "code",
   "execution_count": null,
   "metadata": {},
   "outputs": [],
   "source": [
    "mp.phasespace([\"H200S3\",\"TS\"])"
   ]
  },
  {
   "cell_type": "code",
   "execution_count": null,
   "metadata": {},
   "outputs": [],
   "source": [
    "mp.phasespace(['FEII_1.60/FEII_1.64','FEII_1.64/FEII_5.34'],nax2_clip=[10,1E6]*u.Unit(\"cm-3\"),nax1_clip=[2E3,1E4]*u.Unit(\"K\"))\n",
    "mp.savefig(\"Ironlines.png\",bbox_inches='tight',transparent=False,facecolor='white')"
   ]
  },
  {
   "cell_type": "code",
   "execution_count": null,
   "metadata": {},
   "outputs": [],
   "source": []
  },
  {
   "cell_type": "markdown",
   "metadata": {},
   "source": [
    "### You can modify any figure through `matplotlib` methods\n",
    "All plot classes provide access to the underlying matplotlib Figure and AxesSubplot references in the`figure` and `axis` member variables. This is useful to change things that are not accessible through class plot keywords. In this example, we change the Y-axis label and move the legend.  To replot the figure, simply reference it in a cell."
   ]
  },
  {
   "cell_type": "code",
   "execution_count": null,
   "metadata": {},
   "outputs": [],
   "source": [
    "mp.axis.set_ylabel(\"$T_{surface}$ [K]\")\n",
    "mp.axis.legend_.set_bbox_to_anchor((1.01,0.77))"
   ]
  },
  {
   "cell_type": "code",
   "execution_count": null,
   "metadata": {},
   "outputs": [],
   "source": [
    "mp.figure"
   ]
  }
 ],
 "metadata": {
  "kernelspec": {
   "display_name": "Python 3",
   "language": "python",
   "name": "python3"
  },
  "language_info": {
   "codemirror_mode": {
    "name": "ipython",
    "version": 3
   },
   "file_extension": ".py",
   "mimetype": "text/x-python",
   "name": "python",
   "nbconvert_exporter": "python",
   "pygments_lexer": "ipython3",
   "version": "3.7.4"
  }
 },
 "nbformat": 4,
 "nbformat_minor": 4
}
